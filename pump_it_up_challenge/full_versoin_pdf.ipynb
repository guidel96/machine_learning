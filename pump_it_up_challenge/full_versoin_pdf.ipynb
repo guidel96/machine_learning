{
 "cells": [
  {
   "cell_type": "markdown",
   "metadata": {
    "toc": true
   },
   "source": [
    "<h1>Table of Contents<span class=\"tocSkip\"></span></h1>\n",
    "<div class=\"toc\"><ul class=\"toc-item\"><li><span><a href=\"#INFO-F-422----Statistical-Foundations-of-Machine-Learning\" data-toc-modified-id=\"INFO-F-422----Statistical-Foundations-of-Machine-Learning-1\"><span class=\"toc-item-num\">1&nbsp;&nbsp;</span>INFO-F-422 -  Statistical Foundations of Machine Learning</a></span></li><li><span><a href=\"#Pump-it-up-Data-challenge\" data-toc-modified-id=\"Pump-it-up-Data-challenge-2\"><span class=\"toc-item-num\">2&nbsp;&nbsp;</span>Pump it up Data challenge</a></span><ul class=\"toc-item\"><li><span><a href=\"#Introduction\" data-toc-modified-id=\"Introduction-2.1\"><span class=\"toc-item-num\">2.1&nbsp;&nbsp;</span>Introduction</a></span></li></ul></li><li><span><a href=\"#Exploratory-Data-Analysis-(EDA)\" data-toc-modified-id=\"Exploratory-Data-Analysis-(EDA)-3\"><span class=\"toc-item-num\">3&nbsp;&nbsp;</span>Exploratory Data Analysis (EDA)</a></span><ul class=\"toc-item\"><li><span><a href=\"#Dataset-description\" data-toc-modified-id=\"Dataset-description-3.1\"><span class=\"toc-item-num\">3.1&nbsp;&nbsp;</span>Dataset description</a></span><ul class=\"toc-item\"><li><span><a href=\"#Loading-the-data\" data-toc-modified-id=\"Loading-the-data-3.1.1\"><span class=\"toc-item-num\">3.1.1&nbsp;&nbsp;</span>Loading the data</a></span></li><li><span><a href=\"#First-look-at-the-data\" data-toc-modified-id=\"First-look-at-the-data-3.1.2\"><span class=\"toc-item-num\">3.1.2&nbsp;&nbsp;</span>First look at the data</a></span></li><li><span><a href=\"#Preselection-of-variables\" data-toc-modified-id=\"Preselection-of-variables-3.1.3\"><span class=\"toc-item-num\">3.1.3&nbsp;&nbsp;</span>Preselection of variables</a></span><ul class=\"toc-item\"><li><span><a href=\"#Small-summary\" data-toc-modified-id=\"Small-summary-3.1.3.1\"><span class=\"toc-item-num\">3.1.3.1&nbsp;&nbsp;</span>Small summary</a></span></li></ul></li><li><span><a href=\"#Univariate-Descriptive-Analysis\" data-toc-modified-id=\"Univariate-Descriptive-Analysis-3.1.4\"><span class=\"toc-item-num\">3.1.4&nbsp;&nbsp;</span>Univariate Descriptive Analysis</a></span><ul class=\"toc-item\"><li><ul class=\"toc-item\"><li><span><a href=\"#Independent-categorical-variables\" data-toc-modified-id=\"Independent-categorical-variables-3.1.4.0.1\"><span class=\"toc-item-num\">3.1.4.0.1&nbsp;&nbsp;</span>Independent categorical variables</a></span></li><li><span><a href=\"#Independent-continuous-variables\" data-toc-modified-id=\"Independent-continuous-variables-3.1.4.0.2\"><span class=\"toc-item-num\">3.1.4.0.2&nbsp;&nbsp;</span>Independent continuous variables</a></span></li><li><span><a href=\"#Dependent-variable-(Y)\" data-toc-modified-id=\"Dependent-variable-(Y)-3.1.4.0.3\"><span class=\"toc-item-num\">3.1.4.0.3&nbsp;&nbsp;</span>Dependent variable (Y)</a></span></li></ul></li></ul></li></ul></li></ul></li><li><span><a href=\"#Data-preprocessing\" data-toc-modified-id=\"Data-preprocessing-4\"><span class=\"toc-item-num\">4&nbsp;&nbsp;</span>Data preprocessing</a></span><ul class=\"toc-item\"><li><span><a href=\"#Missing-value-imputation\" data-toc-modified-id=\"Missing-value-imputation-4.1\"><span class=\"toc-item-num\">4.1&nbsp;&nbsp;</span>Missing value imputation</a></span><ul class=\"toc-item\"><li><span><a href=\"#Continuous-variables\" data-toc-modified-id=\"Continuous-variables-4.1.1\"><span class=\"toc-item-num\">4.1.1&nbsp;&nbsp;</span>Continuous variables</a></span><ul class=\"toc-item\"><li><span><a href=\"#longitude-and-lattitude:-replace-wrong-values-with-NA\" data-toc-modified-id=\"longitude-and-lattitude:-replace-wrong-values-with-NA-4.1.1.1\"><span class=\"toc-item-num\">4.1.1.1&nbsp;&nbsp;</span>longitude and lattitude: replace wrong values with NA</a></span></li></ul></li><li><span><a href=\"#Categorical-variables\" data-toc-modified-id=\"Categorical-variables-4.1.2\"><span class=\"toc-item-num\">4.1.2&nbsp;&nbsp;</span>Categorical variables</a></span><ul class=\"toc-item\"><li><span><a href=\"#Replacing-&quot;unknown&quot;-and-&quot;&quot;-(empty)-to-&quot;NA&quot;\" data-toc-modified-id=\"Replacing-&quot;unknown&quot;-and-&quot;&quot;-(empty)-to-&quot;NA&quot;-4.1.2.1\"><span class=\"toc-item-num\">4.1.2.1&nbsp;&nbsp;</span>Replacing \"unknown\" and \"\" (empty) to \"NA\"</a></span></li></ul></li><li><span><a href=\"#Dependent-variable-(Y)\" data-toc-modified-id=\"Dependent-variable-(Y)-4.1.3\"><span class=\"toc-item-num\">4.1.3&nbsp;&nbsp;</span>Dependent variable (Y)</a></span></li><li><span><a href=\"#Verify-for-the-test-set\" data-toc-modified-id=\"Verify-for-the-test-set-4.1.4\"><span class=\"toc-item-num\">4.1.4&nbsp;&nbsp;</span>Verify for the test set</a></span></li></ul></li><li><span><a href=\"#Feature-engineering\" data-toc-modified-id=\"Feature-engineering-4.2\"><span class=\"toc-item-num\">4.2&nbsp;&nbsp;</span>Feature engineering</a></span><ul class=\"toc-item\"><li><span><a href=\"#Variable-transformations\" data-toc-modified-id=\"Variable-transformations-4.2.1\"><span class=\"toc-item-num\">4.2.1&nbsp;&nbsp;</span>Variable transformations</a></span><ul class=\"toc-item\"><li><span><a href=\"#date_recorded:-categorical--->-continuous,-and-keep-only-the-year\" data-toc-modified-id=\"date_recorded:-categorical--->-continuous,-and-keep-only-the-year-4.2.1.1\"><span class=\"toc-item-num\">4.2.1.1&nbsp;&nbsp;</span><code>date_recorded</code>: categorical --&gt; continuous, and keep only the year</a></span></li><li><span><a href=\"#installer:-keep-only-the-5-most-represented-classes-and-group-other-answers-in-a-sixth-&quot;other&quot;-class\" data-toc-modified-id=\"installer:-keep-only-the-5-most-represented-classes-and-group-other-answers-in-a-sixth-&quot;other&quot;-class-4.2.1.2\"><span class=\"toc-item-num\">4.2.1.2&nbsp;&nbsp;</span><code>installer</code>: keep only the 5 most represented classes and group other answers in a sixth \"other\" class</a></span></li><li><span><a href=\"#lowercase-the-class-names-of-scheme_management\" data-toc-modified-id=\"lowercase-the-class-names-of-scheme_management-4.2.1.3\"><span class=\"toc-item-num\">4.2.1.3&nbsp;&nbsp;</span>lowercase the class names of <code>scheme_management</code></a></span></li><li><span><a href=\"#Recoding-'unknown'-and-''-as-&quot;NA&quot;\" data-toc-modified-id=\"Recoding-'unknown'-and-''-as-&quot;NA&quot;-4.2.1.4\"><span class=\"toc-item-num\">4.2.1.4&nbsp;&nbsp;</span>Recoding 'unknown' and '' as \"NA\"</a></span></li></ul></li><li><span><a href=\"#Outliers\" data-toc-modified-id=\"Outliers-4.2.2\"><span class=\"toc-item-num\">4.2.2&nbsp;&nbsp;</span>Outliers</a></span></li><li><span><a href=\"#Scaling-the-data\" data-toc-modified-id=\"Scaling-the-data-4.2.3\"><span class=\"toc-item-num\">4.2.3&nbsp;&nbsp;</span>Scaling the data</a></span></li></ul></li><li><span><a href=\"#Feature-selection\" data-toc-modified-id=\"Feature-selection-4.3\"><span class=\"toc-item-num\">4.3&nbsp;&nbsp;</span>Feature selection</a></span><ul class=\"toc-item\"><li><span><a href=\"#Association-between-categorical-variables:\" data-toc-modified-id=\"Association-between-categorical-variables:-4.3.1\"><span class=\"toc-item-num\">4.3.1&nbsp;&nbsp;</span>Association between categorical variables:</a></span><ul class=\"toc-item\"><li><span><a href=\"#Categorical-variables:-dependencies\" data-toc-modified-id=\"Categorical-variables:-dependencies-4.3.1.1\"><span class=\"toc-item-num\">4.3.1.1&nbsp;&nbsp;</span>Categorical variables: dependencies</a></span></li><li><span><a href=\"#Categorical-variables:-Adapted-mRMR\" data-toc-modified-id=\"Categorical-variables:-Adapted-mRMR-4.3.1.2\"><span class=\"toc-item-num\">4.3.1.2&nbsp;&nbsp;</span>Categorical variables: Adapted mRMR</a></span></li></ul></li><li><span><a href=\"#Association-between-continuous-variables:\" data-toc-modified-id=\"Association-between-continuous-variables:-4.3.2\"><span class=\"toc-item-num\">4.3.2&nbsp;&nbsp;</span>Association between continuous variables:</a></span><ul class=\"toc-item\"><li><span><a href=\"#Continuous-variables:-correlations\" data-toc-modified-id=\"Continuous-variables:-correlations-4.3.2.1\"><span class=\"toc-item-num\">4.3.2.1&nbsp;&nbsp;</span>Continuous variables: correlations</a></span></li></ul></li><li><span><a href=\"#Summary\" data-toc-modified-id=\"Summary-4.3.3\"><span class=\"toc-item-num\">4.3.3&nbsp;&nbsp;</span>Summary</a></span></li></ul></li></ul></li><li><span><a href=\"#Model-selection\" data-toc-modified-id=\"Model-selection-5\"><span class=\"toc-item-num\">5&nbsp;&nbsp;</span>Model selection</a></span><ul class=\"toc-item\"><li><span><a href=\"#Procedure-used-to-validate-a-model-&amp;-its-hyperparameters\" data-toc-modified-id=\"Procedure-used-to-validate-a-model-&amp;-its-hyperparameters-5.1\"><span class=\"toc-item-num\">5.1&nbsp;&nbsp;</span>Procedure used to validate a model &amp; its hyperparameters</a></span></li><li><span><a href=\"#Functions-used\" data-toc-modified-id=\"Functions-used-5.2\"><span class=\"toc-item-num\">5.2&nbsp;&nbsp;</span>Functions used</a></span></li><li><span><a href=\"#Random-forest\" data-toc-modified-id=\"Random-forest-5.3\"><span class=\"toc-item-num\">5.3&nbsp;&nbsp;</span>Random forest</a></span><ul class=\"toc-item\"><li><span><a href=\"#Hyperparameters-tuning\" data-toc-modified-id=\"Hyperparameters-tuning-5.3.1\"><span class=\"toc-item-num\">5.3.1&nbsp;&nbsp;</span>Hyperparameters tuning</a></span></li><li><span><a href=\"#Final-model-performance\" data-toc-modified-id=\"Final-model-performance-5.3.2\"><span class=\"toc-item-num\">5.3.2&nbsp;&nbsp;</span>Final model performance</a></span><ul class=\"toc-item\"><li><span><a href=\"#Interpretation:\" data-toc-modified-id=\"Interpretation:-5.3.2.1\"><span class=\"toc-item-num\">5.3.2.1&nbsp;&nbsp;</span>Interpretation:</a></span></li></ul></li><li><span><a href=\"#Performance-on-the-test-set\" data-toc-modified-id=\"Performance-on-the-test-set-5.3.3\"><span class=\"toc-item-num\">5.3.3&nbsp;&nbsp;</span>Performance on the test set</a></span></li></ul></li><li><span><a href=\"#Elastic-net-(EN)-classifier\" data-toc-modified-id=\"Elastic-net-(EN)-classifier-5.4\"><span class=\"toc-item-num\">5.4&nbsp;&nbsp;</span>Elastic net (EN) classifier</a></span><ul class=\"toc-item\"><li><span><a href=\"#Hyperparameters-tuning\" data-toc-modified-id=\"Hyperparameters-tuning-5.4.1\"><span class=\"toc-item-num\">5.4.1&nbsp;&nbsp;</span>Hyperparameters tuning</a></span></li><li><span><a href=\"#Hyperparameters-tuning\" data-toc-modified-id=\"Hyperparameters-tuning-5.4.2\"><span class=\"toc-item-num\">5.4.2&nbsp;&nbsp;</span>Hyperparameters tuning</a></span><ul class=\"toc-item\"><li><span><a href=\"#Interpretation:\" data-toc-modified-id=\"Interpretation:-5.4.2.1\"><span class=\"toc-item-num\">5.4.2.1&nbsp;&nbsp;</span>Interpretation:</a></span></li></ul></li><li><span><a href=\"#Performance-on-the-test-set\" data-toc-modified-id=\"Performance-on-the-test-set-5.4.3\"><span class=\"toc-item-num\">5.4.3&nbsp;&nbsp;</span>Performance on the test set</a></span></li></ul></li><li><span><a href=\"#KNN\" data-toc-modified-id=\"KNN-5.5\"><span class=\"toc-item-num\">5.5&nbsp;&nbsp;</span>KNN</a></span><ul class=\"toc-item\"><li><span><a href=\"#Pre-processing\" data-toc-modified-id=\"Pre-processing-5.5.1\"><span class=\"toc-item-num\">5.5.1&nbsp;&nbsp;</span>Pre-processing</a></span></li><li><span><a href=\"#Used-functions\" data-toc-modified-id=\"Used-functions-5.5.2\"><span class=\"toc-item-num\">5.5.2&nbsp;&nbsp;</span>Used functions</a></span></li><li><span><a href=\"#Hyperparameter-tuning\" data-toc-modified-id=\"Hyperparameter-tuning-5.5.3\"><span class=\"toc-item-num\">5.5.3&nbsp;&nbsp;</span>Hyperparameter tuning</a></span></li><li><span><a href=\"#Performance-on-the-test-set\" data-toc-modified-id=\"Performance-on-the-test-set-5.5.4\"><span class=\"toc-item-num\">5.5.4&nbsp;&nbsp;</span>Performance on the test set</a></span></li></ul></li><li><span><a href=\"#Conclusion-model-selection\" data-toc-modified-id=\"Conclusion-model-selection-5.6\"><span class=\"toc-item-num\">5.6&nbsp;&nbsp;</span>Conclusion model selection</a></span></li></ul></li><li><span><a href=\"#Alternative-models-:-Generalized-Boosting-Model\" data-toc-modified-id=\"Alternative-models-:-Generalized-Boosting-Model-6\"><span class=\"toc-item-num\">6&nbsp;&nbsp;</span>Alternative models : Generalized Boosting Model</a></span><ul class=\"toc-item\"><li><span><a href=\"#GBM-Model:\" data-toc-modified-id=\"GBM-Model:-6.1\"><span class=\"toc-item-num\">6.1&nbsp;&nbsp;</span>GBM Model:</a></span></li><li><span><a href=\"#Finetunning-the-GBM-hyperparameters\" data-toc-modified-id=\"Finetunning-the-GBM-hyperparameters-6.2\"><span class=\"toc-item-num\">6.2&nbsp;&nbsp;</span>Finetunning the GBM hyperparameters</a></span></li><li><span><a href=\"#RUN-Gradient-Boosting-Model\" data-toc-modified-id=\"RUN-Gradient-Boosting-Model-6.3\"><span class=\"toc-item-num\">6.3&nbsp;&nbsp;</span>RUN Gradient Boosting Model</a></span></li></ul></li><li><span><a href=\"#Predictions-with-the-best-model\" data-toc-modified-id=\"Predictions-with-the-best-model-7\"><span class=\"toc-item-num\">7&nbsp;&nbsp;</span>Predictions with the best model</a></span><ul class=\"toc-item\"><li><span><a href=\"#Submissions-on-the-website\" data-toc-modified-id=\"Submissions-on-the-website-7.1\"><span class=\"toc-item-num\">7.1&nbsp;&nbsp;</span>Submissions on the website</a></span></li></ul></li><li><span><a href=\"#Conclusion\" data-toc-modified-id=\"Conclusion-8\"><span class=\"toc-item-num\">8&nbsp;&nbsp;</span>Conclusion</a></span><ul class=\"toc-item\"><li><span><a href=\"#Remarks-about-the-data-preprocessing\" data-toc-modified-id=\"Remarks-about-the-data-preprocessing-8.1\"><span class=\"toc-item-num\">8.1&nbsp;&nbsp;</span>Remarks about the data preprocessing</a></span></li><li><span><a href=\"#Model-selection\" data-toc-modified-id=\"Model-selection-8.2\"><span class=\"toc-item-num\">8.2&nbsp;&nbsp;</span>Model selection</a></span></li><li><span><a href=\"#Summarizing-Accuracy-results\" data-toc-modified-id=\"Summarizing-Accuracy-results-8.3\"><span class=\"toc-item-num\">8.3&nbsp;&nbsp;</span>Summarizing Accuracy results</a></span></li></ul></li></ul></div>"
   ]
  },
  {
   "cell_type": "markdown",
   "metadata": {},
   "source": [
    "# INFO-F-422 -  Statistical Foundations of Machine Learning \n",
    "\n",
    "Saad Ghallab - __[saad.ghallab@ulb.be](mailto:saad.ghallab@ulb.be) - Student ID 000389372  \n",
    "Tanguy Jooris - __[tanguy.jooris@ulb.be](mailto:tanguy.jooris@ulb.be) - Student ID 000424332  \n",
    "Guillaume Delande - __[guillaume.delande@ulb.be](mailto:guillaume.delande@ulb.be) - Student ID 000524873__  \n",
    "\n",
    "Video presentation: https://youtu.be/aDi284OK6JA\n",
    "\n",
    "**Team name**: ML Warriors\n",
    "\n",
    "# Pump it up Data challenge"
   ]
  },
  {
   "cell_type": "markdown",
   "metadata": {},
   "source": [
    "## Introduction\n",
    "\n",
    "This notebook represents our submission to the *Pump It Up: Data Mining the Water Tapble* Challenge, hosted by DrivenData. The Challenge is hosted on the following address: https://www.drivendata.org/competitions/7/pump-it-up-data-mining-the-water-table/page/23/\n",
    "\n",
    "\n",
    "The goal of this work is to predict the status of water pumps in Tanzania. A smart understanding of which waterpoints will fail can improve maintenance operations and ensure that clean, potable water is available to communities across Tanzania.  \n",
    "\n",
    "Using data from Taarifa and the Tanzanian Ministry of Water, the goal is to predict which pumps are functional, which need some repairs, and which don't work at all. In order to conduct this classification problem, we are provided information about what kind of pump is operating, when it was installed, and how it is managed.  \n",
    "\n",
    "\n",
    "**NB**: This notebook is to demonstrate our methodology. Therefore, we made some adjustements (mainly on the ranges of hyperparameters we consider), so that it runs in a reasonable amount of time. The code is therefore very similar, but is optimized to run faster. If you want our complete results, we invite you to look into the pdf attached. "
   ]
  },
  {
   "cell_type": "markdown",
   "metadata": {},
   "source": [
    "# Exploratory Data Analysis (EDA)\n",
    "\n",
    "This part aims at taking a first look at the data, and getting familiar with the task that is asked."
   ]
  },
  {
   "cell_type": "markdown",
   "metadata": {},
   "source": [
    "## Dataset description\n"
   ]
  },
  {
   "cell_type": "markdown",
   "metadata": {},
   "source": [
    "### Loading the data"
   ]
  },
  {
   "cell_type": "code",
   "execution_count": 1,
   "metadata": {},
   "outputs": [],
   "source": [
    "#Load the data\n",
    "#training_Y <-read.csv(\"/Users/ghallabsaad/Desktop/STAT/BIGDA/422 Stat foundation of ML/Project/Data/training_set_labels.csv\",stringsAsFactors = T)\n",
    "#training_X <-read.csv(\"/Users/ghallabsaad/Desktop/STAT/BIGDA/422 Stat foundation of ML/Project/Data/training_set_values.csv\",stringsAsFactors = T)\n",
    "#test_X <-read.csv(\"/Users/ghallabsaad/Desktop/STAT/BIGDA/422 Stat foundation of ML/Project/Data/test_set_values.csv\",stringsAsFactors = T)\n",
    "\n",
    "#Load the data\n",
    "training_Y <-read.csv(\"./training_set_labels.csv\",stringsAsFactors = T)\n",
    "training_X <-read.csv(\"./training_set_values.csv\",stringsAsFactors = T)\n",
    "test_X <-read.csv(\"./test_set_values.csv\",stringsAsFactors = T)"
   ]
  },
  {
   "cell_type": "markdown",
   "metadata": {},
   "source": [
    "### First look at the data"
   ]
  },
  {
   "cell_type": "markdown",
   "metadata": {},
   "source": [
    "In this part we present some very basic information about the dataset."
   ]
  },
  {
   "cell_type": "code",
   "execution_count": 2,
   "metadata": {},
   "outputs": [
    {
     "data": {
      "text/html": [
       "<ol class=list-inline>\n",
       "\t<li>'functional'</li>\n",
       "\t<li>'functional needs repair'</li>\n",
       "\t<li>'non functional'</li>\n",
       "</ol>\n"
      ],
      "text/latex": [
       "\\begin{enumerate*}\n",
       "\\item 'functional'\n",
       "\\item 'functional needs repair'\n",
       "\\item 'non functional'\n",
       "\\end{enumerate*}\n"
      ],
      "text/markdown": [
       "1. 'functional'\n",
       "2. 'functional needs repair'\n",
       "3. 'non functional'\n",
       "\n",
       "\n"
      ],
      "text/plain": [
       "[1] \"functional\"              \"functional needs repair\"\n",
       "[3] \"non functional\"         "
      ]
     },
     "metadata": {},
     "output_type": "display_data"
    }
   ],
   "source": [
    "levels(training_Y[,'status_group']) # levels/classes of the dependent variable (Y)"
   ]
  },
  {
   "cell_type": "code",
   "execution_count": 3,
   "metadata": {},
   "outputs": [
    {
     "data": {
      "text/html": [
       "<ol class=list-inline>\n",
       "\t<li>'id'</li>\n",
       "\t<li>'amount_tsh'</li>\n",
       "\t<li>'date_recorded'</li>\n",
       "\t<li>'funder'</li>\n",
       "\t<li>'gps_height'</li>\n",
       "\t<li>'installer'</li>\n",
       "\t<li>'longitude'</li>\n",
       "\t<li>'latitude'</li>\n",
       "\t<li>'wpt_name'</li>\n",
       "\t<li>'num_private'</li>\n",
       "\t<li>'basin'</li>\n",
       "\t<li>'subvillage'</li>\n",
       "\t<li>'region'</li>\n",
       "\t<li>'region_code'</li>\n",
       "\t<li>'district_code'</li>\n",
       "\t<li>'lga'</li>\n",
       "\t<li>'ward'</li>\n",
       "\t<li>'population'</li>\n",
       "\t<li>'public_meeting'</li>\n",
       "\t<li>'recorded_by'</li>\n",
       "\t<li>'scheme_management'</li>\n",
       "\t<li>'scheme_name'</li>\n",
       "\t<li>'permit'</li>\n",
       "\t<li>'construction_year'</li>\n",
       "\t<li>'extraction_type'</li>\n",
       "\t<li>'extraction_type_group'</li>\n",
       "\t<li>'extraction_type_class'</li>\n",
       "\t<li>'management'</li>\n",
       "\t<li>'management_group'</li>\n",
       "\t<li>'payment'</li>\n",
       "\t<li>'payment_type'</li>\n",
       "\t<li>'water_quality'</li>\n",
       "\t<li>'quality_group'</li>\n",
       "\t<li>'quantity'</li>\n",
       "\t<li>'quantity_group'</li>\n",
       "\t<li>'source'</li>\n",
       "\t<li>'source_type'</li>\n",
       "\t<li>'source_class'</li>\n",
       "\t<li>'waterpoint_type'</li>\n",
       "\t<li>'waterpoint_type_group'</li>\n",
       "</ol>\n"
      ],
      "text/latex": [
       "\\begin{enumerate*}\n",
       "\\item 'id'\n",
       "\\item 'amount\\_tsh'\n",
       "\\item 'date\\_recorded'\n",
       "\\item 'funder'\n",
       "\\item 'gps\\_height'\n",
       "\\item 'installer'\n",
       "\\item 'longitude'\n",
       "\\item 'latitude'\n",
       "\\item 'wpt\\_name'\n",
       "\\item 'num\\_private'\n",
       "\\item 'basin'\n",
       "\\item 'subvillage'\n",
       "\\item 'region'\n",
       "\\item 'region\\_code'\n",
       "\\item 'district\\_code'\n",
       "\\item 'lga'\n",
       "\\item 'ward'\n",
       "\\item 'population'\n",
       "\\item 'public\\_meeting'\n",
       "\\item 'recorded\\_by'\n",
       "\\item 'scheme\\_management'\n",
       "\\item 'scheme\\_name'\n",
       "\\item 'permit'\n",
       "\\item 'construction\\_year'\n",
       "\\item 'extraction\\_type'\n",
       "\\item 'extraction\\_type\\_group'\n",
       "\\item 'extraction\\_type\\_class'\n",
       "\\item 'management'\n",
       "\\item 'management\\_group'\n",
       "\\item 'payment'\n",
       "\\item 'payment\\_type'\n",
       "\\item 'water\\_quality'\n",
       "\\item 'quality\\_group'\n",
       "\\item 'quantity'\n",
       "\\item 'quantity\\_group'\n",
       "\\item 'source'\n",
       "\\item 'source\\_type'\n",
       "\\item 'source\\_class'\n",
       "\\item 'waterpoint\\_type'\n",
       "\\item 'waterpoint\\_type\\_group'\n",
       "\\end{enumerate*}\n"
      ],
      "text/markdown": [
       "1. 'id'\n",
       "2. 'amount_tsh'\n",
       "3. 'date_recorded'\n",
       "4. 'funder'\n",
       "5. 'gps_height'\n",
       "6. 'installer'\n",
       "7. 'longitude'\n",
       "8. 'latitude'\n",
       "9. 'wpt_name'\n",
       "10. 'num_private'\n",
       "11. 'basin'\n",
       "12. 'subvillage'\n",
       "13. 'region'\n",
       "14. 'region_code'\n",
       "15. 'district_code'\n",
       "16. 'lga'\n",
       "17. 'ward'\n",
       "18. 'population'\n",
       "19. 'public_meeting'\n",
       "20. 'recorded_by'\n",
       "21. 'scheme_management'\n",
       "22. 'scheme_name'\n",
       "23. 'permit'\n",
       "24. 'construction_year'\n",
       "25. 'extraction_type'\n",
       "26. 'extraction_type_group'\n",
       "27. 'extraction_type_class'\n",
       "28. 'management'\n",
       "29. 'management_group'\n",
       "30. 'payment'\n",
       "31. 'payment_type'\n",
       "32. 'water_quality'\n",
       "33. 'quality_group'\n",
       "34. 'quantity'\n",
       "35. 'quantity_group'\n",
       "36. 'source'\n",
       "37. 'source_type'\n",
       "38. 'source_class'\n",
       "39. 'waterpoint_type'\n",
       "40. 'waterpoint_type_group'\n",
       "\n",
       "\n"
      ],
      "text/plain": [
       " [1] \"id\"                    \"amount_tsh\"            \"date_recorded\"        \n",
       " [4] \"funder\"                \"gps_height\"            \"installer\"            \n",
       " [7] \"longitude\"             \"latitude\"              \"wpt_name\"             \n",
       "[10] \"num_private\"           \"basin\"                 \"subvillage\"           \n",
       "[13] \"region\"                \"region_code\"           \"district_code\"        \n",
       "[16] \"lga\"                   \"ward\"                  \"population\"           \n",
       "[19] \"public_meeting\"        \"recorded_by\"           \"scheme_management\"    \n",
       "[22] \"scheme_name\"           \"permit\"                \"construction_year\"    \n",
       "[25] \"extraction_type\"       \"extraction_type_group\" \"extraction_type_class\"\n",
       "[28] \"management\"            \"management_group\"      \"payment\"              \n",
       "[31] \"payment_type\"          \"water_quality\"         \"quality_group\"        \n",
       "[34] \"quantity\"              \"quantity_group\"        \"source\"               \n",
       "[37] \"source_type\"           \"source_class\"          \"waterpoint_type\"      \n",
       "[40] \"waterpoint_type_group\""
      ]
     },
     "metadata": {},
     "output_type": "display_data"
    },
    {
     "data": {
      "text/html": [
       "<table>\n",
       "<thead><tr><th scope=col>id</th><th scope=col>amount_tsh</th><th scope=col>date_recorded</th><th scope=col>funder</th><th scope=col>gps_height</th><th scope=col>installer</th><th scope=col>longitude</th><th scope=col>latitude</th><th scope=col>wpt_name</th><th scope=col>num_private</th><th scope=col>...</th><th scope=col>payment_type</th><th scope=col>water_quality</th><th scope=col>quality_group</th><th scope=col>quantity</th><th scope=col>quantity_group</th><th scope=col>source</th><th scope=col>source_type</th><th scope=col>source_class</th><th scope=col>waterpoint_type</th><th scope=col>waterpoint_type_group</th></tr></thead>\n",
       "<tbody>\n",
       "\t<tr><td>69572                      </td><td>6000                       </td><td>2011-03-14                 </td><td>Roman                      </td><td>1390                       </td><td>Roman                      </td><td>34.93809                   </td><td>-9.856322                  </td><td>none                       </td><td>0                          </td><td>...                        </td><td>annually                   </td><td>soft                       </td><td>good                       </td><td>enough                     </td><td>enough                     </td><td>spring                     </td><td>spring                     </td><td>groundwater                </td><td>communal standpipe         </td><td>communal standpipe         </td></tr>\n",
       "\t<tr><td> 8776                      </td><td>   0                       </td><td>2013-03-06                 </td><td>Grumeti                    </td><td>1399                       </td><td>GRUMETI                    </td><td>34.69877                   </td><td>-2.147466                  </td><td>Zahanati                   </td><td>0                          </td><td>...                        </td><td>never pay                  </td><td>soft                       </td><td>good                       </td><td>insufficient               </td><td>insufficient               </td><td>rainwater harvesting       </td><td>rainwater harvesting       </td><td>surface                    </td><td>communal standpipe         </td><td>communal standpipe         </td></tr>\n",
       "\t<tr><td>34310                      </td><td>  25                       </td><td>2013-02-25                 </td><td>Lottery Club               </td><td> 686                       </td><td>World vision               </td><td>37.46066                   </td><td>-3.821329                  </td><td>Kwa Mahundi                </td><td>0                          </td><td>...                        </td><td>per bucket                 </td><td>soft                       </td><td>good                       </td><td>enough                     </td><td>enough                     </td><td>dam                        </td><td>dam                        </td><td>surface                    </td><td>communal standpipe multiple</td><td>communal standpipe         </td></tr>\n",
       "</tbody>\n",
       "</table>\n"
      ],
      "text/latex": [
       "\\begin{tabular}{r|llllllllllllllllllllllllllllllllllllllll}\n",
       " id & amount\\_tsh & date\\_recorded & funder & gps\\_height & installer & longitude & latitude & wpt\\_name & num\\_private & ... & payment\\_type & water\\_quality & quality\\_group & quantity & quantity\\_group & source & source\\_type & source\\_class & waterpoint\\_type & waterpoint\\_type\\_group\\\\\n",
       "\\hline\n",
       "\t 69572                       & 6000                        & 2011-03-14                  & Roman                       & 1390                        & Roman                       & 34.93809                    & -9.856322                   & none                        & 0                           & ...                         & annually                    & soft                        & good                        & enough                      & enough                      & spring                      & spring                      & groundwater                 & communal standpipe          & communal standpipe         \\\\\n",
       "\t  8776                       &    0                        & 2013-03-06                  & Grumeti                     & 1399                        & GRUMETI                     & 34.69877                    & -2.147466                   & Zahanati                    & 0                           & ...                         & never pay                   & soft                        & good                        & insufficient                & insufficient                & rainwater harvesting        & rainwater harvesting        & surface                     & communal standpipe          & communal standpipe         \\\\\n",
       "\t 34310                       &   25                        & 2013-02-25                  & Lottery Club                &  686                        & World vision                & 37.46066                    & -3.821329                   & Kwa Mahundi                 & 0                           & ...                         & per bucket                  & soft                        & good                        & enough                      & enough                      & dam                         & dam                         & surface                     & communal standpipe multiple & communal standpipe         \\\\\n",
       "\\end{tabular}\n"
      ],
      "text/markdown": [
       "\n",
       "| id | amount_tsh | date_recorded | funder | gps_height | installer | longitude | latitude | wpt_name | num_private | ... | payment_type | water_quality | quality_group | quantity | quantity_group | source | source_type | source_class | waterpoint_type | waterpoint_type_group |\n",
       "|---|---|---|---|---|---|---|---|---|---|---|---|---|---|---|---|---|---|---|---|---|\n",
       "| 69572                       | 6000                        | 2011-03-14                  | Roman                       | 1390                        | Roman                       | 34.93809                    | -9.856322                   | none                        | 0                           | ...                         | annually                    | soft                        | good                        | enough                      | enough                      | spring                      | spring                      | groundwater                 | communal standpipe          | communal standpipe          |\n",
       "|  8776                       |    0                        | 2013-03-06                  | Grumeti                     | 1399                        | GRUMETI                     | 34.69877                    | -2.147466                   | Zahanati                    | 0                           | ...                         | never pay                   | soft                        | good                        | insufficient                | insufficient                | rainwater harvesting        | rainwater harvesting        | surface                     | communal standpipe          | communal standpipe          |\n",
       "| 34310                       |   25                        | 2013-02-25                  | Lottery Club                |  686                        | World vision                | 37.46066                    | -3.821329                   | Kwa Mahundi                 | 0                           | ...                         | per bucket                  | soft                        | good                        | enough                      | enough                      | dam                         | dam                         | surface                     | communal standpipe multiple | communal standpipe          |\n",
       "\n"
      ],
      "text/plain": [
       "  id    amount_tsh date_recorded funder       gps_height installer    longitude\n",
       "1 69572 6000       2011-03-14    Roman        1390       Roman        34.93809 \n",
       "2  8776    0       2013-03-06    Grumeti      1399       GRUMETI      34.69877 \n",
       "3 34310   25       2013-02-25    Lottery Club  686       World vision 37.46066 \n",
       "  latitude  wpt_name    num_private ... payment_type water_quality\n",
       "1 -9.856322 none        0           ... annually     soft         \n",
       "2 -2.147466 Zahanati    0           ... never pay    soft         \n",
       "3 -3.821329 Kwa Mahundi 0           ... per bucket   soft         \n",
       "  quality_group quantity     quantity_group source              \n",
       "1 good          enough       enough         spring              \n",
       "2 good          insufficient insufficient   rainwater harvesting\n",
       "3 good          enough       enough         dam                 \n",
       "  source_type          source_class waterpoint_type            \n",
       "1 spring               groundwater  communal standpipe         \n",
       "2 rainwater harvesting surface      communal standpipe         \n",
       "3 dam                  surface      communal standpipe multiple\n",
       "  waterpoint_type_group\n",
       "1 communal standpipe   \n",
       "2 communal standpipe   \n",
       "3 communal standpipe   "
      ]
     },
     "metadata": {},
     "output_type": "display_data"
    }
   ],
   "source": [
    "colnames(training_X) #variable names\n",
    "head(training_X,3) #quick view od first 6 observations/samples"
   ]
  },
  {
   "cell_type": "code",
   "execution_count": 4,
   "metadata": {},
   "outputs": [
    {
     "name": "stdout",
     "output_type": "stream",
     "text": [
      "[1] \"The training dataset contains 59400 observations/samples and 40 independent variables\"\n",
      "[1] \"The test dataset contains 14850 observations/samples and 40 independent variables\"\n"
     ]
    }
   ],
   "source": [
    "print(paste(\"The training dataset contains\",dim(training_X)[1],\"observations/samples and\",dim(training_X)[2],\"independent variables\"))\n",
    "print(paste(\"The test dataset contains\",dim(test_X)[1],\"observations/samples and\",dim(test_X)[2],\"independent variables\"))"
   ]
  },
  {
   "cell_type": "markdown",
   "metadata": {},
   "source": [
    "The training set consists of 59 400 (labeled) observations and 39 (40 - ```id```) independent variables. The target variable is the status of water pumps, refered to as ```status_group``` in the dataset, and consists of three classes: 'functional', 'functional needs repair', and 'non functional'. The test set contains 14 850 (unlabeled) observations and (of course) 40 independent variables.\n",
    "\n",
    "It must be pointed out that the original dataset contains a majority of categorical variables."
   ]
  },
  {
   "cell_type": "markdown",
   "metadata": {},
   "source": [
    "### Preselection of variables\n",
    "Before further analyzing the variables from a more technical point of view, we can already make a first selection and keep only the variables that might make sense to use in our models. For instance, it does not seem relevant to consider the funder of the well nor the person who recorded the observation when predicting the status of a water pump. This approach is very conservative as we remove only the variables for whom we are sure they don't make any sense for our prediction."
   ]
  },
  {
   "cell_type": "markdown",
   "metadata": {},
   "source": [
    "| NAME                        | DESCRIPTION                                              | RELEVANT | COMMENT AND INTUITION                                                                                                                                         |\n",
    "|-----------------------------|----------------------------------------------------------|----------|---------------------------------------------------------------------------------------------------------------------------------------------------------------|\n",
    "| ```amount_tsh```            | Total static head (amount water available to waterpoint) |          | The more water is available, the more the water pump might be used and the more important it is to keep it operable.                                          |\n",
    "| ```date_recorded```         | The date the row was entered                             |          | The oldest the date, the more risk the info about the waterpump is outdated. Might discard the very old rows. Needs to be converted into continuous variable. |\n",
    "| ```funder```                | Who funded the well                                      | No       | The name of the funder should not have an impact on the status of the water pump.                                                                             |\n",
    "| ```gps_height```            | Altitude of the well                                     |          | Extreme altitude might be more difficult to access and therefore more difficult to repair.                                                                    |\n",
    "| ```installer```             | Organization that installed the well                     |          | Might represent the build quality of the pump.                                                                                                                |\n",
    "| ```longitude```             | GPS coordinate                                           |          | Location takes into consideration many parameters (e.g. type of use, population that uses it).                                                                |\n",
    "| ```latitude```              | GPS coordinate                                           |          |                                                                                                                                                               |\n",
    "| ```wpt_name```              | Name of the waterpoint if there is one                   | No       | Should be unique, which is not relevant for predictions.                                                                                                      |\n",
    "| ```num_private```           |                                                          |          |                                                                                                                                                               |\n",
    "| ```basin```                 | Geographic water basin                                   |          |                                                                                                                                                               |\n",
    "| ```subvillage```            | Geographic location                                      |          |                                                                                                                                                               |\n",
    "| ```region```                | Geographic location                                      |          |                                                                                                                                                               |\n",
    "| ```region_code```           | Geographic location (coded)                              |          |                                                                                                                                                               |\n",
    "| ```district_code```         | Geographic location (coded)                              |          |                                                                                                                                                               |\n",
    "| ```lga```                   | Geographic location                                      |          |                                                                                                                                                               |\n",
    "| ```ward```                  | Geographic location                                      |          |                                                                                                                                                               |\n",
    "| ```population```            | Population around the well                               |          |                                                                                                                                                               |\n",
    "| ```public_meeting```        | True/False                                               |          | Not clear what this is. A public meeting might make it easier to raise concern about non-operable wells.                                                      |\n",
    "| ```recorded_by```           | Group entering this row of data                          | No       |                                                                                                                                                               |\n",
    "| ```scheme_management```     | Who operates the waterpoint                              |          | Poor management of the waterpoint might have an impact on the well's wear and tear.                                                                           |\n",
    "| ```scheme_name```           | Who operates the waterpoint                              | No       |                                                                                                                                                               |\n",
    "| ```permit```                | If the waterpoint is permitted                           |          | Non-permitted waterpoints might have less maintenance.                                                                                                        |\n",
    "| ```construction_year```     | Year the waterpoint was constructed                      |          | Older waterpoints might be more teared down and have a less durable build.                                                                                    |\n",
    "| ```extraction_type```       | The kind of extraction the waterpoint uses               |          | Some types of extraction might tear the waterpoint down faster than others.                                                                                   |\n",
    "| ```extraction_type_group``` | The kind of extraction the waterpoint uses               |          |                                                                                                                                                               |\n",
    "| ```extraction_type_class``` | The kind of extraction the waterpoint uses               |          |                                                                                                                                                               |\n",
    "| ```management```            | How the waterpoint is managed                            |          | Poor management might not do the checkups and repairs when required.                                                                                          |\n",
    "| ```management_group```      | How the waterpoint is managed                            |          |                                                                                                                                                               |\n",
    "| ```payment```               | What the water costs                                     |          |                                                                                                                                                               |\n",
    "| ```payment_type```          | What the water costs                                     | ?       | Should not impact the status of the water pump.                                                                                                               |\n",
    "| ```water_quality```         | The quality of the water                                 |          | A better quality might imply a higher use of the well.                                                                                                        |\n",
    "| ```quality_group```         | The quality of the water                                 |          |                                                                                                                                                               |\n",
    "| ```quantity```              | The quantity of water                                    |          | A higher quantity might imply a higher use of the well.                                                                                                       |\n",
    "| ```quantity_group```        | The quantity of water                                    |          |                                                                                                                                                               |\n",
    "| ```source```                | The source of the water                                  |          |                                                                                                                                                               |\n",
    "| ```source_type```           | The source of the water                                  |          |                                                                                                                                                               |\n",
    "| ```source_class```          | The source of the water                                  |          |                                                                                                                                                               |\n",
    "| ```waterpoint_type```       | The kind of waterpoint                                   |          |                                                                                                                                                               |\n",
    "| ```waterpoint_type_group``` | The kind of waterpoint                                   |          |                                                                                                                                                               |"
   ]
  },
  {
   "cell_type": "markdown",
   "metadata": {},
   "source": [
    "#### Small summary\n",
    "\n",
    "An early selection of variables is therefore to keep all independent variables except ```funder```, ```wpt_name```, ```recorded_by```, and ```scheme_name```.\n",
    "\n",
    "Applying this modification to the dataset:"
   ]
  },
  {
   "cell_type": "code",
   "execution_count": 2,
   "metadata": {},
   "outputs": [
    {
     "data": {
      "text/html": [
       "36"
      ],
      "text/latex": [
       "36"
      ],
      "text/markdown": [
       "36"
      ],
      "text/plain": [
       "[1] 36"
      ]
     },
     "metadata": {},
     "output_type": "display_data"
    },
    {
     "data": {
      "text/html": [
       "36"
      ],
      "text/latex": [
       "36"
      ],
      "text/markdown": [
       "36"
      ],
      "text/plain": [
       "[1] 36"
      ]
     },
     "metadata": {},
     "output_type": "display_data"
    }
   ],
   "source": [
    "training_X = training_X[, !colnames(training_X) %in% c(\"funder\",\"wpt_name\",\"recorded_by\",\"scheme_name\")] #remove from training set\n",
    "test_X = test_X[, !colnames(test_X) %in% c(\"funder\",\"wpt_name\",\"recorded_by\",\"scheme_name\")] #remove from test set\n",
    "\n",
    "#double check\n",
    "length(colnames(training_X))\n",
    "length(colnames(test_X))"
   ]
  },
  {
   "cell_type": "markdown",
   "metadata": {},
   "source": [
    "### Univariate Descriptive Analysis\n",
    "\n",
    "In this part the goal is to look at each variable individually (univariate analysis) and extract some basic information. \n",
    "\n"
   ]
  },
  {
   "cell_type": "markdown",
   "metadata": {},
   "source": [
    "\n",
    "First, it is important to extract the very basic information and divide the variables into categorical and continuous variables."
   ]
  },
  {
   "cell_type": "code",
   "execution_count": 3,
   "metadata": {},
   "outputs": [
    {
     "data": {
      "text/html": [
       "<dl class=dl-horizontal>\n",
       "\t<dt>id</dt>\n",
       "\t\t<dd>'integer'</dd>\n",
       "\t<dt>region_code</dt>\n",
       "\t\t<dd>'integer'</dd>\n",
       "\t<dt>district_code</dt>\n",
       "\t\t<dd>'integer'</dd>\n",
       "</dl>\n"
      ],
      "text/latex": [
       "\\begin{description*}\n",
       "\\item[id] 'integer'\n",
       "\\item[region\\textbackslash{}\\_code] 'integer'\n",
       "\\item[district\\textbackslash{}\\_code] 'integer'\n",
       "\\end{description*}\n"
      ],
      "text/markdown": [
       "id\n",
       ":   'integer'region_code\n",
       ":   'integer'district_code\n",
       ":   'integer'\n",
       "\n"
      ],
      "text/plain": [
       "           id   region_code district_code \n",
       "    \"integer\"     \"integer\"     \"integer\" "
      ]
     },
     "metadata": {},
     "output_type": "display_data"
    },
    {
     "data": {
      "text/html": [
       "<dl class=dl-horizontal>\n",
       "\t<dt>id</dt>\n",
       "\t\t<dd>'factor'</dd>\n",
       "\t<dt>region_code</dt>\n",
       "\t\t<dd>'factor'</dd>\n",
       "\t<dt>district_code</dt>\n",
       "\t\t<dd>'factor'</dd>\n",
       "</dl>\n"
      ],
      "text/latex": [
       "\\begin{description*}\n",
       "\\item[id] 'factor'\n",
       "\\item[region\\textbackslash{}\\_code] 'factor'\n",
       "\\item[district\\textbackslash{}\\_code] 'factor'\n",
       "\\end{description*}\n"
      ],
      "text/markdown": [
       "id\n",
       ":   'factor'region_code\n",
       ":   'factor'district_code\n",
       ":   'factor'\n",
       "\n"
      ],
      "text/plain": [
       "           id   region_code district_code \n",
       "     \"factor\"      \"factor\"      \"factor\" "
      ]
     },
     "metadata": {},
     "output_type": "display_data"
    }
   ],
   "source": [
    "#some variables are in integer type but are actually classes\n",
    "sapply(training_X[,c('id', 'region_code', 'district_code')], class) #before\n",
    "\n",
    "training_X[,'id'] = factor(training_X[,'id'])\n",
    "training_X[,'region_code'] = factor(training_X[,'region_code'])\n",
    "training_X[,'district_code'] = factor(training_X[,'district_code'])\n",
    "\n",
    "sapply(training_X[,c('id', 'region_code', 'district_code')], class) #after : double check"
   ]
  },
  {
   "cell_type": "code",
   "execution_count": 4,
   "metadata": {},
   "outputs": [
    {
     "data": {
      "text/html": [
       "<dl class=dl-horizontal>\n",
       "\t<dt>id</dt>\n",
       "\t\t<dd>'integer'</dd>\n",
       "\t<dt>region_code</dt>\n",
       "\t\t<dd>'integer'</dd>\n",
       "\t<dt>district_code</dt>\n",
       "\t\t<dd>'integer'</dd>\n",
       "</dl>\n"
      ],
      "text/latex": [
       "\\begin{description*}\n",
       "\\item[id] 'integer'\n",
       "\\item[region\\textbackslash{}\\_code] 'integer'\n",
       "\\item[district\\textbackslash{}\\_code] 'integer'\n",
       "\\end{description*}\n"
      ],
      "text/markdown": [
       "id\n",
       ":   'integer'region_code\n",
       ":   'integer'district_code\n",
       ":   'integer'\n",
       "\n"
      ],
      "text/plain": [
       "           id   region_code district_code \n",
       "    \"integer\"     \"integer\"     \"integer\" "
      ]
     },
     "metadata": {},
     "output_type": "display_data"
    },
    {
     "data": {
      "text/html": [
       "<dl class=dl-horizontal>\n",
       "\t<dt>id</dt>\n",
       "\t\t<dd>'factor'</dd>\n",
       "\t<dt>region_code</dt>\n",
       "\t\t<dd>'factor'</dd>\n",
       "\t<dt>district_code</dt>\n",
       "\t\t<dd>'factor'</dd>\n",
       "</dl>\n"
      ],
      "text/latex": [
       "\\begin{description*}\n",
       "\\item[id] 'factor'\n",
       "\\item[region\\textbackslash{}\\_code] 'factor'\n",
       "\\item[district\\textbackslash{}\\_code] 'factor'\n",
       "\\end{description*}\n"
      ],
      "text/markdown": [
       "id\n",
       ":   'factor'region_code\n",
       ":   'factor'district_code\n",
       ":   'factor'\n",
       "\n"
      ],
      "text/plain": [
       "           id   region_code district_code \n",
       "     \"factor\"      \"factor\"      \"factor\" "
      ]
     },
     "metadata": {},
     "output_type": "display_data"
    }
   ],
   "source": [
    "#same for the test set\n",
    "sapply(test_X[,c('id', 'region_code', 'district_code')], class) #before\n",
    "\n",
    "test_X[,'id'] = factor(test_X[,'id'])\n",
    "test_X[,'region_code'] = factor(test_X[,'region_code'])\n",
    "test_X[,'district_code'] = factor(test_X[,'district_code'])\n",
    "\n",
    "sapply(test_X[,c('id', 'region_code', 'district_code')], class) #after : double check"
   ]
  },
  {
   "cell_type": "code",
   "execution_count": 5,
   "metadata": {
    "scrolled": true
   },
   "outputs": [
    {
     "name": "stdout",
     "output_type": "stream",
     "text": [
      "[1] \"id :  factor and has 59400 classes\"\n",
      "[1] \"amount_tsh: numeric: and is in range: : c(0, 350000)\"\n",
      "[1] \"date_recorded :  factor and has 356 classes\"\n",
      "[1] \"gps_height: integer: and is in range: : c(-90, 2770)\"\n",
      "[1] \"installer :  factor and has 2146 classes\"\n",
      "[1] \"longitude: numeric: and is in range: : c(0, 40.34519307)\"\n",
      "[1] \"latitude: numeric: and is in range: : c(-11.64944018, -2e-08)\"\n",
      "[1] \"num_private: integer: and is in range: : c(0, 1776)\"\n",
      "[1] \"basin :  factor and has 9 classes\"\n",
      "[1] \"subvillage :  factor and has 19288 classes\"\n",
      "[1] \"region :  factor and has 21 classes\"\n",
      "[1] \"region_code :  factor and has 27 classes\"\n",
      "[1] \"district_code :  factor and has 20 classes\"\n",
      "[1] \"lga :  factor and has 125 classes\"\n",
      "[1] \"ward :  factor and has 2092 classes\"\n",
      "[1] \"population: integer: and is in range: : c(0, 30500)\"\n",
      "[1] \"public_meeting :  factor and has 3 classes\"\n",
      "[1] \"scheme_management :  factor and has 13 classes\"\n",
      "[1] \"permit :  factor and has 3 classes\"\n",
      "[1] \"construction_year: integer: and is in range: : c(0, 2013)\"\n",
      "[1] \"extraction_type :  factor and has 18 classes\"\n",
      "[1] \"extraction_type_group :  factor and has 13 classes\"\n",
      "[1] \"extraction_type_class :  factor and has 7 classes\"\n",
      "[1] \"management :  factor and has 12 classes\"\n",
      "[1] \"management_group :  factor and has 5 classes\"\n",
      "[1] \"payment :  factor and has 7 classes\"\n",
      "[1] \"payment_type :  factor and has 7 classes\"\n",
      "[1] \"water_quality :  factor and has 8 classes\"\n",
      "[1] \"quality_group :  factor and has 6 classes\"\n",
      "[1] \"quantity :  factor and has 5 classes\"\n",
      "[1] \"quantity_group :  factor and has 5 classes\"\n",
      "[1] \"source :  factor and has 10 classes\"\n",
      "[1] \"source_type :  factor and has 7 classes\"\n",
      "[1] \"source_class :  factor and has 3 classes\"\n",
      "[1] \"waterpoint_type :  factor and has 7 classes\"\n",
      "[1] \"waterpoint_type_group :  factor and has 6 classes\"\n",
      "[1] \"Categorical variables: 29\"\n",
      "[1] \"Continuous variables: 7\"\n"
     ]
    }
   ],
   "source": [
    "####### DESCRIPTIVE STATISTICS \n",
    "\n",
    "categorical_vars = c()\n",
    "continuous_vars = c()\n",
    "\n",
    "for (i in colnames(training_X)){\n",
    "    \n",
    "    col_name = colnames(training_X[i])\n",
    "    data_type = sapply(training_X[i],class)\n",
    "    \n",
    "    if (data_type == \"factor\") {\n",
    "        categorical_vars = c(categorical_vars, col_name) #append to the list\n",
    "        print(paste(col_name, \": \",data_type, \"and has\",length(levels(training_X[,i])), \"classes\"))\n",
    "    }\n",
    "    else{\n",
    "        continuous_vars = c(continuous_vars, col_name) #append to the list\n",
    "        range_val = sapply(training_X[i], range)\n",
    "        print(paste(col_name, data_type, \"and is in range: \", list(range_val) ,sep=\": \"))\n",
    "    }\n",
    "}\n",
    "\n",
    "\n",
    "#divide the variables (i.e. columns) into categorical and continuous (for easier use later on)\n",
    "variables_names = list(\"categorical\"=categorical_vars, \"continuous\"=continuous_vars)\n",
    "#print(variables_names)\n",
    "\n",
    "print(paste(\"Categorical variables:\",length(variables_names$categorical)))\n",
    "print(paste(\"Continuous variables:\",length(variables_names$continuous)))"
   ]
  },
  {
   "cell_type": "markdown",
   "metadata": {},
   "source": [
    "##### Independent categorical variables"
   ]
  },
  {
   "cell_type": "code",
   "execution_count": 10,
   "metadata": {},
   "outputs": [],
   "source": [
    "#summary(training_X[,variables_names$categorical])"
   ]
  },
  {
   "cell_type": "code",
   "execution_count": 6,
   "metadata": {},
   "outputs": [
    {
     "name": "stdout",
     "output_type": "stream",
     "text": [
      "[1] \"id : 59400\"\n",
      "[1] \"#################\"\n",
      "[1] \"date_recorded : 356\"\n",
      "[1] \"#################\"\n",
      "[1] \"installer : 2146\"\n",
      "[1] \"#################\"\n",
      "[1] \"basin : 9\"\n",
      "[1] \"Internal\"                \"Lake Nyasa\"             \n",
      "[3] \"Lake Rukwa\"              \"Lake Tanganyika\"        \n",
      "[5] \"Lake Victoria\"           \"Pangani\"                \n",
      "[7] \"Rufiji\"                  \"Ruvuma / Southern Coast\"\n",
      "[9] \"Wami / Ruvu\"            \n",
      "[1] \"#################\"\n",
      "[1] \"subvillage : 19288\"\n",
      "[1] \"#################\"\n",
      "[1] \"region : 21\"\n",
      " [1] \"Arusha\"        \"Dar es Salaam\" \"Dodoma\"        \"Iringa\"       \n",
      " [5] \"Kagera\"        \"Kigoma\"        \"Kilimanjaro\"   \"Lindi\"        \n",
      " [9] \"Manyara\"       \"Mara\"          \"Mbeya\"         \"Morogoro\"     \n",
      "[13] \"Mtwara\"        \"Mwanza\"        \"Pwani\"         \"Rukwa\"        \n",
      "[17] \"Ruvuma\"        \"Shinyanga\"     \"Singida\"       \"Tabora\"       \n",
      "[21] \"Tanga\"        \n",
      "[1] \"#################\"\n",
      "[1] \"region_code : 27\"\n",
      " [1] \"1\"  \"2\"  \"3\"  \"4\"  \"5\"  \"6\"  \"7\"  \"8\"  \"9\"  \"10\" \"11\" \"12\" \"13\" \"14\" \"15\"\n",
      "[16] \"16\" \"17\" \"18\" \"19\" \"20\" \"21\" \"24\" \"40\" \"60\" \"80\" \"90\" \"99\"\n",
      "[1] \"#################\"\n",
      "[1] \"district_code : 20\"\n",
      " [1] \"0\"  \"1\"  \"2\"  \"3\"  \"4\"  \"5\"  \"6\"  \"7\"  \"8\"  \"13\" \"23\" \"30\" \"33\" \"43\" \"53\"\n",
      "[16] \"60\" \"62\" \"63\" \"67\" \"80\"\n",
      "[1] \"#################\"\n",
      "[1] \"lga : 125\"\n",
      "[1] \"#################\"\n",
      "[1] \"ward : 2092\"\n",
      "[1] \"#################\"\n",
      "[1] \"public_meeting : 3\"\n",
      "[1] \"\"      \"False\" \"True\" \n",
      "[1] \"#################\"\n",
      "[1] \"scheme_management : 13\"\n",
      " [1] \"\"                 \"Company\"          \"None\"             \"Other\"           \n",
      " [5] \"Parastatal\"       \"Private operator\" \"SWC\"              \"Trust\"           \n",
      " [9] \"VWC\"              \"Water authority\"  \"Water Board\"      \"WUA\"             \n",
      "[13] \"WUG\"             \n",
      "[1] \"#################\"\n",
      "[1] \"permit : 3\"\n",
      "[1] \"\"      \"False\" \"True\" \n",
      "[1] \"#################\"\n",
      "[1] \"extraction_type : 18\"\n",
      " [1] \"afridev\"                   \"cemo\"                     \n",
      " [3] \"climax\"                    \"gravity\"                  \n",
      " [5] \"india mark ii\"             \"india mark iii\"           \n",
      " [7] \"ksb\"                       \"mono\"                     \n",
      " [9] \"nira/tanira\"               \"other\"                    \n",
      "[11] \"other - mkulima/shinyanga\" \"other - play pump\"        \n",
      "[13] \"other - rope pump\"         \"other - swn 81\"           \n",
      "[15] \"submersible\"               \"swn 80\"                   \n",
      "[17] \"walimi\"                    \"windmill\"                 \n",
      "[1] \"#################\"\n",
      "[1] \"extraction_type_group : 13\"\n",
      " [1] \"afridev\"         \"gravity\"         \"india mark ii\"   \"india mark iii\" \n",
      " [5] \"mono\"            \"nira/tanira\"     \"other\"           \"other handpump\" \n",
      " [9] \"other motorpump\" \"rope pump\"       \"submersible\"     \"swn 80\"         \n",
      "[13] \"wind-powered\"   \n",
      "[1] \"#################\"\n",
      "[1] \"extraction_type_class : 7\"\n",
      "[1] \"gravity\"      \"handpump\"     \"motorpump\"    \"other\"        \"rope pump\"   \n",
      "[6] \"submersible\"  \"wind-powered\"\n",
      "[1] \"#################\"\n",
      "[1] \"management : 12\"\n",
      " [1] \"company\"          \"other\"            \"other - school\"   \"parastatal\"      \n",
      " [5] \"private operator\" \"trust\"            \"unknown\"          \"vwc\"             \n",
      " [9] \"water authority\"  \"water board\"      \"wua\"              \"wug\"             \n",
      "[1] \"#################\"\n",
      "[1] \"management_group : 5\"\n",
      "[1] \"commercial\" \"other\"      \"parastatal\" \"unknown\"    \"user-group\"\n",
      "[1] \"#################\"\n",
      "[1] \"payment : 7\"\n",
      "[1] \"never pay\"             \"other\"                 \"pay annually\"         \n",
      "[4] \"pay monthly\"           \"pay per bucket\"        \"pay when scheme fails\"\n",
      "[7] \"unknown\"              \n",
      "[1] \"#################\"\n",
      "[1] \"payment_type : 7\"\n",
      "[1] \"annually\"   \"monthly\"    \"never pay\"  \"on failure\" \"other\"     \n",
      "[6] \"per bucket\" \"unknown\"   \n",
      "[1] \"#################\"\n",
      "[1] \"water_quality : 8\"\n",
      "[1] \"coloured\"           \"fluoride\"           \"fluoride abandoned\"\n",
      "[4] \"milky\"              \"salty\"              \"salty abandoned\"   \n",
      "[7] \"soft\"               \"unknown\"           \n",
      "[1] \"#################\"\n",
      "[1] \"quality_group : 6\"\n",
      "[1] \"colored\"  \"fluoride\" \"good\"     \"milky\"    \"salty\"    \"unknown\" \n",
      "[1] \"#################\"\n",
      "[1] \"quantity : 5\"\n",
      "[1] \"dry\"          \"enough\"       \"insufficient\" \"seasonal\"     \"unknown\"     \n",
      "[1] \"#################\"\n",
      "[1] \"quantity_group : 5\"\n",
      "[1] \"dry\"          \"enough\"       \"insufficient\" \"seasonal\"     \"unknown\"     \n",
      "[1] \"#################\"\n",
      "[1] \"source : 10\"\n",
      " [1] \"dam\"                  \"hand dtw\"             \"lake\"                \n",
      " [4] \"machine dbh\"          \"other\"                \"rainwater harvesting\"\n",
      " [7] \"river\"                \"shallow well\"         \"spring\"              \n",
      "[10] \"unknown\"             \n",
      "[1] \"#################\"\n",
      "[1] \"source_type : 7\"\n",
      "[1] \"borehole\"             \"dam\"                  \"other\"               \n",
      "[4] \"rainwater harvesting\" \"river/lake\"           \"shallow well\"        \n",
      "[7] \"spring\"              \n",
      "[1] \"#################\"\n",
      "[1] \"source_class : 3\"\n",
      "[1] \"groundwater\" \"surface\"     \"unknown\"    \n",
      "[1] \"#################\"\n",
      "[1] \"waterpoint_type : 7\"\n",
      "[1] \"cattle trough\"               \"communal standpipe\"         \n",
      "[3] \"communal standpipe multiple\" \"dam\"                        \n",
      "[5] \"hand pump\"                   \"improved spring\"            \n",
      "[7] \"other\"                      \n",
      "[1] \"#################\"\n",
      "[1] \"waterpoint_type_group : 6\"\n",
      "[1] \"cattle trough\"      \"communal standpipe\" \"dam\"               \n",
      "[4] \"hand pump\"          \"improved spring\"    \"other\"             \n",
      "[1] \"#################\"\n"
     ]
    }
   ],
   "source": [
    "# Print the levels of the variables that have < 50 levels/classes\n",
    "for (i in variables_names$categorical){\n",
    "    \n",
    "    if (length(levels(training_X[,i])) < 50){\n",
    "        \n",
    "        print(paste(i,\":\",length(levels(training_X[,i]))))\n",
    "        print(levels(training_X[,i]))\n",
    "        print(\"#################\")\n",
    "    }\n",
    "    else {\n",
    "        print(paste(i,\":\",length(levels(training_X[,i]))))\n",
    "        print(\"#################\")\n",
    "    }\n",
    "}"
   ]
  },
  {
   "cell_type": "markdown",
   "metadata": {},
   "source": [
    "Based on this, we can observe that some of the variables contain very similar information, being nearly the same variables except that the degree of precision (i.e. number of classes) slightly differs."
   ]
  },
  {
   "cell_type": "markdown",
   "metadata": {},
   "source": [
    "Below is a table summarizing the categorical variables. Question marks indicate that the variable has another variable that is somewhat similar (i.e. roughly contains the same classes). The color of the question mark groups the variables that are similar."
   ]
  },
  {
   "cell_type": "markdown",
   "metadata": {},
   "source": [
    "| NAME                        | COMMENT                                                  | REMOVE ?           |   \n",
    "|-----------------------------|----------------------------------------------------------|--------------------|\n",
    "| ```date_recorded```         | Might be better to turn it into a continuous variable    |                    |\n",
    "| ```installer```             | Having 2146 different classes for that variable is too much to fit a model with it. Especially in this case where we don't consider this information to be particularly useful. Therefore, only the 5 most represented classes are kept and the other observations will be grouped in a sixth class called \"other\". |  PARTLY REMOVE  | \n",
    "| ```basin```                 | Seems ok, no NA. Need to check the label 'Internal'.            |     |\n",
    "| ```subvillage```            | There are too many different classes (19288). Need to remove this variable.   | REMOVE LATER  |\n",
    "| ```region```                | 21 classes, might be slightly too much but we can keep it for now. No NA.   |  $\\color{magenta}{\\text{?}}$   |\n",
    "| ```region_code```           | 27 classes   |  $\\color{magenta}{\\text{?}}$   |\n",
    "| ```district_code```         | 20 classes   |  $\\color{magenta}{\\text{?}}$   |\n",
    "| ```lga```                   | 125 classes seems a bit too much, we should consider removing that variable. Note: Some contain 'rural' or 'urban' in their name, which can be interesting. But not all of them do so it might be difficult to use that.  |  $\\color{magenta}{\\text{?}}$   |\n",
    "| ```ward```                  | 2092 classes which is too much for our models. We decide to remove that variable.   |  REMOVE   |\n",
    "| ```public_meeting```        | True/False so it's ok to keep it. Note: it contains empty answers as well.   |      |\n",
    "| ```scheme_management```     | 13 classes, which is ok. Note: contains \"\", \"None\", and \"Other\" classes.   |      |\n",
    "| ```permit```                | 3 classes: \"True\"/\"False\" and empty answers.   |      |\n",
    "| ```extraction_type```       | 18 classes, with several \"other\" answers: \"other\", \"other - mkulima/shinyanga\", \"other - play pump\", \"other - rope pump\", and \"other - swn 81\".   |   $\\color{red}{\\text{?}}$   |\n",
    "| ```extraction_type_group``` | 13 classes, it appears to be mostly the same classes as for the ```extraction_type```variable. Therefore, one of these two variables should be removed as they contain mostly the same information   |   $\\color{red}{\\text{?}}$   |\n",
    "| ```extraction_type_class``` | 7 classes, mostly the same as for the ```extraction_type_group```and ```extraction_type``` variables.   |  $\\color{red}{\\text{?}}$  |\n",
    "| ```management```            | 12 classes, amongst which \"other\", \"other - school\", \"unknown\"   |   $\\color{blue}{\\text{?}}$   |\n",
    "| ```management_group```      | 5 classes, mostly the same as for the ```management```variable.   |   $\\color{blue}{\\text{?}}$  |\n",
    "| ```payment```               | 7 classes, amongst which: \"other\" and \"unknown\".   |   $\\color{green}{\\text{?}}$   |\n",
    "| ```payment_type```    | 7 classes, amongst which: \"other\" and \"unknown\". Same as the ```payment```variable, take the one with smallest amount of \"unknown\" observations.   |   $\\color{green}{\\text{?}}$   |\n",
    "| ```water_quality```         | 8 classes   |   $\\color{yellow}{\\text{?}}$   |\n",
    "| ```quality_group```         | 6 classe, same as the ones in ```water_quality```except that \"fluoride abandoned\" and  \"salty abandoned\" classes have been removed.  |   $\\color{yellow}{\\text{?}}$   |\n",
    "| ```quantity```              | 5 classes   |   $\\color{grey}{\\text{?}}$   |\n",
    "| ```quantity_group```        | 5 classes, exact the same as for ```quantity```. Pick the variable with smallest amount of \"unknown\" observations.   |  $\\color{grey}{\\text{?}}$    |\n",
    "| ```source```                | 10 classes amongst which \"unknown\" and \"other\".   |   $\\color{orange}{\\text{?}}$   |\n",
    "| ```source_type```           | 7 classes, same as for ```source```except \"river\" and \"lake\" have been grouped into \"river/lake\", \"borehole\" has been removed, and \"unknown\" has been removed.   |   $\\color{orange}{\\text{?}}$   |\n",
    "| ```source_class```          | 3 classes, same as ```source_type```and ```source```, but only limited to \"groundwater\", \"surface\", and \"unknown\".   |   $\\color{orange}{\\text{?}}$   |\n",
    "| ```waterpoint_type```       | 7 classes.   |  $\\color{purple}{\\text{?}}$    |\n",
    "| ```waterpoint_type_group``` | 6 classes, same as ```waterpoint_type```except \"communal standpipe\" and \"communal standpipe multiple\" have been merged into \"communal standpipe\"   |  $\\color{purple}{\\text{?}}$    |"
   ]
  },
  {
   "cell_type": "markdown",
   "metadata": {},
   "source": [
    "Some observations:  \n",
    "\n",
    "- To be modified:  \n",
    "    - ```date_recorded```--> continuous, keep only the year\n",
    "    - ```installer```: keep only the 5 most represented classes and group other answers in a sixth \"other\" class.\n",
    "    \n",
    "- To be removed:  \n",
    "    - ```subvillage``` and ```ward```have too many possible classes, which adds complexity and makes the models harder to train, for probably very slight improvements in accuracy as most of the information they contain is also contained in other variables. \n",
    "    \n",
    "Note: ```ward``` might be used to retrieve missing values for ```latitude```and ```longitude```. Therefore, we will remove it later.\n"
   ]
  },
  {
   "cell_type": "code",
   "execution_count": 7,
   "metadata": {},
   "outputs": [
    {
     "data": {
      "text/html": [
       "35"
      ],
      "text/latex": [
       "35"
      ],
      "text/markdown": [
       "35"
      ],
      "text/plain": [
       "[1] 35"
      ]
     },
     "metadata": {},
     "output_type": "display_data"
    },
    {
     "data": {
      "text/html": [
       "35"
      ],
      "text/latex": [
       "35"
      ],
      "text/markdown": [
       "35"
      ],
      "text/plain": [
       "[1] 35"
      ]
     },
     "metadata": {},
     "output_type": "display_data"
    }
   ],
   "source": [
    "#removing subvillage, and ward from test and training sets\n",
    "training_X_v2 = training_X[, !colnames(training_X) %in% c(\"subvillage\")] #remove from training set\n",
    "test_X_v2 = test_X[, !colnames(test_X) %in% c(\"subvillage\")] #remove from test set\n",
    "\n",
    "#removing from column names\n",
    "variables_names$categorical = setdiff(variables_names$categorical, c(\"subvillage\",\"ward\"))\n",
    "#print(variables_names$categorical) #perfect\n",
    "\n",
    "#double check\n",
    "#length(colnames(training_X))\n",
    "length(colnames(training_X_v2))\n",
    "#print(\"#######\")\n",
    "#length(colnames(test_X))\n",
    "length(colnames(test_X_v2))"
   ]
  },
  {
   "cell_type": "markdown",
   "metadata": {},
   "source": [
    "##### Independent continuous variables\n",
    "\n",
    "Here we observe the different continuous variables contained in the dataset individually/separately (univariate analysis). From here, some observations will be used for the feature engineering and selection process later on."
   ]
  },
  {
   "cell_type": "code",
   "execution_count": 8,
   "metadata": {},
   "outputs": [
    {
     "name": "stdout",
     "output_type": "stream",
     "text": [
      "[1] \"###############################################################\"\n",
      "[1] \"amount_tsh\"\n",
      "    Min.  1st Qu.   Median     Mean  3rd Qu.     Max. \n",
      "     0.0      0.0      0.0    317.7     20.0 350000.0 \n",
      "[1] \"The variable contains:    41639 zeros, which is:    70.1 % of the observations.\"\n",
      "[1] \"###############################################################\"\n"
     ]
    },
    {
     "data": {
      "image/png": "[encoded data removed]",
      "text/plain": [
       "Plot with title “amount_tsh boxplot”"
      ]
     },
     "metadata": {},
     "output_type": "display_data"
    },
    {
     "name": "stdout",
     "output_type": "stream",
     "text": [
      "[1] \"gps_height\"\n",
      "   Min. 1st Qu.  Median    Mean 3rd Qu.    Max. \n",
      "  -90.0     0.0   369.0   668.3  1319.2  2770.0 \n",
      "[1] \"The variable contains:    20438 zeros, which is:    34.41 % of the observations.\"\n",
      "[1] \"###############################################################\"\n"
     ]
    },
    {
     "data": {
      "image/png": "[encoded data removed]",
      "text/plain": [
       "Plot with title “gps_height boxplot”"
      ]
     },
     "metadata": {},
     "output_type": "display_data"
    },
    {
     "name": "stdout",
     "output_type": "stream",
     "text": [
      "[1] \"longitude\"\n",
      "   Min. 1st Qu.  Median    Mean 3rd Qu.    Max. \n",
      "   0.00   33.09   34.91   34.08   37.18   40.35 \n",
      "[1] \"The variable contains:    1812 zeros, which is:    3.05 % of the observations.\"\n",
      "[1] \"###############################################################\"\n"
     ]
    },
    {
     "data": {
      "image/png": "[encoded data removed]",
      "text/plain": [
       "Plot with title “longitude boxplot”"
      ]
     },
     "metadata": {},
     "output_type": "display_data"
    },
    {
     "name": "stdout",
     "output_type": "stream",
     "text": [
      "[1] \"latitude\"\n",
      "   Min. 1st Qu.  Median    Mean 3rd Qu.    Max. \n",
      "-11.649  -8.541  -5.022  -5.706  -3.326   0.000 \n",
      "[1] \"The variable contains:    0 zeros, which is:    0 % of the observations.\"\n",
      "[1] \"###############################################################\"\n"
     ]
    },
    {
     "data": {
      "image/png": "[encoded data removed]",
      "text/plain": [
       "Plot with title “latitude boxplot”"
      ]
     },
     "metadata": {},
     "output_type": "display_data"
    },
    {
     "name": "stdout",
     "output_type": "stream",
     "text": [
      "[1] \"num_private\"\n",
      "     Min.   1st Qu.    Median      Mean   3rd Qu.      Max. \n",
      "   0.0000    0.0000    0.0000    0.4741    0.0000 1776.0000 \n",
      "[1] \"The variable contains:    58643 zeros, which is:    98.73 % of the observations.\"\n",
      "[1] \"###############################################################\"\n"
     ]
    },
    {
     "data": {
      "image/png": "[encoded data removed]",
      "text/plain": [
       "Plot with title “num_private boxplot”"
      ]
     },
     "metadata": {},
     "output_type": "display_data"
    },
    {
     "name": "stdout",
     "output_type": "stream",
     "text": [
      "[1] \"population\"\n",
      "   Min. 1st Qu.  Median    Mean 3rd Qu.    Max. \n",
      "    0.0     0.0    25.0   179.9   215.0 30500.0 \n",
      "[1] \"The variable contains:    21381 zeros, which is:    35.99 % of the observations.\"\n",
      "[1] \"###############################################################\"\n"
     ]
    },
    {
     "data": {
      "image/png": "[encoded data removed]",
      "text/plain": [
       "Plot with title “population boxplot”"
      ]
     },
     "metadata": {},
     "output_type": "display_data"
    },
    {
     "name": "stdout",
     "output_type": "stream",
     "text": [
      "[1] \"construction_year\"\n",
      "   Min. 1st Qu.  Median    Mean 3rd Qu.    Max. \n",
      "      0       0    1986    1301    2004    2013 \n",
      "[1] \"The variable contains:    20709 zeros, which is:    34.86 % of the observations.\"\n"
     ]
    },
    {
     "data": {
      "image/png": "[encoded data removed]",
      "text/plain": [
       "Plot with title “construction_year boxplot”"
      ]
     },
     "metadata": {},
     "output_type": "display_data"
    }
   ],
   "source": [
    "options(repr.plot.width=8, repr.plot.height=3, repr.plot.res = 100)\n",
    "\n",
    "for (i in variables_names$continuous){\n",
    "    print(\"###############################################################\")\n",
    "\n",
    "    #Plots\n",
    "    par(mfrow=c(1,2), cex=1)\n",
    "    hist(training_X[,i], col=\"blue\", main = paste(i,\"hist\"), xlab=i)\n",
    "    boxplot(training_X[,i], col=\"blue\", main = paste(i,\"boxplot\"), xlab=i)\n",
    "    \n",
    "    print(i)\n",
    "    print(summary(training_X[,i]))\n",
    "    #number of values = 0, and the proportion of the observations that represents\n",
    "    num_zeros = length(which(training_X[,i] == 0)) \n",
    "    print(paste(\"The variable contains:   \",num_zeros,\"zeros, which is:   \",round(num_zeros/length(training_X[,i])*100,2),\"% of the observations.\"))\n",
    "}"
   ]
  },
  {
   "cell_type": "markdown",
   "metadata": {},
   "source": [
    "| NAME                        | COMMENT                                                  | REMOVE ?           |   \n",
    "|-----------------------------|----------------------------------------------------------|--------------------|\n",
    "| ```amount_tsh```            | 70% of values are equal to zero, it is not clear whether this is correct or corresponds to missing values.  |  $\\color{blue}{\\text{?}}$ |\n",
    "| ```gps_height```            | Many values = 0 (34% of the obs.), these might be because the well is at sea level (which totally makes sense) but also contains some missing values that were set to 0. Might also contain the same information as some of the categorical variables: ```lga```, ```region_code```, ```region```, and ```subvillage```. This needs to be checked in the feature selection process.    |  $\\color{red}{\\text{?}}$ | \n",
    "| ```longitude```             | Some values = 0 (3%), who are missing values for sure. Should contain the same information as some of the categorical variables: ```lga```, ```region_code```, ```region```, and ```subvillage```. This needs to be checked in the feature selection process.    |  $\\color{red}{\\text{?}}$ |\n",
    "| ```latitude```              | Some values have -2e-08, such a degree of precision hints to missing values rather than correct values. Should contain the same information as some of the categorical variables: ```lga```, ```region_code```, ```region```, and ```subvillage```. This needs to be checked in the feature selection process.    |  $\\color{red}{\\text{?}}$ |\n",
    "| ```num_private```           | 98.73% of the observations have a value of 0.Not clear what this variable actually is (and no information on the website).    | REMOVE  |\n",
    "| ```population```            | Many inputs put to 0 (36% of the observations). As the population refers to \"Population around the well\", it is hard to tell which ones are missing values and which ones refer to wells that are completely isolated (and we can expect their probability to be in a bad status to be higher than in more densely populated areas.)    |   |\n",
    "| ```construction_year```     | Roughly one third of the observations (35% of the observations) have a value of 0, which is a missing value rather than the construction year.    |   |"
   ]
  },
  {
   "cell_type": "markdown",
   "metadata": {},
   "source": [
    "Notes: \n",
    "- Location data such as ```latitude``` and ```longitude``` (and eventually ```gps_height```) should contain the same information as some of the categorical variables: ```lga```, ```region_code```, ```region```, and ```subvillage```. This needs to be checked in the feature selection process.\n",
    "- For many variables, a large amount of values are set to 0, which **might** be a missing value rather than an actual input. Therefore, the variables ```amount_tsh```, ```gps_height```, ```population```, and ```construction_year``` should be used with caution.\n",
    "\n",
    "- There is no information concerning the variable ```num_private``` available in the project dataset description at [https://www.drivendata.org/competitions/7/pump-it-up-data-mining-the-water-table/page/25/#features_list] and most of the values are 0. Hence, it is better to **discard ```num_private```** from the dataset as we are unable to interpret it and it does not seem to be encoded properly.\n",
    "- the variables ```longitude```, ```latitude``` seem reasonable to use."
   ]
  },
  {
   "cell_type": "code",
   "execution_count": 9,
   "metadata": {},
   "outputs": [
    {
     "data": {
      "text/html": [
       "34"
      ],
      "text/latex": [
       "34"
      ],
      "text/markdown": [
       "34"
      ],
      "text/plain": [
       "[1] 34"
      ]
     },
     "metadata": {},
     "output_type": "display_data"
    },
    {
     "data": {
      "text/html": [
       "34"
      ],
      "text/latex": [
       "34"
      ],
      "text/markdown": [
       "34"
      ],
      "text/plain": [
       "[1] 34"
      ]
     },
     "metadata": {},
     "output_type": "display_data"
    }
   ],
   "source": [
    "#removing num_private from test and training sets\n",
    "training_X_v2 = training_X_v2[, !colnames(training_X_v2) %in% c(\"num_private\")] #remove from training set\n",
    "test_X_v2 = test_X_v2[, !colnames(test_X_v2) %in% c(\"num_private\")] #remove from test set\n",
    "\n",
    "#removing from column names\n",
    "variables_names$continuous = setdiff(variables_names$continuous, c(\"num_private\"))\n",
    "#print(variables_names$categorical) #perfect\n",
    "\n",
    "#double check\n",
    "#length(colnames(training_X))\n",
    "length(colnames(training_X_v2))\n",
    "#print(\"#######\")\n",
    "#length(colnames(test_X))\n",
    "length(colnames(test_X_v2))"
   ]
  },
  {
   "cell_type": "markdown",
   "metadata": {},
   "source": [
    "##### Dependent variable (Y)"
   ]
  },
  {
   "cell_type": "code",
   "execution_count": 10,
   "metadata": {},
   "outputs": [
    {
     "data": {
      "text/html": [
       "<dl class=dl-horizontal>\n",
       "\t<dt>functional</dt>\n",
       "\t\t<dd>32259</dd>\n",
       "\t<dt>functional needs repair</dt>\n",
       "\t\t<dd>4317</dd>\n",
       "\t<dt>non functional</dt>\n",
       "\t\t<dd>22824</dd>\n",
       "</dl>\n"
      ],
      "text/latex": [
       "\\begin{description*}\n",
       "\\item[functional] 32259\n",
       "\\item[functional needs repair] 4317\n",
       "\\item[non functional] 22824\n",
       "\\end{description*}\n"
      ],
      "text/markdown": [
       "functional\n",
       ":   32259functional needs repair\n",
       ":   4317non functional\n",
       ":   22824\n",
       "\n"
      ],
      "text/plain": [
       "             functional functional needs repair          non functional \n",
       "                  32259                    4317                   22824 "
      ]
     },
     "metadata": {},
     "output_type": "display_data"
    },
    {
     "data": {
      "text/html": [
       "<dl class=dl-horizontal>\n",
       "\t<dt>functional</dt>\n",
       "\t\t<dd>0.543080808080808</dd>\n",
       "\t<dt>functional needs repair</dt>\n",
       "\t\t<dd>0.0726767676767677</dd>\n",
       "\t<dt>non functional</dt>\n",
       "\t\t<dd>0.384242424242424</dd>\n",
       "</dl>\n"
      ],
      "text/latex": [
       "\\begin{description*}\n",
       "\\item[functional] 0.543080808080808\n",
       "\\item[functional needs repair] 0.0726767676767677\n",
       "\\item[non functional] 0.384242424242424\n",
       "\\end{description*}\n"
      ],
      "text/markdown": [
       "functional\n",
       ":   0.543080808080808functional needs repair\n",
       ":   0.0726767676767677non functional\n",
       ":   0.384242424242424\n",
       "\n"
      ],
      "text/plain": [
       "             functional functional needs repair          non functional \n",
       "             0.54308081              0.07267677              0.38424242 "
      ]
     },
     "metadata": {},
     "output_type": "display_data"
    },
    {
     "data": {
      "image/png": "[encoded data removed]",
      "text/plain": [
       "plot without title"
      ]
     },
     "metadata": {},
     "output_type": "display_data"
    }
   ],
   "source": [
    "summary(training_Y[,\"status_group\"]) #absolute figures\n",
    "\n",
    "prop.table(summary(training_Y[,\"status_group\"])) #proportions\n",
    "\n",
    "#Plot\n",
    "#dev.size() #default size is (7,7) in inches\n",
    "options(repr.plot.width=4, repr.plot.height=4, repr.plot.res = 100)\n",
    "par(mfrow=c(1,1), cex = 1)\n",
    "barplot(table(training_Y[,\"status_group\"]))"
   ]
  },
  {
   "cell_type": "markdown",
   "metadata": {},
   "source": [
    "As can be seen in the above graph, we are dealing with unbalanced classes to predict. Therefore, using only the accuracy to assess the performance of the models might not be enough."
   ]
  },
  {
   "cell_type": "markdown",
   "metadata": {},
   "source": [
    "# Data preprocessing\n",
    "\n",
    "## Missing value imputation"
   ]
  },
  {
   "cell_type": "markdown",
   "metadata": {},
   "source": [
    "### Continuous variables\n",
    "\n",
    "It was observed in previous parts that:\n",
    "- the variables ```amount_tsh``` (70% of obs.), ```population``` (36% of obs.), and ```construction_year``` (35% of obs.) have many zeros encoded as observation.\n",
    "- for ```gps_height```, 34% of the observations are equal to zero. While it is possible, it is not clear which proportion of that is correct and which proportion corresponds to missing values.\n",
    "- ```latitude``` contains values equal to -2e-08.\n",
    "- ```longitude``` contains only 3% of missing values (that were set to zero)."
   ]
  },
  {
   "cell_type": "code",
   "execution_count": 16,
   "metadata": {},
   "outputs": [],
   "source": [
    "# Check for NA's (shouldn't be any since they're set to 0)\n",
    "#apply(is.na(training_X_v2[,variables_names$continuous]),2,any) #No NA's"
   ]
  },
  {
   "cell_type": "markdown",
   "metadata": {},
   "source": [
    "#### longitude and lattitude: replace wrong values with NA"
   ]
  },
  {
   "cell_type": "code",
   "execution_count": 11,
   "metadata": {},
   "outputs": [
    {
     "data": {
      "text/plain": [
       "   Min. 1st Qu.  Median    Mean 3rd Qu.    Max. \n",
       " -2e-08  -2e-08  -2e-08  -2e-08  -2e-08  -2e-08 "
      ]
     },
     "metadata": {},
     "output_type": "display_data"
    },
    {
     "data": {
      "text/html": [
       "<dl class=dl-horizontal>\n",
       "\t<dt>Bariadi</dt>\n",
       "\t\t<dd>1005</dd>\n",
       "\t<dt>Geita</dt>\n",
       "\t\t<dd>488</dd>\n",
       "\t<dt>Magu</dt>\n",
       "\t\t<dd>319</dd>\n",
       "\t<dt>Arusha Rural</dt>\n",
       "\t\t<dd>0</dd>\n",
       "</dl>\n"
      ],
      "text/latex": [
       "\\begin{description*}\n",
       "\\item[Bariadi] 1005\n",
       "\\item[Geita] 488\n",
       "\\item[Magu] 319\n",
       "\\item[Arusha Rural] 0\n",
       "\\end{description*}\n"
      ],
      "text/markdown": [
       "Bariadi\n",
       ":   1005Geita\n",
       ":   488Magu\n",
       ":   319Arusha Rural\n",
       ":   0\n",
       "\n"
      ],
      "text/plain": [
       "     Bariadi        Geita         Magu Arusha Rural \n",
       "        1005          488          319            0 "
      ]
     },
     "metadata": {},
     "output_type": "display_data"
    }
   ],
   "source": [
    "########## RETRIEVE THE RIGHT LONGITUDE AND LATITUDE\n",
    "# This could rely on a ML model (predicting the longitude and latitude, knowing the other variables) in itself, but we won't go that far for these few missing values...\n",
    "\n",
    "summary(training_X_v2[,'latitude'][which(training_X_v2[,'longitude']==0)]) #clearly, those values don't have correct latitude neither\n",
    "\n",
    "head(summary(training_X_v2[,'lga'][which(training_X_v2[,'longitude']==0)]),4)\n",
    "#all the obs. with wrong longitude coord. belong to one of 3 'lga': Bariadi (1005), Geita (488), Magu (319)"
   ]
  },
  {
   "cell_type": "markdown",
   "metadata": {},
   "source": [
    "Since we have a large amount of localisation data, we could infer the longitude and latitude of the NA observations by looking at the other variables. However, as shown below, these observations also contain erroneous inputs for other categorical variables and it is therefore not relevant to focus too much on them for now."
   ]
  },
  {
   "cell_type": "code",
   "execution_count": 20,
   "metadata": {},
   "outputs": [],
   "source": [
    "#hist(training_X_v2[,'longitude'])"
   ]
  },
  {
   "cell_type": "code",
   "execution_count": 12,
   "metadata": {},
   "outputs": [
    {
     "data": {
      "text/html": [
       "1812"
      ],
      "text/latex": [
       "1812"
      ],
      "text/markdown": [
       "1812"
      ],
      "text/plain": [
       "[1] 1812"
      ]
     },
     "metadata": {},
     "output_type": "display_data"
    },
    {
     "data": {
      "text/html": [
       "1812"
      ],
      "text/latex": [
       "1812"
      ],
      "text/markdown": [
       "1812"
      ],
      "text/plain": [
       "[1] 1812"
      ]
     },
     "metadata": {},
     "output_type": "display_data"
    }
   ],
   "source": [
    "length(training_X_v2[,'latitude'][which(training_X_v2[,'longitude']==0)])\n",
    "length(training_X_v2[,'latitude'][which(training_X_v2[,'latitude']==-2e-08)])\n",
    "# the data that have a longitude of 0, also have a latitude of -2e-08.\n",
    "\n",
    "# We flag them with NA\n",
    "training_X_v2[,'latitude'][which( training_X_v2[,'latitude'] == -2e-08)] = mean(training_X_v2[which(training_X_v2[,'latitude']!=-2e-08),'latitude'])\n",
    "training_X_v2[,'longitude'][which( training_X_v2[,'longitude'] == 0)] = mean(training_X_v2[which(training_X_v2[,'longitude']!=0),'longitude'])\n",
    "\n",
    "test_X_v2[,'latitude'][which( test_X_v2[,'latitude'] == -2e-08)] = mean(test_X_v2[which(test_X_v2[,'latitude']!=-2e-08),'latitude'])     # update the test set as well\n",
    "test_X_v2[,'longitude'][which( test_X_v2[,'longitude'] == 0)] = mean(test_X_v2[which(test_X_v2[,'longitude']!=0),'longitude'])        # update the test set as well\n",
    "\n",
    "#apply(is.na(training_X_v2[,variables_names$continuous]),2,any) #OK, fine\n",
    "#apply(is.na(test_X_v2[,variables_names$continuous]),2,any) #OK, fine\n",
    "#hist(training_X_v2[,'longitude'])"
   ]
  },
  {
   "cell_type": "markdown",
   "metadata": {},
   "source": [
    "### Categorical variables\n",
    "\n",
    "Previously, it was observed that some variables did have \"empty\" values or inconsistent answers."
   ]
  },
  {
   "cell_type": "code",
   "execution_count": 16,
   "metadata": {},
   "outputs": [],
   "source": [
    "#function that returns TRUE when a value is missing, unknown, or labeled as 'other'. Use sapply() to run it on all the rows of the column/variable\n",
    "check_empty_or_other = function(value){\n",
    "    if( tolower(value) %in% c(\"na\", \"\", \"unknown\", \"other\") ){ #might add 'other' to the list\n",
    "        return (TRUE)\n",
    "    }\n",
    "    else{\n",
    "        return (FALSE)\n",
    "    }\n",
    "}"
   ]
  },
  {
   "cell_type": "markdown",
   "metadata": {},
   "source": [
    "Printing the variables that have class names called: \"na\", \"\", \"unknown\", and/or \"other\"."
   ]
  },
  {
   "cell_type": "code",
   "execution_count": 17,
   "metadata": {
    "collapsed": true
   },
   "outputs": [
    {
     "name": "stdout",
     "output_type": "stream",
     "text": [
      "[1] \"id :  FALSE\"\n",
      "[1] \"date_recorded :  FALSE\"\n",
      "[1] \"installer :  TRUE\"\n",
      "[1] \"basin :  FALSE\"\n",
      "[1] \"region :  FALSE\"\n",
      "[1] \"region_code :  FALSE\"\n",
      "[1] \"district_code :  FALSE\"\n",
      "[1] \"lga :  FALSE\"\n",
      "[1] \"public_meeting :  TRUE\"\n",
      "[1] \"scheme_management :  TRUE\"\n",
      "[1] \"permit :  TRUE\"\n",
      "[1] \"extraction_type :  TRUE\"\n",
      "[1] \"extraction_type_group :  TRUE\"\n",
      "[1] \"extraction_type_class :  TRUE\"\n",
      "[1] \"management :  TRUE\"\n",
      "[1] \"management_group :  TRUE\"\n",
      "[1] \"payment :  TRUE\"\n",
      "[1] \"payment_type :  TRUE\"\n",
      "[1] \"water_quality :  TRUE\"\n",
      "[1] \"quality_group :  TRUE\"\n",
      "[1] \"quantity :  TRUE\"\n",
      "[1] \"quantity_group :  TRUE\"\n",
      "[1] \"source :  TRUE\"\n",
      "[1] \"source_type :  TRUE\"\n",
      "[1] \"source_class :  TRUE\"\n",
      "[1] \"waterpoint_type :  TRUE\"\n",
      "[1] \"waterpoint_type_group :  TRUE\"\n"
     ]
    }
   ],
   "source": [
    "for (i in variables_names$categorical){\n",
    "    print(paste(i,\": \", any(sapply(training_X_v2[,i], check_empty_or_other))) ) #check_em\n",
    "}"
   ]
  },
  {
   "cell_type": "markdown",
   "metadata": {},
   "source": [
    "Some values that were observed earlier:"
   ]
  },
  {
   "cell_type": "markdown",
   "metadata": {},
   "source": [
    "| NAME                        | COMMENT                                                  |    \n",
    "|-----------------------------|----------------------------------------------------------|\n",
    "| ```district_code```         | some 0 values (correct?)                                                         |    \n",
    "| ```scheme_management```     | empty \"\", \"None\", \"Other\"                                                         |    \n",
    "| ```permit```                | empty \"\"                                                         |    \n",
    "| ```extraction_type```       | several \"other\"                                                         |    \n",
    "| ```extraction_type_group``` | several \"other\"                                                   |    \n",
    "| ```extraction_type_class``` | several \"other\"                                                         |    \n",
    "| ```management```            | \"unknown\", \"other\"                                                         |    \n",
    "| ```management_group```      | \"unknown\"                                                         |    \n",
    "| ```payment```               | \"other\", \"unknown\"                                                         |    \n",
    "| ```payment_type```          | \"other\", \"unknown\"                                                          |    \n",
    "| ```water_quality```         | \"unknown\"                                                          |    \n",
    "| ```quality_group```         | \"unknown\"                                                          |    \n",
    "| ```quantity```              |\"unknown\"                                                          |    \n",
    "| ```quantity_group```        |  \"unknown\"                                                        |    \n",
    "| ```source```                | \"other\", \"unknown\"                                                         |    \n",
    "| ```source_type```           |\"other\"                                                          |    \n",
    "| ```source_class```          |\"unknown\"                                                          |    \n",
    "| ```waterpoint_type```       | \"other\"                                                         |    \n",
    "| ```waterpoint_type_group``` |  \"other\"                                                        |    \n"
   ]
  },
  {
   "cell_type": "markdown",
   "metadata": {},
   "source": [
    "**district_code**  \n",
    "\n",
    "We have observed earlier that the ```district_code``` has some values equal to 0 while the other variables containing a code do not start at 0 but rather at 1. Therefore, we need to check if ```district_code```= 0 is possible or if it refers to a class containing only missing values. In other words, we want to check if ```district_code```= 0 is actually a real class.\n",
    "\n",
    "Since we have other geographical data (e.g. ```latitude```, ```longitude```, ```region_code```, ```lga```) we can easily observe if the group of observations having ```district_code```= 0 share the same observations for the other geographical variables. More specifically, we check if they also have the same observations for the```region_code```. If so, we will assume the class is correct. Otherwise, we will consider the class ```district_code```= 0 to be a class containing only missing values, and we can then try to infer their correct ```district_code``` class (from the other geographical variables)."
   ]
  },
  {
   "cell_type": "code",
   "execution_count": 18,
   "metadata": {},
   "outputs": [
    {
     "data": {
      "text/html": [
       "23"
      ],
      "text/latex": [
       "23"
      ],
      "text/markdown": [
       "23"
      ],
      "text/plain": [
       "[1] 23"
      ]
     },
     "metadata": {},
     "output_type": "display_data"
    },
    {
     "data": {
      "image/png": "[encoded data removed]",
      "text/plain": [
       "plot without title"
      ]
     },
     "metadata": {},
     "output_type": "display_data"
    }
   ],
   "source": [
    "options(repr.plot.width=6, repr.plot.height=3)#, repr.plot.res = 100)\n",
    "par(mfrow=c(1,1), cex = 1)\n",
    "barplot(table(training_X_v2[,\"district_code\"]))\n",
    "length(which(training_X_v2[,\"district_code\"]==0)) #23, (and 4 in the test set)"
   ]
  },
  {
   "cell_type": "code",
   "execution_count": 19,
   "metadata": {},
   "outputs": [
    {
     "data": {
      "text/plain": [
       "region_wrong\n",
       " 1  2  3  4  5  6  7  8  9 10 11 12 13 14 15 16 17 18 19 20 21 24 40 60 80 90 \n",
       "23  0  0  0  0  0  0  0  0  0  0  0  0  0  0  0  0  0  0  0  0  0  0  0  0  0 \n",
       "99 \n",
       " 0 "
      ]
     },
     "metadata": {},
     "output_type": "display_data"
    }
   ],
   "source": [
    "# we compare with the region code\n",
    "region_wrong = training_X_v2[,'region_code'][which(training_X_v2[,\"district_code\"]==0)]\n",
    "table(region_wrong) #they all correspond to region_code == 1"
   ]
  },
  {
   "cell_type": "code",
   "execution_count": 20,
   "metadata": {},
   "outputs": [
    {
     "name": "stdout",
     "output_type": "stream",
     "text": [
      "[1] \"min: -6.57647969 , max: -6.41096959\"\n",
      "[1] \"min: 36.52639035 , max: 36.73434971\"\n"
     ]
    }
   ],
   "source": [
    "#double check with the latitude and longitude of those observations\n",
    "lat_wrong = training_X_v2[,'latitude'][which(training_X_v2[,\"district_code\"]==0)] #return latitude\n",
    "print(paste(\"min:\",min(lat_wrong),\", max:\",max(lat_wrong)))\n",
    "long_wrong = training_X_v2[,'longitude'][which(training_X_v2[,\"district_code\"]==0)] #return longitude\n",
    "print(paste(\"min:\",min(long_wrong),\", max:\",max(long_wrong)))"
   ]
  },
  {
   "cell_type": "markdown",
   "metadata": {},
   "source": [
    "Based on the ```region_code```, ```longitude```, and ```latitude``` of the observations having ```district_code``` = 0, we can conclude that they belong to an homogeneous group sharing same geographical data. Therefore, the class 0 of ```district_code``` is actually a real class (and not missing values/wrong inputs). Hence, nothing should be changed."
   ]
  },
  {
   "cell_type": "markdown",
   "metadata": {},
   "source": [
    "**scheme_management**"
   ]
  },
  {
   "cell_type": "code",
   "execution_count": 31,
   "metadata": {},
   "outputs": [
    {
     "name": "stdout",
     "output_type": "stream",
     "text": [
      "[1] \"empty 3877 : 6.53 %\"\n",
      "[1] \"Other 766 : 1.29 %\"\n",
      "[1] \"None 1 : 0 %\"\n"
     ]
    }
   ],
   "source": [
    "number = length(which(training_X_v2[,\"scheme_management\"]==\"\"))\n",
    "nb_other = length(which(training_X_v2[,\"scheme_management\"]==\"Other\"))\n",
    "nb_none = length(which(training_X_v2[,\"scheme_management\"]==\"None\"))\n",
    "print(paste(\"empty\",number,\":\",round(number/length(training_X_v2[,\"scheme_management\"])*100,2),\"%\"))\n",
    "print(paste(\"Other\",nb_other,\":\",round(nb_other/length(training_X_v2[,\"scheme_management\"])*100,2),\"%\"))\n",
    "nb_none = length(which(training_X_v2[,\"scheme_management\"]==\"None\"))\n",
    "print(paste(\"None\",nb_none,\":\",round(nb_none/length(training_X_v2[,\"scheme_management\"])*100,2),\"%\"))"
   ]
  },
  {
   "cell_type": "markdown",
   "metadata": {},
   "source": [
    "**permit**"
   ]
  },
  {
   "cell_type": "code",
   "execution_count": 32,
   "metadata": {},
   "outputs": [
    {
     "name": "stdout",
     "output_type": "stream",
     "text": [
      "[1] \"empty 3056 : 5.14 %\"\n"
     ]
    }
   ],
   "source": [
    "number = length(which(training_X_v2[,\"permit\"]==\"\"))\n",
    "print(paste(\"empty\",number,\":\",round(number/length(training_X_v2[,\"permit\"])*100,2),\"%\"))"
   ]
  },
  {
   "cell_type": "markdown",
   "metadata": {},
   "source": [
    "**other variables containing 'other' and/or 'unknown' classes**  \n",
    "\n",
    "It is intersting to look if the variables have large classes that are labeled as 'unknown' or 'other'. This can be useful later for the feature selection process as well."
   ]
  },
  {
   "cell_type": "code",
   "execution_count": 33,
   "metadata": {
    "scrolled": true
   },
   "outputs": [
    {
     "name": "stdout",
     "output_type": "stream",
     "text": [
      "[1] \"id\"\n",
      "[1] \"#############################################################################\"\n",
      "[1] \"installer\"\n",
      "[1] \"installer contains 'unknown' 1 : 0.0017 % (of the dataset)\"\n",
      "[1] \"#############################################################################\"\n",
      "[1] \"basin\"\n",
      "[1] \"#############################################################################\"\n",
      "[1] \"region\"\n",
      "[1] \"#############################################################################\"\n",
      "[1] \"region_code\"\n",
      "[1] \"#############################################################################\"\n",
      "[1] \"district_code\"\n",
      "[1] \"#############################################################################\"\n",
      "[1] \"lga\"\n",
      "[1] \"#############################################################################\"\n",
      "[1] \"public_meeting\"\n",
      "[1] \"#############################################################################\"\n",
      "[1] \"scheme_management\"\n",
      "[1] \"#############################################################################\"\n",
      "[1] \"permit\"\n",
      "[1] \"#############################################################################\"\n",
      "[1] \"extraction_type\"\n",
      "[1] \"extraction_type contains classes with mention 'other' 7197 : 12.12 % (of the dataset)\"\n",
      "[1] \"classes are:\"\n",
      "[1] \"     other : 6430\"\n",
      "[1] \"     other - mkulima/shinyanga : 2\"\n",
      "[1] \"     other - play pump : 85\"\n",
      "[1] \"     other - rope pump : 451\"\n",
      "[1] \"     other - swn 81 : 229\"\n",
      "[1] \"#############################################################################\"\n",
      "[1] \"extraction_type_group\"\n",
      "[1] \"extraction_type_group contains classes with mention 'other' 6916 : 11.64 % (of the dataset)\"\n",
      "[1] \"classes are:\"\n",
      "[1] \"     other : 6430\"\n",
      "[1] \"     other handpump : 364\"\n",
      "[1] \"     other motorpump : 122\"\n",
      "[1] \"#############################################################################\"\n",
      "[1] \"extraction_type_class\"\n",
      "[1] \"extraction_type_class contains classes with mention 'other' 6430 : 10.82 % (of the dataset)\"\n",
      "[1] \"classes are:\"\n",
      "[1] \"     other : 6430\"\n",
      "[1] \"#############################################################################\"\n",
      "[1] \"management\"\n",
      "[1] \"management contains classes with mention 'other' 943 : 1.59 % (of the dataset)\"\n",
      "[1] \"classes are:\"\n",
      "[1] \"     other : 844\"\n",
      "[1] \"     other - school : 99\"\n",
      "[1] \"management contains 'unknown' 561 : 0.9444 % (of the dataset)\"\n",
      "[1] \"#############################################################################\"\n",
      "[1] \"management_group\"\n",
      "[1] \"management_group contains classes with mention 'other' 943 : 1.59 % (of the dataset)\"\n",
      "[1] \"classes are:\"\n",
      "[1] \"     other : 943\"\n",
      "[1] \"management_group contains 'unknown' 561 : 0.9444 % (of the dataset)\"\n",
      "[1] \"#############################################################################\"\n",
      "[1] \"payment\"\n",
      "[1] \"payment contains classes with mention 'other' 1054 : 1.77 % (of the dataset)\"\n",
      "[1] \"classes are:\"\n",
      "[1] \"     other : 1054\"\n",
      "[1] \"payment contains 'unknown' 8157 : 13.7323 % (of the dataset)\"\n",
      "[1] \"#############################################################################\"\n",
      "[1] \"payment_type\"\n",
      "[1] \"payment_type contains classes with mention 'other' 1054 : 1.77 % (of the dataset)\"\n",
      "[1] \"classes are:\"\n",
      "[1] \"     other : 1054\"\n",
      "[1] \"payment_type contains 'unknown' 8157 : 13.7323 % (of the dataset)\"\n",
      "[1] \"#############################################################################\"\n",
      "[1] \"water_quality\"\n",
      "[1] \"water_quality contains 'unknown' 1876 : 3.1582 % (of the dataset)\"\n",
      "[1] \"#############################################################################\"\n",
      "[1] \"quality_group\"\n",
      "[1] \"quality_group contains 'unknown' 1876 : 3.1582 % (of the dataset)\"\n",
      "[1] \"#############################################################################\"\n",
      "[1] \"quantity\"\n",
      "[1] \"quantity contains 'unknown' 789 : 1.3283 % (of the dataset)\"\n",
      "[1] \"#############################################################################\"\n",
      "[1] \"quantity_group\"\n",
      "[1] \"quantity_group contains 'unknown' 789 : 1.3283 % (of the dataset)\"\n",
      "[1] \"#############################################################################\"\n",
      "[1] \"source\"\n",
      "[1] \"source contains classes with mention 'other' 212 : 0.36 % (of the dataset)\"\n",
      "[1] \"classes are:\"\n",
      "[1] \"     other : 212\"\n",
      "[1] \"source contains 'unknown' 66 : 0.1111 % (of the dataset)\"\n",
      "[1] \"#############################################################################\"\n",
      "[1] \"source_type\"\n",
      "[1] \"source_type contains classes with mention 'other' 278 : 0.47 % (of the dataset)\"\n",
      "[1] \"classes are:\"\n",
      "[1] \"     other : 278\"\n",
      "[1] \"#############################################################################\"\n",
      "[1] \"source_class\"\n",
      "[1] \"source_class contains 'unknown' 278 : 0.468 % (of the dataset)\"\n",
      "[1] \"#############################################################################\"\n",
      "[1] \"waterpoint_type\"\n",
      "[1] \"waterpoint_type contains classes with mention 'other' 6380 : 10.74 % (of the dataset)\"\n",
      "[1] \"classes are:\"\n",
      "[1] \"     other : 6380\"\n",
      "[1] \"#############################################################################\"\n",
      "[1] \"waterpoint_type_group\"\n",
      "[1] \"waterpoint_type_group contains classes with mention 'other' 6380 : 10.74 % (of the dataset)\"\n",
      "[1] \"classes are:\"\n",
      "[1] \"     other : 6380\"\n",
      "[1] \"#############################################################################\"\n"
     ]
    }
   ],
   "source": [
    "for (i in variables_names$categorical){\n",
    "    #check if it contains classes with the mention 'other'\n",
    "    print(i)\n",
    "    number = length(which(grepl(c(\"other\"), training_X_v2[,i], fixed=TRUE)))\n",
    "    if(number != 0){\n",
    "        #check for 'other' classes\n",
    "        print(paste(i,\"contains classes with mention 'other'\",number,\":\",round(number/length(training_X_v2[,i])*100,2),\"% (of the dataset)\"))\n",
    "        print(\"classes are:\")\n",
    "        summary = summary(training_X_v2[,i])\n",
    "        position = which(grepl(c(\"other\"), names(summary) ,fixed=TRUE))\n",
    "        for (j in position){\n",
    "            print(paste(\"    \",names(summary)[j],\":\",as.vector(summary)[j]))\n",
    "        }\n",
    "    }\n",
    "    \n",
    "    # check if contains 'unknown'\n",
    "    number = length(which(training_X_v2[,i]==\"unknown\"))\n",
    "    if (number != 0){print(paste(i,\"contains 'unknown'\",number,\":\",round(number/length(training_X_v2[,i])*100,4),\"% (of the dataset)\"))}\n",
    "    print(\"#############################################################################\")\n",
    "}"
   ]
  },
  {
   "cell_type": "markdown",
   "metadata": {},
   "source": [
    "#### Replacing \"unknown\" and \"\" (empty) to \"NA\"\n",
    "\n",
    "After these observations, it is required to rename the classes/levels that are called \"unknown\", or \"\" (empty) into \"NA\" (i.e. missing values). We considered flagging them with NA, but seeing how many of those variables contained variables that would be equal to NA, and would therefore not be able to be predicted by our models (as they would not be considered as labeled), it is better to classify those observations into a specific class called \"NA\". In case there were less observations containing an \"unknown\" or empty class, flagging them with NA would probably have been a better option.\n",
    "\n",
    "Concerning the classes called \"other\", we can not do much about it as there is no information on what real class they actually belong to. However, it is interesting to look at the size of the 'other' classes for the feature selection.  \n",
    "\n",
    "As recoding those classes corresponds to 'feature engineering', it will be performed in that section (i.e. Feature Engineering: Variable transformations)."
   ]
  },
  {
   "cell_type": "markdown",
   "metadata": {},
   "source": [
    "### Dependent variable (Y)"
   ]
  },
  {
   "cell_type": "code",
   "execution_count": 24,
   "metadata": {},
   "outputs": [
    {
     "data": {
      "text/html": [
       "<dl class=dl-horizontal>\n",
       "\t<dt>id</dt>\n",
       "\t\t<dd>FALSE</dd>\n",
       "\t<dt>status_group</dt>\n",
       "\t\t<dd>FALSE</dd>\n",
       "</dl>\n"
      ],
      "text/latex": [
       "\\begin{description*}\n",
       "\\item[id] FALSE\n",
       "\\item[status\\textbackslash{}\\_group] FALSE\n",
       "\\end{description*}\n"
      ],
      "text/markdown": [
       "id\n",
       ":   FALSEstatus_group\n",
       ":   FALSE\n",
       "\n"
      ],
      "text/plain": [
       "          id status_group \n",
       "       FALSE        FALSE "
      ]
     },
     "metadata": {},
     "output_type": "display_data"
    }
   ],
   "source": [
    "apply(is.na(training_Y),2,any) #No NA's"
   ]
  },
  {
   "cell_type": "markdown",
   "metadata": {},
   "source": [
    "### Verify for the test set"
   ]
  },
  {
   "cell_type": "code",
   "execution_count": 25,
   "metadata": {},
   "outputs": [
    {
     "data": {
      "text/plain": [
       "\n",
       "FALSE \n",
       "   34 "
      ]
     },
     "metadata": {},
     "output_type": "display_data"
    }
   ],
   "source": [
    "table(apply(is.na(test_X_v2),2,any)) #No NA's"
   ]
  },
  {
   "cell_type": "markdown",
   "metadata": {},
   "source": [
    "## Feature engineering\n",
    "\n",
    "In this part we make the transformations that are required and have not been performed in earlier parts.\n",
    "More specifically, this part does the required variable transformations and checks for eventual outliers.\n",
    "\n",
    "\n",
    "- **Factorizing variables**: The variables ```id```, ```region_code```, ```district_code``` were integers in the original dataset and have already been turned into factors earlier.  \n",
    "\n",
    "- **Variable transformations**:\n",
    "\n",
    "    - categorical variables:  \n",
    "        - ```date_recorded``` categorical --> continuous, keep only the year\n",
    "        - ```installer```: keep only the 5 most represented classes and group other answers in a sixth \"other\" class.\n",
    "        - recode the classes 'unknown' and ''(empty) as NA for (some of) the categorical variables.  \n",
    "        - lowercase the class names of ```scheme_management``` (easier to call it in a loop with the other variables).  \n",
    "    \n",
    "    - continuous variables:  \n",
    "        - the observations that had erroneous data have been set to NA previously (```longitude```, ```latitude```, ```amount_tsh```, ```gps_height```, ```population```, ```construction_year```)\n",
    "\n",
    "- **Outliers**: check range of continuous vars"
   ]
  },
  {
   "cell_type": "markdown",
   "metadata": {},
   "source": [
    "### Variable transformations\n",
    "\n",
    "Below we perform the required variable transformations that we identified in the previous sections."
   ]
  },
  {
   "cell_type": "code",
   "execution_count": 34,
   "metadata": {},
   "outputs": [],
   "source": [
    "# Duplicate the dataset (because changes are immutable)\n",
    "training_X_v3 = training_X_v2\n",
    "test_X_v3 = test_X_v2"
   ]
  },
  {
   "cell_type": "markdown",
   "metadata": {},
   "source": [
    "#### ```date_recorded```: categorical --> continuous, and keep only the year "
   ]
  },
  {
   "cell_type": "code",
   "execution_count": 35,
   "metadata": {},
   "outputs": [
    {
     "data": {
      "text/html": [
       "'integer'"
      ],
      "text/latex": [
       "'integer'"
      ],
      "text/markdown": [
       "'integer'"
      ],
      "text/plain": [
       "[1] \"integer\""
      ]
     },
     "metadata": {},
     "output_type": "display_data"
    },
    {
     "data": {
      "text/html": [
       "'integer'"
      ],
      "text/latex": [
       "'integer'"
      ],
      "text/markdown": [
       "'integer'"
      ],
      "text/plain": [
       "[1] \"integer\""
      ]
     },
     "metadata": {},
     "output_type": "display_data"
    }
   ],
   "source": [
    "######### DATE_RECORDED Categorical --> Continuous (keep only year)\n",
    "\n",
    "#convert into Date\n",
    "training_X_v3[,'date_recorded'] = as.Date(training_X_v3[,\"date_recorded\"], try_Formats = c(\"%Y-%m-%d\"))\n",
    "\n",
    "#extract the year of each date as an integer\n",
    "training_X_v3[,'date_recorded'] = as.integer(format(training_X_v3[,\"date_recorded\"], format=\"%Y\"), \"%Y\")\n",
    "class(training_X_v3[,'date_recorded']) #OK\n",
    "\n",
    "#Apply same changes to the test set\n",
    "test_X_v3[,'date_recorded'] = as.Date(test_X_v3[,\"date_recorded\"], try_Formats = c(\"%Y-%m-%d\"))\n",
    "test_X_v3[,'date_recorded'] = as.integer(format(test_X_v3[,\"date_recorded\"], format=\"%Y\"), \"%Y\")\n",
    "class(test_X_v3[,'date_recorded']) #OK"
   ]
  },
  {
   "cell_type": "code",
   "execution_count": 36,
   "metadata": {},
   "outputs": [],
   "source": [
    "# we also update our list of variables\n",
    "variables_names$categorical = setdiff(variables_names$categorical,\"date_recorded\") #remove from categorical\n",
    "variables_names$continuous = c(variables_names$continuous, \"date_recorded\") #add to continuous"
   ]
  },
  {
   "cell_type": "markdown",
   "metadata": {},
   "source": [
    "#### ```installer```: keep only the 5 most represented classes and group other answers in a sixth \"other\" class"
   ]
  },
  {
   "cell_type": "code",
   "execution_count": 37,
   "metadata": {},
   "outputs": [
    {
     "name": "stdout",
     "output_type": "stream",
     "text": [
      "[1] \"before: 2146 levels, after: 1936 levels\"\n"
     ]
    },
    {
     "data": {
      "text/plain": [
       "\n",
       "     commu        rwe     hesawa government                   dwe \n",
       "      1065       1206       1395       1891       3655      17405 "
      ]
     },
     "metadata": {},
     "output_type": "display_data"
    }
   ],
   "source": [
    "######### INSTALLER: CLEAN, THEN KEEP 5 MOST IMPORTANT LEVELS + REST IN 'OTHER'\n",
    "\n",
    "# CLEAN: lowercase everything, some levels will be 'merged' because of that (e.g. 'UNICEF' and 'Unicef' will be merged in 'unicef')\n",
    "levels(training_X_v3[,'installer']) = tolower(levels(training_X_v3[,'installer']))\n",
    "levels(test_X_v3[,'installer']) = tolower(levels(test_X_v3[,'installer'])) #test set\n",
    "print(paste(\"before:\",length(levels(training_X_v2[,'installer'])),\"levels, after:\",length(levels(training_X_v3[,'installer'])),\"levels\"))\n",
    "\n",
    "# FIND 5 MOST IMPORTANT\n",
    "tail(sort(table(training_X_v3[,'installer'])),6)"
   ]
  },
  {
   "cell_type": "code",
   "execution_count": 38,
   "metadata": {},
   "outputs": [],
   "source": [
    "#result\n",
    "top5 = c(\"commu\",\"rwe\",\"hesawa\",\"government\",\"dwe\")\n",
    "\n",
    "# PUT THE REST IN 'other'\n",
    "levels(training_X_v3[,'installer'])[! levels(training_X_v3[,'installer']) %in% top5] = \"other\"\n",
    "\n",
    "# do the same for the test set\n",
    "levels(test_X_v3[,'installer'])[! levels(test_X_v3[,'installer']) %in% top5] = \"other\""
   ]
  },
  {
   "cell_type": "code",
   "execution_count": 39,
   "metadata": {},
   "outputs": [
    {
     "data": {
      "text/plain": [
       "\n",
       "     other      commu        dwe government     hesawa        rwe \n",
       "      9069        289       4351        476        373        292 "
      ]
     },
     "metadata": {},
     "output_type": "display_data"
    }
   ],
   "source": [
    "#double check\n",
    "#table(training_X_v3[,'installer']) #training set\n",
    "table(test_X_v3[,'installer'])     #test set"
   ]
  },
  {
   "cell_type": "markdown",
   "metadata": {},
   "source": [
    "#### lowercase the class names of ```scheme_management``` \n",
    "\n",
    "Doing so ensures some form of uniformity in the way the classes are named."
   ]
  },
  {
   "cell_type": "code",
   "execution_count": 40,
   "metadata": {},
   "outputs": [
    {
     "name": "stdout",
     "output_type": "stream",
     "text": [
      "[1] \"before: 13 levels, after: 13 levels\"\n"
     ]
    }
   ],
   "source": [
    "# LOWERCASE THE LEVELS OF scheme_management\n",
    "levels(training_X_v3[,'scheme_management']) = tolower(levels(training_X_v3[,'scheme_management']))\n",
    "levels(test_X_v3[,'scheme_management']) = tolower(levels(test_X_v3[,'scheme_management'])) #test set\n",
    "print(paste(\"before:\",length(levels(training_X_v2[,'scheme_management'])),\"levels, after:\",length(levels(training_X_v3[,'scheme_management'])),\"levels\"))"
   ]
  },
  {
   "cell_type": "markdown",
   "metadata": {},
   "source": [
    "#### Recoding 'unknown' and '' as \"NA\"\n",
    "\n",
    "Recoding the classes 'unknown' and ''(empty) as a class called \"NA\" for (some of) the categorical variables. As explained earlier, an ideal case would have been to set them to ```NA``` but since too many observations would then be considered NA (and not taken into account by the models), it would make the predictions on them too complex. Therefore, an alternative is to create a class \"NA\"."
   ]
  },
  {
   "cell_type": "code",
   "execution_count": 42,
   "metadata": {},
   "outputs": [],
   "source": [
    "########## CREATE FUNCTION\n",
    "#function that returns TRUE when a value is missing/unknown, i.e. when a value is 'na', empty, or 'unknown'. \n",
    "#Use sapply() to run it on all the rows of the column/variable\n",
    "\n",
    "check_missing_value = function(value){\n",
    "    if( tolower(value) %in% c(\"na\", \"\", \"unknown\") ){\n",
    "        return (TRUE)\n",
    "    }\n",
    "    else{\n",
    "        return (FALSE)\n",
    "    }\n",
    "}"
   ]
  },
  {
   "cell_type": "code",
   "execution_count": 44,
   "metadata": {
    "scrolled": true
   },
   "outputs": [],
   "source": [
    "########## RECODE TRAINING SET\n",
    "\n",
    "# NOTE: very important that variables_names$categorical is correct (i.e. all categorical variables must be in the list)\n",
    "\n",
    "for (i in setdiff(variables_names$categorical,\"id\")){\n",
    "    #print(i)\n",
    "    if (any(sapply(training_X_v3[,i], check_missing_value)) == TRUE){\n",
    "        # meaning that there's at least one observation that belongs to one of the following levels/classes:\n",
    "        # lowercase(\"na\", \"\", \"unknown\")\n",
    "        \n",
    "        #print(paste(i,\": has at least one level/class that is called 'na', ''(empty), or 'unknown'.\"))\n",
    "        #print(\"Converting the class(es) to NA.\")\n",
    "        \n",
    "        #convert the labels to NA by renaming it\n",
    "        levels(training_X_v3[,i])[levels(training_X_v3[,i]) == \"\"] = \"NA\"\n",
    "        levels(training_X_v3[,i])[levels(training_X_v3[,i]) == \"na\"] = \"NA\"        \n",
    "        #levels(training_X_v3[,i])[levels(training_X_v3[,i]) == \"NA\"] = \"NA\"\n",
    "        levels(training_X_v3[,i])[levels(training_X_v3[,i]) == \"unknown\"] = \"NA\"\n",
    "        levels(training_X_v3[,i])[levels(training_X_v3[,i]) == \"none\"] = \"NA\"\n",
    "        levels(training_X_v3[,i])[levels(training_X_v3[,i]) == \"None\"] = \"NA\"\n",
    "    }\n",
    "}"
   ]
  },
  {
   "cell_type": "code",
   "execution_count": 45,
   "metadata": {
    "scrolled": true
   },
   "outputs": [
    {
     "name": "stdout",
     "output_type": "stream",
     "text": [
      "[1] \"installer : contains missing values? FALSE\"\n",
      "[1] \"basin : contains missing values? FALSE\"\n",
      "[1] \"region : contains missing values? FALSE\"\n",
      "[1] \"region_code : contains missing values? FALSE\"\n",
      "[1] \"district_code : contains missing values? FALSE\"\n",
      "[1] \"lga : contains missing values? FALSE\"\n",
      "[1] \"public_meeting : has at least one level/class that is called 'na', ''(empty), or 'unknown'.\"\n",
      "[1] \"public_meeting : contains missing values? TRUE\"\n",
      "[1] \"scheme_management : has at least one level/class that is called 'na', ''(empty), or 'unknown'.\"\n",
      "[1] \"scheme_management : contains missing values? TRUE\"\n",
      "[1] \"permit : has at least one level/class that is called 'na', ''(empty), or 'unknown'.\"\n",
      "[1] \"permit : contains missing values? TRUE\"\n",
      "[1] \"extraction_type : contains missing values? FALSE\"\n",
      "[1] \"extraction_type_group : contains missing values? FALSE\"\n",
      "[1] \"extraction_type_class : contains missing values? FALSE\"\n",
      "[1] \"management : has at least one level/class that is called 'na', ''(empty), or 'unknown'.\"\n",
      "[1] \"management : contains missing values? TRUE\"\n",
      "[1] \"management_group : has at least one level/class that is called 'na', ''(empty), or 'unknown'.\"\n",
      "[1] \"management_group : contains missing values? TRUE\"\n",
      "[1] \"payment : has at least one level/class that is called 'na', ''(empty), or 'unknown'.\"\n",
      "[1] \"payment : contains missing values? TRUE\"\n",
      "[1] \"payment_type : has at least one level/class that is called 'na', ''(empty), or 'unknown'.\"\n",
      "[1] \"payment_type : contains missing values? TRUE\"\n",
      "[1] \"water_quality : has at least one level/class that is called 'na', ''(empty), or 'unknown'.\"\n",
      "[1] \"water_quality : contains missing values? TRUE\"\n",
      "[1] \"quality_group : has at least one level/class that is called 'na', ''(empty), or 'unknown'.\"\n",
      "[1] \"quality_group : contains missing values? TRUE\"\n",
      "[1] \"quantity : has at least one level/class that is called 'na', ''(empty), or 'unknown'.\"\n",
      "[1] \"quantity : contains missing values? TRUE\"\n",
      "[1] \"quantity_group : has at least one level/class that is called 'na', ''(empty), or 'unknown'.\"\n",
      "[1] \"quantity_group : contains missing values? TRUE\"\n",
      "[1] \"source : has at least one level/class that is called 'na', ''(empty), or 'unknown'.\"\n",
      "[1] \"source : contains missing values? TRUE\"\n",
      "[1] \"source_type : contains missing values? FALSE\"\n",
      "[1] \"source_class : has at least one level/class that is called 'na', ''(empty), or 'unknown'.\"\n",
      "[1] \"source_class : contains missing values? TRUE\"\n",
      "[1] \"waterpoint_type : contains missing values? FALSE\"\n",
      "[1] \"waterpoint_type_group : contains missing values? FALSE\"\n"
     ]
    }
   ],
   "source": [
    "########## RECODE TEST SET\n",
    "\n",
    "for (i in setdiff(variables_names$categorical,\"id\")){ #don't take id into account\n",
    "    #print(i)\n",
    "    if (any(sapply(test_X_v3[,i], check_missing_value)) == TRUE){\n",
    "        # meaning that there's at least one observation that belongs to one of the following levels/classes:\n",
    "        # lowercase(\"na\", \"\", \"unknown\")\n",
    "        \n",
    "        print(paste(i,\": has at least one level/class that is called 'na', ''(empty), or 'unknown'.\"))\n",
    "        #print(\"Converting the class(es) to NA.\")\n",
    "        \n",
    "        #convert the labels to NA by renaming it\n",
    "        levels(test_X_v3[,i])[levels(test_X_v3[,i]) == \"\"] = \"NA\"\n",
    "        levels(test_X_v3[,i])[levels(test_X_v3[,i]) == \"na\"] = \"NA\"        \n",
    "        #levels(test_X_v3[,i])[levels(test_X_v3[,i]) == \"NA\"] = NA\n",
    "        levels(test_X_v3[,i])[levels(test_X_v3[,i]) == \"unknown\"] = \"NA\"\n",
    "        levels(training_X_v3[,i])[levels(training_X_v3[,i]) == \"none\"] = \"NA\"\n",
    "        levels(training_X_v3[,i])[levels(training_X_v3[,i]) == \"None\"] = \"NA\"\n",
    "    }\n",
    "    print(paste(i,\": contains missing values?\", any(sapply(test_X_v3[,i], check_missing_value))) ) #recheck to make sure change was effective\n",
    "}"
   ]
  },
  {
   "cell_type": "code",
   "execution_count": 52,
   "metadata": {},
   "outputs": [],
   "source": [
    "#summary(training_X_v3[,variables_names$categorical]) #double check\n",
    "#summary(test_X_v3[,variables_names$categorical]) #double check"
   ]
  },
  {
   "cell_type": "markdown",
   "metadata": {},
   "source": [
    "### Outliers"
   ]
  },
  {
   "cell_type": "markdown",
   "metadata": {},
   "source": [
    "In order to check for outliers in the geographical data, we compare them to other sources of information about Tanzania.  \n",
    "\n",
    "According to https://worldpopulationreview.com/country-locations/where-is-tanzania : \n",
    "- latitude: [-12, 00]\n",
    "- longitude: [29,40]\n",
    "- max height: 5 895 m (Kilimandjaro) but we don't expect a well at that peak\n"
   ]
  },
  {
   "cell_type": "code",
   "execution_count": 51,
   "metadata": {},
   "outputs": [
    {
     "data": {
      "text/plain": [
       "   amount_tsh         gps_height       longitude        latitude       \n",
       " Min.   :     0.0   Min.   : -90.0   Min.   :29.61   Min.   :-11.6494  \n",
       " 1st Qu.:     0.0   1st Qu.:   0.0   1st Qu.:33.35   1st Qu.: -8.5406  \n",
       " Median :     0.0   Median : 369.0   Median :35.15   Median : -5.4403  \n",
       " Mean   :   317.7   Mean   : 668.3   Mean   :35.15   Mean   : -5.8856  \n",
       " 3rd Qu.:    20.0   3rd Qu.:1319.2   3rd Qu.:37.18   3rd Qu.: -3.3982  \n",
       " Max.   :350000.0   Max.   :2770.0   Max.   :40.35   Max.   : -0.9985  \n",
       "   population      construction_year date_recorded  date_recorded.1\n",
       " Min.   :    0.0   Min.   :   0      Min.   :2002   Min.   :2002   \n",
       " 1st Qu.:    0.0   1st Qu.:   0      1st Qu.:2011   1st Qu.:2011   \n",
       " Median :   25.0   Median :1986      Median :2012   Median :2012   \n",
       " Mean   :  179.9   Mean   :1301      Mean   :2012   Mean   :2012   \n",
       " 3rd Qu.:  215.0   3rd Qu.:2004      3rd Qu.:2013   3rd Qu.:2013   \n",
       " Max.   :30500.0   Max.   :2013      Max.   :2013   Max.   :2013   "
      ]
     },
     "metadata": {},
     "output_type": "display_data"
    }
   ],
   "source": [
    "summary(training_X_v3[,variables_names$continuous])\n"
   ]
  },
  {
   "cell_type": "markdown",
   "metadata": {},
   "source": [
    "### Scaling the data\n",
    "It is also very important to standardize the data, as some of the algorithms that will be used later assume that the data has been standardized earlier.\n",
    "Because there are different techniques to scale (e.g. normalization, min-max) some models have specific requirements, we will scale the data when training the models."
   ]
  },
  {
   "cell_type": "markdown",
   "metadata": {},
   "source": [
    "## Feature selection\n",
    "\n",
    "In this part we propose some selections of features that can be used later on when building the models.  \n",
    "\n",
    "In order to select the right features, we need to analyze the dependencies between the different features. "
   ]
  },
  {
   "cell_type": "code",
   "execution_count": 52,
   "metadata": {},
   "outputs": [],
   "source": [
    "# we merge X and Y in a same dataframe to make it easier when comparing independent variables with the dependent variable\n",
    "training_v4 = merge(training_X_v3, training_Y, by = \"id\")"
   ]
  },
  {
   "cell_type": "markdown",
   "metadata": {},
   "source": [
    "### Association between categorical variables:"
   ]
  },
  {
   "cell_type": "markdown",
   "metadata": {},
   "source": [
    "#### Categorical variables: dependencies"
   ]
  },
  {
   "cell_type": "markdown",
   "metadata": {},
   "source": [
    "Analyzing the dependency between two categorical variables, say $X_A$ and $X_B$, can be done by conducting a  Chi-squared test. It tests:  \n",
    "\n",
    "$H_0$: $X_A$ and $X_B$ are indepedent  \n",
    "$H_a$: $X_A$ and $X_B$ are not indepedent\n",
    "\n",
    "The idea is to record the different combinations of these two variables in a contingency table. Then, under the null hypothesis, it is expected that the observed values of these combinations are uniformly distributed over the table. If that is not the case, then the null hypothesis is rejected and we cannot assume that $X_A$ and $X_B$ are independent.  \n",
    "\n",
    "$$\\chi^2 = \\sum_i \\sum_j \\frac{(O_{ij}-E_{ij})^2}{E_{ij}} $$\n",
    "\n",
    "with : $df=(n-1)(m-1)$ degrees of freedom, where n and m are the number of classes/levels in the first and second variable respectively.   \n",
    "where:  \n",
    "- $E_{ij}$: is the expected counts under the null hypothesis. \n",
    "- $O_{ij}$: is the observed count in the data. $O_{ij}= \\frac{row \\ j \\ total * column \\ i \\ total}{ table \\ total}$\n",
    "\n",
    "\n",
    "Hence, in practice, a contingency table is made and the null hypothesis implies that the row and the column variables of the contingency table are independent. Under the null hypothesis, the values observed in the contingency table should be similar to the expected ones. The Chi-square test can be conducted in R using ```chisq.test()``` with either the contingency table or the two variables as argument. \n",
    "\n",
    "Some interesting tutorials regarding the implementation of this test can be found at: https://www.datacamp.com/community/tutorials/contingency-analysis-r and https://www.datacamp.com/community/tutorials/contingency-tables-r.\n",
    "\n",
    "\n",
    "Based on the Chi-squared test, we can also compute Cramer's V. This is very interesting to us as it provides a measure of the intensity of the dependency between the two variables, which the Chi-squared test doesn't do (Chi-Square assesses only significance). The Cramer's coefficient is the following:\n",
    "\n",
    "$$V = \\sqrt{\\frac{\\chi^2}{\\chi^2_{max}}} $$ \n",
    "\n",
    "where: $\\chi^2_\\text{max} = N \\times ( \\min(N, P) - 1 )$, with $N$ the number of rows (i.e. number of classes of the first variable) and $P$ the number of columns (i.e. number of classes of the second variable) in the contingency matrix.\n",
    "\n",
    "Cramer's V is therefore contained in $[0,1]$, where 0 is maximal independence, and 1 reflects a maximal correlation.\n",
    "\n",
    "Note: Another approach to assess the intensity of the dependence could consist of using distance metrics but these methods scale-sensitive and do not always provide reliable results when the number of classes between the two variables is different, unless performing one-hot encoding."
   ]
  },
  {
   "cell_type": "markdown",
   "metadata": {},
   "source": [
    "Below, we create our own function that performs the Chi-Square test and computes Cramer's V. Note however that this function appears to be slower than the ones that can be found in different R packages.\n"
   ]
  },
  {
   "cell_type": "code",
   "execution_count": 32,
   "metadata": {},
   "outputs": [],
   "source": [
    "######## CRAMER'S V and CHI-SQUARE TEST\n",
    "\n",
    "cramer_V_bis = function(x,y){\n",
    "    #suggested from https://datascience.stackexchange.com/questions/51591/what-measures-can-i-use-to-find-correlation-between-categorical-features-and-bin/51635#51635\n",
    "    #alternative is CramerV from DescTools library\n",
    "    contingency_table = table(format(x), format(y)) #using format ensures that no empty classes are taken into account\n",
    "    chi_square = chisq.test(contingency_table)$statistic\n",
    "    \n",
    "    return(list(\"Chi_Squared\" = as.vector(chi_square), \"Cramer_V\" = sqrt(as.vector(chi_square) / (sum(contingency_table) * min(dim(contingency_table) - 1 )))))\n",
    "}\n",
    "\n",
    "#CramerV function from DescTools computes it as well\n",
    "#install.packages('DescTools') #to use the CramerV function\n",
    "#library(DescTools)"
   ]
  },
  {
   "cell_type": "markdown",
   "metadata": {},
   "source": [
    "We create a function called ```cramerV_matrix``` that will return a matrix that compares variables with each other, and returns Cramer's V values (based on Chi-Square test). The function can compute Cramer's V based on our own implementation (```method = \"manual\"```), based on the ```cramer_V```function we defined earlier, or on the function ```CramerV``` contained in the ```DescTools``` library (```method = \"DescTools\"```). While our implementation is correct, it appears to be running **much slower than the DescTools implementation**, hence why we propose that method as well."
   ]
  },
  {
   "cell_type": "code",
   "execution_count": 33,
   "metadata": {},
   "outputs": [],
   "source": [
    "cramerV_matrix = function(data, method = c(\"manual\",\"DescTools\"), Y_var, X_var){\n",
    "    \n",
    "    # setup arguments\n",
    "    if (!method %in% c(\"manual\",\"DescTools\")){\n",
    "        return(print(\"Please choose a method between 'manual' (slower) or 'DescTools'. Note: method 'DescTools' requires the DescTools package.\"))\n",
    "    }\n",
    "    a = data.frame(data) #Make sure it's a dataframe\n",
    "    \n",
    "    ##### setup matrix\n",
    "    matrix_cat <- matrix(NA, nrow=length(c(Y_var,X_var)), ncol=length(c(Y_var,X_var)))\n",
    "    colnames(matrix_cat) <- c(Y_var,X_var)\n",
    "    rownames(matrix_cat) <- c(Y_var, X_var)\n",
    "    \n",
    "    ##### run algo\n",
    "    \n",
    "        for(row in c(Y_var,X_var)){\n",
    "\n",
    "        matrix_cat[row,row] = 1 #setting it manually prevents from computing Cramer V of similar variables, which is unnecessary\n",
    "\n",
    "        for (column in c(Y_var,X_var)){\n",
    "            \n",
    "            if(is.na(matrix_cat[row,column])){ #Only compute when the cell is NA (at the start), prevents to compute twice the same cell (symmetric matrix)\n",
    "\n",
    "                #if using our own 'implementation', which is much slower...\n",
    "                if (method == \"manual\"){\n",
    "                    #matrix_cat[row,column] = round(cramer_V(data = a, var1=row, var2=column)$Cramer_V, digits = 4)\n",
    "                    matrix_cat[row,column] = round(cramer_V_bis(x=a[,row], y=a[,column])$Cramer_V, digits = 4)\n",
    "                }\n",
    "                \n",
    "                # using DescTools CramerV function\n",
    "                else if(method == \"DescTools\"){\n",
    "                    require(DescTools)\n",
    "\n",
    "                    matrix_cat[row,column] = round(CramerV(x= a[,row], y=a[,column],useNA=\"no\"), digits = 4)\n",
    "                }\n",
    "\n",
    "            }  \n",
    "\n",
    "        } #closing iteration over columns\n",
    "    } #closing iteration over rows, end of iteration\n",
    "\n",
    "    return (matrix_cat)    \n",
    "}"
   ]
  },
  {
   "cell_type": "markdown",
   "metadata": {},
   "source": [
    "The following cell contains the code to compute the Cramer's V-based correlation matrix using the DescTools package. As it is not natively installed, we comment out this cell in case the notebook is run automatically. The cell below it, contains the implementation that does not require any package, but is much slower to run."
   ]
  },
  {
   "cell_type": "code",
   "execution_count": 34,
   "metadata": {},
   "outputs": [],
   "source": [
    "##### based on DescTools CramerV function\n",
    "\n",
    "#install.packages('DescTools') #to use the CramerV function\n",
    "#library(DescTools)\n",
    "\n",
    "X_cat_vars = setdiff(variables_names$categorical, \"id\")\n",
    "#X_cont_vars = setdiff(variables_names$continuous, \"id\")\n",
    "\n",
    "#dependencies_matrix = cramerV_matrix(data=training_v4, method = \"DescTools\", Y_var=\"status_group\", X_var=X_cat_vars)\n"
   ]
  },
  {
   "cell_type": "code",
   "execution_count": 63,
   "metadata": {},
   "outputs": [],
   "source": [
    "#dependencies_matrix "
   ]
  },
  {
   "cell_type": "code",
   "execution_count": 36,
   "metadata": {},
   "outputs": [],
   "source": [
    "####### BASED ON OUR OWN FUNCTION\n",
    "\n",
    "# much slower, we recommend using the 'DescTools' method as it is much faster...\n",
    "\n",
    "# Warnings occur every time one value in the contingency table is less than 5, \n",
    "# which occurs frequently in our case as some of the variables are nearly the same (hence many cells = 0 in the contingency tables)\n",
    "\n",
    "# Here, we remove the warnings \n",
    "################################################\n",
    "old.warn <- options()$warn #save old env\n",
    "options(warn = -1)\n",
    "\n",
    "dependencies_matrix_manual = cramerV_matrix(data=training_v4, method = \"manual\", Y_var=\"status_group\", X_var=X_cat_vars)\n",
    "\n",
    "options(warn = old.warn) #reset the old warnings as before\n",
    "################################################\n",
    "# it can be run without the options() set to warn = -1 but then it will print a warning everytime, which we can get rid of using -1"
   ]
  },
  {
   "cell_type": "code",
   "execution_count": 37,
   "metadata": {},
   "outputs": [
    {
     "data": {
      "text/html": [
       "<table>\n",
       "<thead><tr><th></th><th scope=col>status_group</th><th scope=col>installer</th><th scope=col>basin</th><th scope=col>region</th><th scope=col>region_code</th><th scope=col>district_code</th><th scope=col>lga</th><th scope=col>public_meeting</th><th scope=col>scheme_management</th><th scope=col>permit</th><th scope=col>...</th><th scope=col>payment_type</th><th scope=col>water_quality</th><th scope=col>quality_group</th><th scope=col>quantity</th><th scope=col>quantity_group</th><th scope=col>source</th><th scope=col>source_type</th><th scope=col>source_class</th><th scope=col>waterpoint_type</th><th scope=col>waterpoint_type_group</th></tr></thead>\n",
       "<tbody>\n",
       "\t<tr><th scope=row>status_group</th><td>1.0000</td><td>0.1022</td><td>0.1272</td><td>0.2009</td><td>0.2084</td><td>0.1187</td><td>0.3115</td><td>0.0569</td><td>0.1295</td><td>0.0296</td><td>...   </td><td>0.1827</td><td>0.1385</td><td>0.1330</td><td>0.3092</td><td>0.3092</td><td>0.1486</td><td>0.1267</td><td>0.0705</td><td>0.2504</td><td>0.2269</td></tr>\n",
       "\t<tr><th scope=row>installer</th><td>0.1022</td><td>1.0000</td><td>0.2348</td><td>0.3335</td><td>0.3363</td><td>0.1878</td><td>0.6719</td><td>0.0965</td><td>0.1438</td><td>0.1851</td><td>...   </td><td>0.0870</td><td>0.0424</td><td>0.0406</td><td>0.0700</td><td>0.0700</td><td>0.1480</td><td>0.1315</td><td>0.0899</td><td>0.1060</td><td>0.0972</td></tr>\n",
       "\t<tr><th scope=row>basin</th><td>0.1272</td><td>0.2348</td><td>1.0000</td><td>0.7672</td><td>0.7740</td><td>0.3140</td><td>0.9078</td><td>0.1627</td><td>0.2462</td><td>0.2705</td><td>...   </td><td>0.2450</td><td>0.1199</td><td>0.1392</td><td>0.1390</td><td>0.1390</td><td>0.2450</td><td>0.2550</td><td>0.1237</td><td>0.2086</td><td>0.1966</td></tr>\n",
       "\t<tr><th scope=row>region</th><td>0.2009</td><td>0.3335</td><td>0.7672</td><td>1.0000</td><td>0.9981</td><td>0.3256</td><td>1.0000</td><td>0.3584</td><td>0.3501</td><td>0.4469</td><td>...   </td><td>0.3575</td><td>0.1990</td><td>0.2154</td><td>0.2131</td><td>0.2131</td><td>0.3220</td><td>0.3566</td><td>0.2212</td><td>0.2945</td><td>0.2714</td></tr>\n",
       "\t<tr><th scope=row>region_code</th><td>0.2084</td><td>0.3363</td><td>0.7740</td><td>0.9981</td><td>1.0000</td><td>0.4196</td><td>0.9727</td><td>0.3648</td><td>0.3653</td><td>0.4571</td><td>...   </td><td>0.3688</td><td>0.2085</td><td>0.2275</td><td>0.2325</td><td>0.2325</td><td>0.3352</td><td>0.3727</td><td>0.2575</td><td>0.3014</td><td>0.2754</td></tr>\n",
       "\t<tr><th scope=row>district_code</th><td>0.1187</td><td>0.1878</td><td>0.3140</td><td>0.3256</td><td>0.4196</td><td>1.0000</td><td>0.8576</td><td>0.1879</td><td>0.1860</td><td>0.2428</td><td>...   </td><td>0.1674</td><td>0.1146</td><td>0.1304</td><td>0.1526</td><td>0.1526</td><td>0.1479</td><td>0.1654</td><td>0.1983</td><td>0.1207</td><td>0.1183</td></tr>\n",
       "\t<tr><th scope=row>lga</th><td>0.3115</td><td>0.6719</td><td>0.9078</td><td>1.0000</td><td>0.9727</td><td>0.8576</td><td>1.0000</td><td>0.5804</td><td>0.6003</td><td>0.8658</td><td>...   </td><td>0.5637</td><td>0.3563</td><td>0.3953</td><td>0.4215</td><td>0.4215</td><td>0.4692</td><td>0.5080</td><td>0.4797</td><td>0.4231</td><td>0.4046</td></tr>\n",
       "\t<tr><th scope=row>public_meeting</th><td>0.0569</td><td>0.0965</td><td>0.1627</td><td>0.3584</td><td>0.3648</td><td>0.1879</td><td>0.5804</td><td>1.0000</td><td>0.2529</td><td>0.1026</td><td>...   </td><td>0.2518</td><td>0.1155</td><td>0.1046</td><td>0.1460</td><td>0.1460</td><td>0.1227</td><td>0.1003</td><td>0.0561</td><td>0.0764</td><td>0.0761</td></tr>\n",
       "\t<tr><th scope=row>scheme_management</th><td>0.1295</td><td>0.1438</td><td>0.2462</td><td>0.3501</td><td>0.3653</td><td>0.1860</td><td>0.6003</td><td>0.2529</td><td>1.0000</td><td>0.2275</td><td>...   </td><td>0.2116</td><td>0.1293</td><td>0.1406</td><td>0.1669</td><td>0.1669</td><td>0.2309</td><td>0.2773</td><td>0.2220</td><td>0.1918</td><td>0.2052</td></tr>\n",
       "\t<tr><th scope=row>permit</th><td>0.0296</td><td>0.1851</td><td>0.2705</td><td>0.4469</td><td>0.4571</td><td>0.2428</td><td>0.8658</td><td>0.1026</td><td>0.2275</td><td>1.0000</td><td>...   </td><td>0.1593</td><td>0.1516</td><td>0.1452</td><td>0.0762</td><td>0.0762</td><td>0.1663</td><td>0.1620</td><td>0.0791</td><td>0.1368</td><td>0.1170</td></tr>\n",
       "\t<tr><th scope=row>extraction_type</th><td>0.2490</td><td>0.1564</td><td>0.2461</td><td>0.2611</td><td>0.2757</td><td>0.1198</td><td>0.3892</td><td>0.1306</td><td>0.1853</td><td>0.1709</td><td>...   </td><td>0.2443</td><td>0.1491</td><td>0.1740</td><td>0.1230</td><td>0.1230</td><td>0.4079</td><td>0.4832</td><td>0.3096</td><td>0.5053</td><td>0.5369</td></tr>\n",
       "\t<tr><th scope=row>extraction_type_group</th><td>0.2473</td><td>0.1500</td><td>0.2398</td><td>0.2912</td><td>0.2994</td><td>0.1294</td><td>0.4187</td><td>0.1133</td><td>0.1672</td><td>0.1592</td><td>...   </td><td>0.2424</td><td>0.1460</td><td>0.1706</td><td>0.1171</td><td>0.1171</td><td>0.3931</td><td>0.4652</td><td>0.2715</td><td>0.5045</td><td>0.5366</td></tr>\n",
       "\t<tr><th scope=row>extraction_type_class</th><td>0.2415</td><td>0.1281</td><td>0.2505</td><td>0.3584</td><td>0.3698</td><td>0.1488</td><td>0.4851</td><td>0.1063</td><td>0.2237</td><td>0.1398</td><td>...   </td><td>0.2314</td><td>0.1471</td><td>0.1601</td><td>0.1081</td><td>0.1081</td><td>0.4549</td><td>0.4396</td><td>0.2711</td><td>0.5044</td><td>0.5365</td></tr>\n",
       "\t<tr><th scope=row>management</th><td>0.1324</td><td>0.1002</td><td>0.2222</td><td>0.3430</td><td>0.3481</td><td>0.1455</td><td>0.5611</td><td>0.2707</td><td>0.7492</td><td>0.1753</td><td>...   </td><td>0.2267</td><td>0.1395</td><td>0.1573</td><td>0.2395</td><td>0.2395</td><td>0.2165</td><td>0.2589</td><td>0.2018</td><td>0.1558</td><td>0.1667</td></tr>\n",
       "\t<tr><th scope=row>management_group</th><td>0.0492</td><td>0.0701</td><td>0.1421</td><td>0.2223</td><td>0.2281</td><td>0.1079</td><td>0.4274</td><td>0.2173</td><td>0.6933</td><td>0.0468</td><td>...   </td><td>0.1458</td><td>0.1394</td><td>0.1382</td><td>0.2280</td><td>0.2280</td><td>0.2249</td><td>0.2188</td><td>0.1360</td><td>0.0704</td><td>0.0677</td></tr>\n",
       "\t<tr><th scope=row>payment</th><td>0.1827</td><td>0.0870</td><td>0.2450</td><td>0.3575</td><td>0.3688</td><td>0.1674</td><td>0.5637</td><td>0.2518</td><td>0.2116</td><td>0.1593</td><td>...   </td><td>1.0000</td><td>0.1337</td><td>0.1433</td><td>0.1275</td><td>0.1275</td><td>0.2045</td><td>0.1903</td><td>0.0989</td><td>0.1637</td><td>0.1634</td></tr>\n",
       "\t<tr><th scope=row>payment_type</th><td>0.1827</td><td>0.0870</td><td>0.2450</td><td>0.3575</td><td>0.3688</td><td>0.1674</td><td>0.5637</td><td>0.2518</td><td>0.2116</td><td>0.1593</td><td>...   </td><td>1.0000</td><td>0.1337</td><td>0.1433</td><td>0.1275</td><td>0.1275</td><td>0.2045</td><td>0.1903</td><td>0.0989</td><td>0.1637</td><td>0.1634</td></tr>\n",
       "\t<tr><th scope=row>water_quality</th><td>0.1385</td><td>0.0424</td><td>0.1199</td><td>0.1990</td><td>0.2085</td><td>0.1146</td><td>0.3563</td><td>0.1155</td><td>0.1293</td><td>0.1516</td><td>...   </td><td>0.1337</td><td>1.0000</td><td>1.0000</td><td>0.2805</td><td>0.2805</td><td>0.1521</td><td>0.1598</td><td>0.1355</td><td>0.1273</td><td>0.1320</td></tr>\n",
       "\t<tr><th scope=row>quality_group</th><td>0.1330</td><td>0.0406</td><td>0.1392</td><td>0.2154</td><td>0.2275</td><td>0.1304</td><td>0.3953</td><td>0.1046</td><td>0.1406</td><td>0.1452</td><td>...   </td><td>0.1433</td><td>1.0000</td><td>1.0000</td><td>0.2796</td><td>0.2796</td><td>0.1794</td><td>0.1746</td><td>0.1351</td><td>0.1380</td><td>0.1309</td></tr>\n",
       "\t<tr><th scope=row>quantity</th><td>0.3092</td><td>0.0700</td><td>0.1390</td><td>0.2131</td><td>0.2325</td><td>0.1526</td><td>0.4215</td><td>0.1460</td><td>0.1669</td><td>0.0762</td><td>...   </td><td>0.1275</td><td>0.2805</td><td>0.2796</td><td>1.0000</td><td>1.0000</td><td>0.2058</td><td>0.1989</td><td>0.1372</td><td>0.0926</td><td>0.0847</td></tr>\n",
       "\t<tr><th scope=row>quantity_group</th><td>0.3092</td><td>0.0700</td><td>0.1390</td><td>0.2131</td><td>0.2325</td><td>0.1526</td><td>0.4215</td><td>0.1460</td><td>0.1669</td><td>0.0762</td><td>...   </td><td>0.1275</td><td>0.2805</td><td>0.2796</td><td>1.0000</td><td>1.0000</td><td>0.2058</td><td>0.1989</td><td>0.1372</td><td>0.0926</td><td>0.0847</td></tr>\n",
       "\t<tr><th scope=row>source</th><td>0.1486</td><td>0.1480</td><td>0.2450</td><td>0.3220</td><td>0.3352</td><td>0.1479</td><td>0.4692</td><td>0.1227</td><td>0.2309</td><td>0.1663</td><td>...   </td><td>0.2045</td><td>0.1521</td><td>0.1794</td><td>0.2058</td><td>0.2058</td><td>1.0000</td><td>1.0000</td><td>1.0000</td><td>0.3792</td><td>0.3847</td></tr>\n",
       "\t<tr><th scope=row>source_type</th><td>0.1267</td><td>0.1315</td><td>0.2550</td><td>0.3566</td><td>0.3727</td><td>0.1654</td><td>0.5080</td><td>0.1003</td><td>0.2773</td><td>0.1620</td><td>...   </td><td>0.1903</td><td>0.1598</td><td>0.1746</td><td>0.1989</td><td>0.1989</td><td>1.0000</td><td>1.0000</td><td>1.0000</td><td>0.3670</td><td>0.3798</td></tr>\n",
       "\t<tr><th scope=row>source_class</th><td>0.0705</td><td>0.0899</td><td>0.1237</td><td>0.2212</td><td>0.2575</td><td>0.1983</td><td>0.4797</td><td>0.0561</td><td>0.2220</td><td>0.0791</td><td>...   </td><td>0.0989</td><td>0.1355</td><td>0.1351</td><td>0.1372</td><td>0.1372</td><td>1.0000</td><td>1.0000</td><td>1.0000</td><td>0.2844</td><td>0.2837</td></tr>\n",
       "\t<tr><th scope=row>waterpoint_type</th><td>0.2504</td><td>0.1060</td><td>0.2086</td><td>0.2945</td><td>0.3014</td><td>0.1207</td><td>0.4231</td><td>0.0764</td><td>0.1918</td><td>0.1368</td><td>...   </td><td>0.1637</td><td>0.1273</td><td>0.1380</td><td>0.0926</td><td>0.0926</td><td>0.3792</td><td>0.3670</td><td>0.2844</td><td>1.0000</td><td>1.0000</td></tr>\n",
       "\t<tr><th scope=row>waterpoint_type_group</th><td>0.2269</td><td>0.0972</td><td>0.1966</td><td>0.2714</td><td>0.2754</td><td>0.1183</td><td>0.4046</td><td>0.0761</td><td>0.2052</td><td>0.1170</td><td>...   </td><td>0.1634</td><td>0.1320</td><td>0.1309</td><td>0.0847</td><td>0.0847</td><td>0.3847</td><td>0.3798</td><td>0.2837</td><td>1.0000</td><td>1.0000</td></tr>\n",
       "</tbody>\n",
       "</table>\n"
      ],
      "text/latex": [
       "\\begin{tabular}{r|llllllllllllllllllllllllll}\n",
       "  & status\\_group & installer & basin & region & region\\_code & district\\_code & lga & public\\_meeting & scheme\\_management & permit & ... & payment\\_type & water\\_quality & quality\\_group & quantity & quantity\\_group & source & source\\_type & source\\_class & waterpoint\\_type & waterpoint\\_type\\_group\\\\\n",
       "\\hline\n",
       "\tstatus\\_group & 1.0000 & 0.1022 & 0.1272 & 0.2009 & 0.2084 & 0.1187 & 0.3115 & 0.0569 & 0.1295 & 0.0296 & ...    & 0.1827 & 0.1385 & 0.1330 & 0.3092 & 0.3092 & 0.1486 & 0.1267 & 0.0705 & 0.2504 & 0.2269\\\\\n",
       "\tinstaller & 0.1022 & 1.0000 & 0.2348 & 0.3335 & 0.3363 & 0.1878 & 0.6719 & 0.0965 & 0.1438 & 0.1851 & ...    & 0.0870 & 0.0424 & 0.0406 & 0.0700 & 0.0700 & 0.1480 & 0.1315 & 0.0899 & 0.1060 & 0.0972\\\\\n",
       "\tbasin & 0.1272 & 0.2348 & 1.0000 & 0.7672 & 0.7740 & 0.3140 & 0.9078 & 0.1627 & 0.2462 & 0.2705 & ...    & 0.2450 & 0.1199 & 0.1392 & 0.1390 & 0.1390 & 0.2450 & 0.2550 & 0.1237 & 0.2086 & 0.1966\\\\\n",
       "\tregion & 0.2009 & 0.3335 & 0.7672 & 1.0000 & 0.9981 & 0.3256 & 1.0000 & 0.3584 & 0.3501 & 0.4469 & ...    & 0.3575 & 0.1990 & 0.2154 & 0.2131 & 0.2131 & 0.3220 & 0.3566 & 0.2212 & 0.2945 & 0.2714\\\\\n",
       "\tregion\\_code & 0.2084 & 0.3363 & 0.7740 & 0.9981 & 1.0000 & 0.4196 & 0.9727 & 0.3648 & 0.3653 & 0.4571 & ...    & 0.3688 & 0.2085 & 0.2275 & 0.2325 & 0.2325 & 0.3352 & 0.3727 & 0.2575 & 0.3014 & 0.2754\\\\\n",
       "\tdistrict\\_code & 0.1187 & 0.1878 & 0.3140 & 0.3256 & 0.4196 & 1.0000 & 0.8576 & 0.1879 & 0.1860 & 0.2428 & ...    & 0.1674 & 0.1146 & 0.1304 & 0.1526 & 0.1526 & 0.1479 & 0.1654 & 0.1983 & 0.1207 & 0.1183\\\\\n",
       "\tlga & 0.3115 & 0.6719 & 0.9078 & 1.0000 & 0.9727 & 0.8576 & 1.0000 & 0.5804 & 0.6003 & 0.8658 & ...    & 0.5637 & 0.3563 & 0.3953 & 0.4215 & 0.4215 & 0.4692 & 0.5080 & 0.4797 & 0.4231 & 0.4046\\\\\n",
       "\tpublic\\_meeting & 0.0569 & 0.0965 & 0.1627 & 0.3584 & 0.3648 & 0.1879 & 0.5804 & 1.0000 & 0.2529 & 0.1026 & ...    & 0.2518 & 0.1155 & 0.1046 & 0.1460 & 0.1460 & 0.1227 & 0.1003 & 0.0561 & 0.0764 & 0.0761\\\\\n",
       "\tscheme\\_management & 0.1295 & 0.1438 & 0.2462 & 0.3501 & 0.3653 & 0.1860 & 0.6003 & 0.2529 & 1.0000 & 0.2275 & ...    & 0.2116 & 0.1293 & 0.1406 & 0.1669 & 0.1669 & 0.2309 & 0.2773 & 0.2220 & 0.1918 & 0.2052\\\\\n",
       "\tpermit & 0.0296 & 0.1851 & 0.2705 & 0.4469 & 0.4571 & 0.2428 & 0.8658 & 0.1026 & 0.2275 & 1.0000 & ...    & 0.1593 & 0.1516 & 0.1452 & 0.0762 & 0.0762 & 0.1663 & 0.1620 & 0.0791 & 0.1368 & 0.1170\\\\\n",
       "\textraction\\_type & 0.2490 & 0.1564 & 0.2461 & 0.2611 & 0.2757 & 0.1198 & 0.3892 & 0.1306 & 0.1853 & 0.1709 & ...    & 0.2443 & 0.1491 & 0.1740 & 0.1230 & 0.1230 & 0.4079 & 0.4832 & 0.3096 & 0.5053 & 0.5369\\\\\n",
       "\textraction\\_type\\_group & 0.2473 & 0.1500 & 0.2398 & 0.2912 & 0.2994 & 0.1294 & 0.4187 & 0.1133 & 0.1672 & 0.1592 & ...    & 0.2424 & 0.1460 & 0.1706 & 0.1171 & 0.1171 & 0.3931 & 0.4652 & 0.2715 & 0.5045 & 0.5366\\\\\n",
       "\textraction\\_type\\_class & 0.2415 & 0.1281 & 0.2505 & 0.3584 & 0.3698 & 0.1488 & 0.4851 & 0.1063 & 0.2237 & 0.1398 & ...    & 0.2314 & 0.1471 & 0.1601 & 0.1081 & 0.1081 & 0.4549 & 0.4396 & 0.2711 & 0.5044 & 0.5365\\\\\n",
       "\tmanagement & 0.1324 & 0.1002 & 0.2222 & 0.3430 & 0.3481 & 0.1455 & 0.5611 & 0.2707 & 0.7492 & 0.1753 & ...    & 0.2267 & 0.1395 & 0.1573 & 0.2395 & 0.2395 & 0.2165 & 0.2589 & 0.2018 & 0.1558 & 0.1667\\\\\n",
       "\tmanagement\\_group & 0.0492 & 0.0701 & 0.1421 & 0.2223 & 0.2281 & 0.1079 & 0.4274 & 0.2173 & 0.6933 & 0.0468 & ...    & 0.1458 & 0.1394 & 0.1382 & 0.2280 & 0.2280 & 0.2249 & 0.2188 & 0.1360 & 0.0704 & 0.0677\\\\\n",
       "\tpayment & 0.1827 & 0.0870 & 0.2450 & 0.3575 & 0.3688 & 0.1674 & 0.5637 & 0.2518 & 0.2116 & 0.1593 & ...    & 1.0000 & 0.1337 & 0.1433 & 0.1275 & 0.1275 & 0.2045 & 0.1903 & 0.0989 & 0.1637 & 0.1634\\\\\n",
       "\tpayment\\_type & 0.1827 & 0.0870 & 0.2450 & 0.3575 & 0.3688 & 0.1674 & 0.5637 & 0.2518 & 0.2116 & 0.1593 & ...    & 1.0000 & 0.1337 & 0.1433 & 0.1275 & 0.1275 & 0.2045 & 0.1903 & 0.0989 & 0.1637 & 0.1634\\\\\n",
       "\twater\\_quality & 0.1385 & 0.0424 & 0.1199 & 0.1990 & 0.2085 & 0.1146 & 0.3563 & 0.1155 & 0.1293 & 0.1516 & ...    & 0.1337 & 1.0000 & 1.0000 & 0.2805 & 0.2805 & 0.1521 & 0.1598 & 0.1355 & 0.1273 & 0.1320\\\\\n",
       "\tquality\\_group & 0.1330 & 0.0406 & 0.1392 & 0.2154 & 0.2275 & 0.1304 & 0.3953 & 0.1046 & 0.1406 & 0.1452 & ...    & 0.1433 & 1.0000 & 1.0000 & 0.2796 & 0.2796 & 0.1794 & 0.1746 & 0.1351 & 0.1380 & 0.1309\\\\\n",
       "\tquantity & 0.3092 & 0.0700 & 0.1390 & 0.2131 & 0.2325 & 0.1526 & 0.4215 & 0.1460 & 0.1669 & 0.0762 & ...    & 0.1275 & 0.2805 & 0.2796 & 1.0000 & 1.0000 & 0.2058 & 0.1989 & 0.1372 & 0.0926 & 0.0847\\\\\n",
       "\tquantity\\_group & 0.3092 & 0.0700 & 0.1390 & 0.2131 & 0.2325 & 0.1526 & 0.4215 & 0.1460 & 0.1669 & 0.0762 & ...    & 0.1275 & 0.2805 & 0.2796 & 1.0000 & 1.0000 & 0.2058 & 0.1989 & 0.1372 & 0.0926 & 0.0847\\\\\n",
       "\tsource & 0.1486 & 0.1480 & 0.2450 & 0.3220 & 0.3352 & 0.1479 & 0.4692 & 0.1227 & 0.2309 & 0.1663 & ...    & 0.2045 & 0.1521 & 0.1794 & 0.2058 & 0.2058 & 1.0000 & 1.0000 & 1.0000 & 0.3792 & 0.3847\\\\\n",
       "\tsource\\_type & 0.1267 & 0.1315 & 0.2550 & 0.3566 & 0.3727 & 0.1654 & 0.5080 & 0.1003 & 0.2773 & 0.1620 & ...    & 0.1903 & 0.1598 & 0.1746 & 0.1989 & 0.1989 & 1.0000 & 1.0000 & 1.0000 & 0.3670 & 0.3798\\\\\n",
       "\tsource\\_class & 0.0705 & 0.0899 & 0.1237 & 0.2212 & 0.2575 & 0.1983 & 0.4797 & 0.0561 & 0.2220 & 0.0791 & ...    & 0.0989 & 0.1355 & 0.1351 & 0.1372 & 0.1372 & 1.0000 & 1.0000 & 1.0000 & 0.2844 & 0.2837\\\\\n",
       "\twaterpoint\\_type & 0.2504 & 0.1060 & 0.2086 & 0.2945 & 0.3014 & 0.1207 & 0.4231 & 0.0764 & 0.1918 & 0.1368 & ...    & 0.1637 & 0.1273 & 0.1380 & 0.0926 & 0.0926 & 0.3792 & 0.3670 & 0.2844 & 1.0000 & 1.0000\\\\\n",
       "\twaterpoint\\_type\\_group & 0.2269 & 0.0972 & 0.1966 & 0.2714 & 0.2754 & 0.1183 & 0.4046 & 0.0761 & 0.2052 & 0.1170 & ...    & 0.1634 & 0.1320 & 0.1309 & 0.0847 & 0.0847 & 0.3847 & 0.3798 & 0.2837 & 1.0000 & 1.0000\\\\\n",
       "\\end{tabular}\n"
      ],
      "text/markdown": [
       "\n",
       "| <!--/--> | status_group | installer | basin | region | region_code | district_code | lga | public_meeting | scheme_management | permit | ... | payment_type | water_quality | quality_group | quantity | quantity_group | source | source_type | source_class | waterpoint_type | waterpoint_type_group |\n",
       "|---|---|---|---|---|---|---|---|---|---|---|---|---|---|---|---|---|---|---|---|---|---|\n",
       "| status_group | 1.0000 | 0.1022 | 0.1272 | 0.2009 | 0.2084 | 0.1187 | 0.3115 | 0.0569 | 0.1295 | 0.0296 | ...    | 0.1827 | 0.1385 | 0.1330 | 0.3092 | 0.3092 | 0.1486 | 0.1267 | 0.0705 | 0.2504 | 0.2269 |\n",
       "| installer | 0.1022 | 1.0000 | 0.2348 | 0.3335 | 0.3363 | 0.1878 | 0.6719 | 0.0965 | 0.1438 | 0.1851 | ...    | 0.0870 | 0.0424 | 0.0406 | 0.0700 | 0.0700 | 0.1480 | 0.1315 | 0.0899 | 0.1060 | 0.0972 |\n",
       "| basin | 0.1272 | 0.2348 | 1.0000 | 0.7672 | 0.7740 | 0.3140 | 0.9078 | 0.1627 | 0.2462 | 0.2705 | ...    | 0.2450 | 0.1199 | 0.1392 | 0.1390 | 0.1390 | 0.2450 | 0.2550 | 0.1237 | 0.2086 | 0.1966 |\n",
       "| region | 0.2009 | 0.3335 | 0.7672 | 1.0000 | 0.9981 | 0.3256 | 1.0000 | 0.3584 | 0.3501 | 0.4469 | ...    | 0.3575 | 0.1990 | 0.2154 | 0.2131 | 0.2131 | 0.3220 | 0.3566 | 0.2212 | 0.2945 | 0.2714 |\n",
       "| region_code | 0.2084 | 0.3363 | 0.7740 | 0.9981 | 1.0000 | 0.4196 | 0.9727 | 0.3648 | 0.3653 | 0.4571 | ...    | 0.3688 | 0.2085 | 0.2275 | 0.2325 | 0.2325 | 0.3352 | 0.3727 | 0.2575 | 0.3014 | 0.2754 |\n",
       "| district_code | 0.1187 | 0.1878 | 0.3140 | 0.3256 | 0.4196 | 1.0000 | 0.8576 | 0.1879 | 0.1860 | 0.2428 | ...    | 0.1674 | 0.1146 | 0.1304 | 0.1526 | 0.1526 | 0.1479 | 0.1654 | 0.1983 | 0.1207 | 0.1183 |\n",
       "| lga | 0.3115 | 0.6719 | 0.9078 | 1.0000 | 0.9727 | 0.8576 | 1.0000 | 0.5804 | 0.6003 | 0.8658 | ...    | 0.5637 | 0.3563 | 0.3953 | 0.4215 | 0.4215 | 0.4692 | 0.5080 | 0.4797 | 0.4231 | 0.4046 |\n",
       "| public_meeting | 0.0569 | 0.0965 | 0.1627 | 0.3584 | 0.3648 | 0.1879 | 0.5804 | 1.0000 | 0.2529 | 0.1026 | ...    | 0.2518 | 0.1155 | 0.1046 | 0.1460 | 0.1460 | 0.1227 | 0.1003 | 0.0561 | 0.0764 | 0.0761 |\n",
       "| scheme_management | 0.1295 | 0.1438 | 0.2462 | 0.3501 | 0.3653 | 0.1860 | 0.6003 | 0.2529 | 1.0000 | 0.2275 | ...    | 0.2116 | 0.1293 | 0.1406 | 0.1669 | 0.1669 | 0.2309 | 0.2773 | 0.2220 | 0.1918 | 0.2052 |\n",
       "| permit | 0.0296 | 0.1851 | 0.2705 | 0.4469 | 0.4571 | 0.2428 | 0.8658 | 0.1026 | 0.2275 | 1.0000 | ...    | 0.1593 | 0.1516 | 0.1452 | 0.0762 | 0.0762 | 0.1663 | 0.1620 | 0.0791 | 0.1368 | 0.1170 |\n",
       "| extraction_type | 0.2490 | 0.1564 | 0.2461 | 0.2611 | 0.2757 | 0.1198 | 0.3892 | 0.1306 | 0.1853 | 0.1709 | ...    | 0.2443 | 0.1491 | 0.1740 | 0.1230 | 0.1230 | 0.4079 | 0.4832 | 0.3096 | 0.5053 | 0.5369 |\n",
       "| extraction_type_group | 0.2473 | 0.1500 | 0.2398 | 0.2912 | 0.2994 | 0.1294 | 0.4187 | 0.1133 | 0.1672 | 0.1592 | ...    | 0.2424 | 0.1460 | 0.1706 | 0.1171 | 0.1171 | 0.3931 | 0.4652 | 0.2715 | 0.5045 | 0.5366 |\n",
       "| extraction_type_class | 0.2415 | 0.1281 | 0.2505 | 0.3584 | 0.3698 | 0.1488 | 0.4851 | 0.1063 | 0.2237 | 0.1398 | ...    | 0.2314 | 0.1471 | 0.1601 | 0.1081 | 0.1081 | 0.4549 | 0.4396 | 0.2711 | 0.5044 | 0.5365 |\n",
       "| management | 0.1324 | 0.1002 | 0.2222 | 0.3430 | 0.3481 | 0.1455 | 0.5611 | 0.2707 | 0.7492 | 0.1753 | ...    | 0.2267 | 0.1395 | 0.1573 | 0.2395 | 0.2395 | 0.2165 | 0.2589 | 0.2018 | 0.1558 | 0.1667 |\n",
       "| management_group | 0.0492 | 0.0701 | 0.1421 | 0.2223 | 0.2281 | 0.1079 | 0.4274 | 0.2173 | 0.6933 | 0.0468 | ...    | 0.1458 | 0.1394 | 0.1382 | 0.2280 | 0.2280 | 0.2249 | 0.2188 | 0.1360 | 0.0704 | 0.0677 |\n",
       "| payment | 0.1827 | 0.0870 | 0.2450 | 0.3575 | 0.3688 | 0.1674 | 0.5637 | 0.2518 | 0.2116 | 0.1593 | ...    | 1.0000 | 0.1337 | 0.1433 | 0.1275 | 0.1275 | 0.2045 | 0.1903 | 0.0989 | 0.1637 | 0.1634 |\n",
       "| payment_type | 0.1827 | 0.0870 | 0.2450 | 0.3575 | 0.3688 | 0.1674 | 0.5637 | 0.2518 | 0.2116 | 0.1593 | ...    | 1.0000 | 0.1337 | 0.1433 | 0.1275 | 0.1275 | 0.2045 | 0.1903 | 0.0989 | 0.1637 | 0.1634 |\n",
       "| water_quality | 0.1385 | 0.0424 | 0.1199 | 0.1990 | 0.2085 | 0.1146 | 0.3563 | 0.1155 | 0.1293 | 0.1516 | ...    | 0.1337 | 1.0000 | 1.0000 | 0.2805 | 0.2805 | 0.1521 | 0.1598 | 0.1355 | 0.1273 | 0.1320 |\n",
       "| quality_group | 0.1330 | 0.0406 | 0.1392 | 0.2154 | 0.2275 | 0.1304 | 0.3953 | 0.1046 | 0.1406 | 0.1452 | ...    | 0.1433 | 1.0000 | 1.0000 | 0.2796 | 0.2796 | 0.1794 | 0.1746 | 0.1351 | 0.1380 | 0.1309 |\n",
       "| quantity | 0.3092 | 0.0700 | 0.1390 | 0.2131 | 0.2325 | 0.1526 | 0.4215 | 0.1460 | 0.1669 | 0.0762 | ...    | 0.1275 | 0.2805 | 0.2796 | 1.0000 | 1.0000 | 0.2058 | 0.1989 | 0.1372 | 0.0926 | 0.0847 |\n",
       "| quantity_group | 0.3092 | 0.0700 | 0.1390 | 0.2131 | 0.2325 | 0.1526 | 0.4215 | 0.1460 | 0.1669 | 0.0762 | ...    | 0.1275 | 0.2805 | 0.2796 | 1.0000 | 1.0000 | 0.2058 | 0.1989 | 0.1372 | 0.0926 | 0.0847 |\n",
       "| source | 0.1486 | 0.1480 | 0.2450 | 0.3220 | 0.3352 | 0.1479 | 0.4692 | 0.1227 | 0.2309 | 0.1663 | ...    | 0.2045 | 0.1521 | 0.1794 | 0.2058 | 0.2058 | 1.0000 | 1.0000 | 1.0000 | 0.3792 | 0.3847 |\n",
       "| source_type | 0.1267 | 0.1315 | 0.2550 | 0.3566 | 0.3727 | 0.1654 | 0.5080 | 0.1003 | 0.2773 | 0.1620 | ...    | 0.1903 | 0.1598 | 0.1746 | 0.1989 | 0.1989 | 1.0000 | 1.0000 | 1.0000 | 0.3670 | 0.3798 |\n",
       "| source_class | 0.0705 | 0.0899 | 0.1237 | 0.2212 | 0.2575 | 0.1983 | 0.4797 | 0.0561 | 0.2220 | 0.0791 | ...    | 0.0989 | 0.1355 | 0.1351 | 0.1372 | 0.1372 | 1.0000 | 1.0000 | 1.0000 | 0.2844 | 0.2837 |\n",
       "| waterpoint_type | 0.2504 | 0.1060 | 0.2086 | 0.2945 | 0.3014 | 0.1207 | 0.4231 | 0.0764 | 0.1918 | 0.1368 | ...    | 0.1637 | 0.1273 | 0.1380 | 0.0926 | 0.0926 | 0.3792 | 0.3670 | 0.2844 | 1.0000 | 1.0000 |\n",
       "| waterpoint_type_group | 0.2269 | 0.0972 | 0.1966 | 0.2714 | 0.2754 | 0.1183 | 0.4046 | 0.0761 | 0.2052 | 0.1170 | ...    | 0.1634 | 0.1320 | 0.1309 | 0.0847 | 0.0847 | 0.3847 | 0.3798 | 0.2837 | 1.0000 | 1.0000 |\n",
       "\n"
      ],
      "text/plain": [
       "                      status_group installer basin  region region_code\n",
       "status_group          1.0000       0.1022    0.1272 0.2009 0.2084     \n",
       "installer             0.1022       1.0000    0.2348 0.3335 0.3363     \n",
       "basin                 0.1272       0.2348    1.0000 0.7672 0.7740     \n",
       "region                0.2009       0.3335    0.7672 1.0000 0.9981     \n",
       "region_code           0.2084       0.3363    0.7740 0.9981 1.0000     \n",
       "district_code         0.1187       0.1878    0.3140 0.3256 0.4196     \n",
       "lga                   0.3115       0.6719    0.9078 1.0000 0.9727     \n",
       "public_meeting        0.0569       0.0965    0.1627 0.3584 0.3648     \n",
       "scheme_management     0.1295       0.1438    0.2462 0.3501 0.3653     \n",
       "permit                0.0296       0.1851    0.2705 0.4469 0.4571     \n",
       "extraction_type       0.2490       0.1564    0.2461 0.2611 0.2757     \n",
       "extraction_type_group 0.2473       0.1500    0.2398 0.2912 0.2994     \n",
       "extraction_type_class 0.2415       0.1281    0.2505 0.3584 0.3698     \n",
       "management            0.1324       0.1002    0.2222 0.3430 0.3481     \n",
       "management_group      0.0492       0.0701    0.1421 0.2223 0.2281     \n",
       "payment               0.1827       0.0870    0.2450 0.3575 0.3688     \n",
       "payment_type          0.1827       0.0870    0.2450 0.3575 0.3688     \n",
       "water_quality         0.1385       0.0424    0.1199 0.1990 0.2085     \n",
       "quality_group         0.1330       0.0406    0.1392 0.2154 0.2275     \n",
       "quantity              0.3092       0.0700    0.1390 0.2131 0.2325     \n",
       "quantity_group        0.3092       0.0700    0.1390 0.2131 0.2325     \n",
       "source                0.1486       0.1480    0.2450 0.3220 0.3352     \n",
       "source_type           0.1267       0.1315    0.2550 0.3566 0.3727     \n",
       "source_class          0.0705       0.0899    0.1237 0.2212 0.2575     \n",
       "waterpoint_type       0.2504       0.1060    0.2086 0.2945 0.3014     \n",
       "waterpoint_type_group 0.2269       0.0972    0.1966 0.2714 0.2754     \n",
       "                      district_code lga    public_meeting scheme_management\n",
       "status_group          0.1187        0.3115 0.0569         0.1295           \n",
       "installer             0.1878        0.6719 0.0965         0.1438           \n",
       "basin                 0.3140        0.9078 0.1627         0.2462           \n",
       "region                0.3256        1.0000 0.3584         0.3501           \n",
       "region_code           0.4196        0.9727 0.3648         0.3653           \n",
       "district_code         1.0000        0.8576 0.1879         0.1860           \n",
       "lga                   0.8576        1.0000 0.5804         0.6003           \n",
       "public_meeting        0.1879        0.5804 1.0000         0.2529           \n",
       "scheme_management     0.1860        0.6003 0.2529         1.0000           \n",
       "permit                0.2428        0.8658 0.1026         0.2275           \n",
       "extraction_type       0.1198        0.3892 0.1306         0.1853           \n",
       "extraction_type_group 0.1294        0.4187 0.1133         0.1672           \n",
       "extraction_type_class 0.1488        0.4851 0.1063         0.2237           \n",
       "management            0.1455        0.5611 0.2707         0.7492           \n",
       "management_group      0.1079        0.4274 0.2173         0.6933           \n",
       "payment               0.1674        0.5637 0.2518         0.2116           \n",
       "payment_type          0.1674        0.5637 0.2518         0.2116           \n",
       "water_quality         0.1146        0.3563 0.1155         0.1293           \n",
       "quality_group         0.1304        0.3953 0.1046         0.1406           \n",
       "quantity              0.1526        0.4215 0.1460         0.1669           \n",
       "quantity_group        0.1526        0.4215 0.1460         0.1669           \n",
       "source                0.1479        0.4692 0.1227         0.2309           \n",
       "source_type           0.1654        0.5080 0.1003         0.2773           \n",
       "source_class          0.1983        0.4797 0.0561         0.2220           \n",
       "waterpoint_type       0.1207        0.4231 0.0764         0.1918           \n",
       "waterpoint_type_group 0.1183        0.4046 0.0761         0.2052           \n",
       "                      permit ... payment_type water_quality quality_group\n",
       "status_group          0.0296 ... 0.1827       0.1385        0.1330       \n",
       "installer             0.1851 ... 0.0870       0.0424        0.0406       \n",
       "basin                 0.2705 ... 0.2450       0.1199        0.1392       \n",
       "region                0.4469 ... 0.3575       0.1990        0.2154       \n",
       "region_code           0.4571 ... 0.3688       0.2085        0.2275       \n",
       "district_code         0.2428 ... 0.1674       0.1146        0.1304       \n",
       "lga                   0.8658 ... 0.5637       0.3563        0.3953       \n",
       "public_meeting        0.1026 ... 0.2518       0.1155        0.1046       \n",
       "scheme_management     0.2275 ... 0.2116       0.1293        0.1406       \n",
       "permit                1.0000 ... 0.1593       0.1516        0.1452       \n",
       "extraction_type       0.1709 ... 0.2443       0.1491        0.1740       \n",
       "extraction_type_group 0.1592 ... 0.2424       0.1460        0.1706       \n",
       "extraction_type_class 0.1398 ... 0.2314       0.1471        0.1601       \n",
       "management            0.1753 ... 0.2267       0.1395        0.1573       \n",
       "management_group      0.0468 ... 0.1458       0.1394        0.1382       \n",
       "payment               0.1593 ... 1.0000       0.1337        0.1433       \n",
       "payment_type          0.1593 ... 1.0000       0.1337        0.1433       \n",
       "water_quality         0.1516 ... 0.1337       1.0000        1.0000       \n",
       "quality_group         0.1452 ... 0.1433       1.0000        1.0000       \n",
       "quantity              0.0762 ... 0.1275       0.2805        0.2796       \n",
       "quantity_group        0.0762 ... 0.1275       0.2805        0.2796       \n",
       "source                0.1663 ... 0.2045       0.1521        0.1794       \n",
       "source_type           0.1620 ... 0.1903       0.1598        0.1746       \n",
       "source_class          0.0791 ... 0.0989       0.1355        0.1351       \n",
       "waterpoint_type       0.1368 ... 0.1637       0.1273        0.1380       \n",
       "waterpoint_type_group 0.1170 ... 0.1634       0.1320        0.1309       \n",
       "                      quantity quantity_group source source_type source_class\n",
       "status_group          0.3092   0.3092         0.1486 0.1267      0.0705      \n",
       "installer             0.0700   0.0700         0.1480 0.1315      0.0899      \n",
       "basin                 0.1390   0.1390         0.2450 0.2550      0.1237      \n",
       "region                0.2131   0.2131         0.3220 0.3566      0.2212      \n",
       "region_code           0.2325   0.2325         0.3352 0.3727      0.2575      \n",
       "district_code         0.1526   0.1526         0.1479 0.1654      0.1983      \n",
       "lga                   0.4215   0.4215         0.4692 0.5080      0.4797      \n",
       "public_meeting        0.1460   0.1460         0.1227 0.1003      0.0561      \n",
       "scheme_management     0.1669   0.1669         0.2309 0.2773      0.2220      \n",
       "permit                0.0762   0.0762         0.1663 0.1620      0.0791      \n",
       "extraction_type       0.1230   0.1230         0.4079 0.4832      0.3096      \n",
       "extraction_type_group 0.1171   0.1171         0.3931 0.4652      0.2715      \n",
       "extraction_type_class 0.1081   0.1081         0.4549 0.4396      0.2711      \n",
       "management            0.2395   0.2395         0.2165 0.2589      0.2018      \n",
       "management_group      0.2280   0.2280         0.2249 0.2188      0.1360      \n",
       "payment               0.1275   0.1275         0.2045 0.1903      0.0989      \n",
       "payment_type          0.1275   0.1275         0.2045 0.1903      0.0989      \n",
       "water_quality         0.2805   0.2805         0.1521 0.1598      0.1355      \n",
       "quality_group         0.2796   0.2796         0.1794 0.1746      0.1351      \n",
       "quantity              1.0000   1.0000         0.2058 0.1989      0.1372      \n",
       "quantity_group        1.0000   1.0000         0.2058 0.1989      0.1372      \n",
       "source                0.2058   0.2058         1.0000 1.0000      1.0000      \n",
       "source_type           0.1989   0.1989         1.0000 1.0000      1.0000      \n",
       "source_class          0.1372   0.1372         1.0000 1.0000      1.0000      \n",
       "waterpoint_type       0.0926   0.0926         0.3792 0.3670      0.2844      \n",
       "waterpoint_type_group 0.0847   0.0847         0.3847 0.3798      0.2837      \n",
       "                      waterpoint_type waterpoint_type_group\n",
       "status_group          0.2504          0.2269               \n",
       "installer             0.1060          0.0972               \n",
       "basin                 0.2086          0.1966               \n",
       "region                0.2945          0.2714               \n",
       "region_code           0.3014          0.2754               \n",
       "district_code         0.1207          0.1183               \n",
       "lga                   0.4231          0.4046               \n",
       "public_meeting        0.0764          0.0761               \n",
       "scheme_management     0.1918          0.2052               \n",
       "permit                0.1368          0.1170               \n",
       "extraction_type       0.5053          0.5369               \n",
       "extraction_type_group 0.5045          0.5366               \n",
       "extraction_type_class 0.5044          0.5365               \n",
       "management            0.1558          0.1667               \n",
       "management_group      0.0704          0.0677               \n",
       "payment               0.1637          0.1634               \n",
       "payment_type          0.1637          0.1634               \n",
       "water_quality         0.1273          0.1320               \n",
       "quality_group         0.1380          0.1309               \n",
       "quantity              0.0926          0.0847               \n",
       "quantity_group        0.0926          0.0847               \n",
       "source                0.3792          0.3847               \n",
       "source_type           0.3670          0.3798               \n",
       "source_class          0.2844          0.2837               \n",
       "waterpoint_type       1.0000          1.0000               \n",
       "waterpoint_type_group 1.0000          1.0000               "
      ]
     },
     "metadata": {},
     "output_type": "display_data"
    }
   ],
   "source": [
    "dependencies_matrix_manual #obtained results are the same as for the DescTools implementation"
   ]
  },
  {
   "cell_type": "markdown",
   "metadata": {},
   "source": [
    "Since this matrix is rather difficult to interpret and it is always difficult to put a threshold on what is considered as a very strong dependence, we visualize the above matrix in a correlation graph, which allows to directly see what variables are strongly dependent. "
   ]
  },
  {
   "cell_type": "markdown",
   "metadata": {},
   "source": [
    "The following cell requires the ```corrplot``` library, and since it might not be installed, we comment out the following code such that it does not produce errors on computers that don't have it installed.\n",
    "\n",
    "If ```corrplot``` is installed, please uncomment the cell and run the code. The output has been computed on a computer that had the library installed."
   ]
  },
  {
   "cell_type": "code",
   "execution_count": 62,
   "metadata": {},
   "outputs": [
    {
     "name": "stderr",
     "output_type": "stream",
     "text": [
      "corrplot 0.88 loaded\n"
     ]
    },
    {
     "data": {
      "image/png": "[encoded data removed]",
      "text/plain": [
       "Plot with title “”"
      ]
     },
     "metadata": {},
     "output_type": "display_data"
    }
   ],
   "source": [
    "#options(repr.plot.width=10, repr.plot.height=9) #, repr.plot.res = 100) #to keep resolution\n",
    "#install.packages('corrplot')\n",
    "#library(corrplot)\n",
    "\n",
    "# Create our own palette of colors (blue)\n",
    "#own_col = colorRampPalette(c(\"aliceblue\",\"lightblue\",\"lightskyblue\",\"lightslateblue\",\"blue1\",\"blue3\",\"darkblue\"))\n",
    "\n",
    "##### PLOT\n",
    "#corrplot(dependencies_matrix_manual, type=\"upper\", method = \"circle\", col = own_col(6), is.corr=FALSE, cl.lim=c(0,1), tl.col = \"black\") #order=\"hclust\""
   ]
  },
  {
   "cell_type": "markdown",
   "metadata": {},
   "source": [
    "The goal of this process is to select a minimum amount of data (minimize redundancy) while keeping as much information as possible (maximize relevancy). Therefore, we need to:  \n",
    "- 1. identify the variables that are strongly dependent of each other\n",
    "- 2. amongst those, select the ones to keep (and the others to remove), based on:\n",
    "    - the dependency with the dependent variable (Y): the higher the better\n",
    "    - the number of classes they have: if they have roughly the same dependency with the dependent variable (Y), it is better to keep the independent variables (X) that contain less classes\n"
   ]
  },
  {
   "cell_type": "markdown",
   "metadata": {},
   "source": [
    "Some observations:  \n",
    "- different 'families' of variables that are strongly dependent on each other. Therefore, per 'family', only one variable should be kept (decision based on the criteria explained above).\n",
    "- ```lga``` has a strong dependency with many variables. It is an interesting variable because it has a relatively large dependence with Y, but it appears that it is also quite dependent with the other variables, which suggests that it does not bring much additional information than what is already contained in the other variables.\n",
    "\n",
    "Based on the criteria stated above, we propose two selections for the categorical variables:\n",
    "- **minimalistic model** that contains ```lga``` such that we can remove all the variables that have a strong correlation with that variable. This should contain a reasonable amount of information, but is more leaning towards minimalistic redundancy.  \n",
    "\n",
    "- **broader selection** of variables that is more leaning towards maximal information, with a constraint on the redundancy in the sense that we include only one variable per 'family', and remove the other ones. Also, this selection prefers to keep more variables but removes ```lga``` as it is strongly correlated with many other variables.\n",
    "\n",
    "Those two selections can be found in the cell below."
   ]
  },
  {
   "cell_type": "code",
   "execution_count": 38,
   "metadata": {},
   "outputs": [],
   "source": [
    "######## SIMPLE\n",
    "# removed the variables that have a small dependency with status_group (Y), and removed region because it is too dependent on lga\n",
    "# quantity (categorical) and amount_tsh (continuous) seem to be kind of the same idea (but didn't test statistically)\n",
    "simple_cat = c(\"lga\",\"quantity\",\"extraction_type_class\",\"waterpoint_type\",\n",
    "               \"payment\",\"source_class\",\"management\")\n",
    "# Assuming lga contains a lot of information, we remove all the other variables that are strongly correlated with it.\n",
    "# However, we don't expect this be the most accurate model as it is very minimalistic.\n",
    "\n",
    "######## LESS DEPENDENCY BETWEEN VARIABLES: more variables but less dependency between them\n",
    "max_info = c('installer', 'basin' ,'population', 'public_meeting',\n",
    "             'scheme_management', 'permit', 'extraction_type_class', 'management_group', \n",
    "             \"payment\", \"payment_type\", \"quality_group\", \"quantity_group\", \"source_class\", \"waterpoint_type_group\")\n",
    "\n",
    "# removed lga and region because quite dependent with other variables\n",
    "\n",
    "#NOTE: the continuous variables have not been analyzed yet, they will be assessed in a later part"
   ]
  },
  {
   "cell_type": "markdown",
   "metadata": {},
   "source": [
    "#### Categorical variables: Adapted mRMR\n"
   ]
  },
  {
   "cell_type": "markdown",
   "metadata": {},
   "source": [
    "Here, we propose a feature selection based on mRMR (function called ```adapted_mRMR```). While the mRMR is usually used to compare continuous variables with each other, based on their correlation, here we try to adapt the technique to categorical variables, by using the Cramer's V as statistic that measures the correlation/dependency (which is itself based on a Chi-Squared test)."
   ]
  },
  {
   "cell_type": "markdown",
   "metadata": {},
   "source": [
    "Create two different options for the redundancy function:  \n",
    "\n",
    "- ```redundancy_fct ='nb_variables'```: classic redundancy function that computes the number of variables.  \n",
    "\n",
    "- ```redundancy_fct ='nb_levels' ```: our own redundancy function, that computes the total number of levels/classes, instead of only the number of variables. We believe that since the categorical variables can have different numbers of classes, this should be taken into account when computing the mRMR score. Otherwise, we would probably end up having the variables with high numbers of classes on top of the rankings as they contain more precise information and are not penalized more than others for their 'heaviness' and redundancy."
   ]
  },
  {
   "cell_type": "code",
   "execution_count": 39,
   "metadata": {},
   "outputs": [],
   "source": [
    "adapted_mRMR = function(redundancy_fct, x_variables, y, data, method){\n",
    "    #alternative to nb_variables for redundancy_fct is nb_levels, which counts the total number of levels used instead of counting variables\n",
    "    \n",
    "    # drop = F is used to preserve the structure of the data as data.frame (see https://www.r-bloggers.com/2018/02/r-tip-use-drop-false-with-data-frames/)\n",
    "    \n",
    "    X = data[,x_variables,drop=F]\n",
    "    Y = data[,y,drop=F]\n",
    "    \n",
    "    CV_folds <- 2\n",
    "    N = dim(data)[1]\n",
    "    n = length(x_variables) #consider all categorical variables\n",
    "        \n",
    "    size_CV <-floor(N/CV_folds)\n",
    "    \n",
    "    CV_err<-matrix(0,nrow=n,ncol=CV_folds)\n",
    "\n",
    "    for (i in 1:CV_folds) {\n",
    "        \n",
    "        idx_ts<-(((i-1)*size_CV+1):(i*size_CV))  ### idx_ts represents the indices of the test set the i-th fold\n",
    "        X_ts<- X[idx_ts,]  \n",
    "        Y_ts<- Y[idx_ts,]  \n",
    "\n",
    "        idx_tr<-setdiff(1:N,idx_ts) ### idx_tr represents  indices of the training sefor the i-th fold\n",
    "        X_tr<-X[idx_tr,]\n",
    "        Y_tr<-Y[idx_tr,]                          \n",
    "\n",
    "        ##### CramerV\n",
    "        # Computing the correlation between input variables and output variable on the training set\n",
    "        #correlation<-abs(cor(X_tr,Y_tr))\n",
    "        correlation = matrix(NA, nrow=length(x_variables), ncol=1)\n",
    "        colnames(correlation) <- c(y)\n",
    "        rownames(correlation) <- x_variables\n",
    "\n",
    "        for (row in x_variables){\n",
    "            if (method==\"manual\"){\n",
    "                correlation[row,] = cramer_V_bis(X_tr[,row], Y_tr)$Cramer_V\n",
    "            }\n",
    "            else if (method == \"DescTools\"){\n",
    "                \n",
    "                correlation[row,] = CramerV(factor(X_tr[,row]), y=factor(Y_tr), useNA=\"no\")\n",
    "                #(CramerV(x= a[,row], y=a[,column],useNA=\"no\")\n",
    "            }\n",
    "        }\n",
    "\n",
    "        # Initialization : No variables are selected and all the variables are candidates\n",
    "        selected<-c()\n",
    "        candidates<-1:n\n",
    "\n",
    "        #mRMR ranks the variables by taking account not only the correlation with the output, but also by avoiding redudant variables\n",
    "        for (j in 1:n) {\n",
    "\n",
    "            if(redundancy_fct == \"nb_levels\"){ #redundancy_score takes into account the number of levels of each candidate as well\n",
    "                sum_count = 0 #initialize the counter\n",
    "                for(i in candidates){\n",
    "                    sum_count = sum_count + length(levels(X[,i])) #sum up the number of levels of each candidate\n",
    "                }\n",
    "                redundancy_score = sum_count #redundancy_score is the total sum of levels of the candidates\n",
    "            }\n",
    "            else if (redundancy_fct == \"nb_variables\"){\n",
    "                redundancy_score = numeric(length(candidates)) #redundancy_score is on the number of variables\n",
    "            }\n",
    "            else{\n",
    "                redundancy_score = numeric(length(candidates))\n",
    "            }\n",
    "\n",
    "            #print(paste(\"candidates\",candidates,redundancy_score))\n",
    "\n",
    "            if (length(selected)>0) {\n",
    "                # Compute the correlation between the selected variables and the candidates on the training set\n",
    "                #cor_selected_candidates<-cor(X_tr[,selected,drop=F],X_tr[,candidates,drop=F])\n",
    "                cor_selected_candidates = matrix(NA, nrow=length(selected), ncol=length(candidates))\n",
    "                colnames(cor_selected_candidates) <- colnames(X_tr[,candidates,drop=F])\n",
    "                rownames(cor_selected_candidates) <- colnames(X_tr[,selected,drop=F])\n",
    "\n",
    "                for(row in colnames(X_tr[,selected,drop=F])){\n",
    "                    for(column in colnames(X_tr[,candidates,drop=F])){\n",
    "                        \n",
    "                        if (method==\"manual\"){\n",
    "                            cor_selected_candidates[row,column] = cramer_V_bis(X_tr[,row], X_tr[,column])$Cramer_V\n",
    "                        }\n",
    "                        else if (method == \"DescTools\"){\n",
    "                            #cor_selected_candidates[row,column] = CramerV(factor(X_tr[,row,drop=F]), factor(X_tr[,column,drop=F]))\n",
    "                            cor_selected_candidates[row,column] = CramerV(factor(X_tr[,row]), factor(X_tr[,column]), useNA=\"no\")\n",
    "                        }\n",
    "                    }\n",
    "                }\n",
    "                # Compute the mean correlation for each candidate variable, across the selected variables\n",
    "                redundancy_score<-apply(cor_selected_candidates,2,mean)\n",
    "            }\n",
    "            \n",
    "            # mRMR: minimum Redundancy Maximum Relevancy\n",
    "            mRMR_score<-correlation[candidates]-redundancy_score\n",
    "            \n",
    "            # Select the candidate variable that maximises the mRMR score\n",
    "            selected_current<-candidates[which.max(mRMR_score)]\n",
    "            selected<-c(selected,selected_current)\n",
    "\n",
    "            # Remove the selected variables from the candidates\n",
    "            candidates<-setdiff(candidates,selected_current)\n",
    "        }\n",
    "        \n",
    "        ranking <- selected\n",
    "        \n",
    "    } #close loop going through the 10 CV folds\n",
    "\n",
    "    return(list(\"ranking\"=ranking, \"col_names\" = colnames(X)[ranking]))\n",
    "}"
   ]
  },
  {
   "cell_type": "markdown",
   "metadata": {},
   "source": [
    "The following cell will run the mRMR procedure by using ```method=\"DescTools\"```, which computes based on our own function ```cramer_V_bis```. The advantage is that it does not require any special library. The downside is that **IT IS VERY SLOW** . Therefore, we comment it out so that it is not run. In case the DescTools library is installed, please do change the argument to ```method=\"DescTools\"```, which will use the included ```CramerV``` for the computations and IS MUCH FASTER!\n",
    "\n",
    "In practice, we used the DescTools method because the manual method is too slow. Therefore, we comment out the following cell and provide the result as computed with the DescTools library."
   ]
  },
  {
   "cell_type": "code",
   "execution_count": 66,
   "metadata": {},
   "outputs": [],
   "source": [
    "# COMMENT OUT BECAUSE IT USES DescTools, which must be installed\n",
    "\n",
    "#library(DescTools)\n",
    "\n",
    "#x_var_cat = setdiff(variables_names$categorical,c(\"id\"))\n",
    "\n",
    "#COMPUTE mRMR on all categorical variables\n",
    "\n",
    "# Here, we remove the warnings \n",
    "#old.warn <- options()$warn #save old env\n",
    "#options(warn = -1)\n",
    "##################### WARNING REMOVED ##################\n",
    "\n",
    "#by_total_nb_levels = adapted_mRMR(redundancy_fct = \"nb_levels\", x_variables = x_var_cat, y= \"status_group\", data=training_v4, method=\"DescTools\")\n",
    "\n",
    "#options(warn = old.warn) #reset the old warnings as before\n",
    "##############################################\n",
    "# it can be run without the options() set to warn = -1 but then it will print a warning everytime, which we get rid of"
   ]
  },
  {
   "cell_type": "code",
   "execution_count": 67,
   "metadata": {},
   "outputs": [
    {
     "data": {
      "text/html": [
       "<dl>\n",
       "\t<dt>$ranking</dt>\n",
       "\t\t<dd><ol class=list-inline>\n",
       "\t<li>6</li>\n",
       "\t<li>19</li>\n",
       "\t<li>24</li>\n",
       "\t<li>10</li>\n",
       "\t<li>15</li>\n",
       "\t<li>20</li>\n",
       "\t<li>17</li>\n",
       "\t<li>1</li>\n",
       "\t<li>25</li>\n",
       "\t<li>13</li>\n",
       "\t<li>5</li>\n",
       "\t<li>11</li>\n",
       "\t<li>16</li>\n",
       "\t<li>18</li>\n",
       "\t<li>21</li>\n",
       "\t<li>7</li>\n",
       "\t<li>12</li>\n",
       "\t<li>8</li>\n",
       "\t<li>2</li>\n",
       "\t<li>3</li>\n",
       "\t<li>23</li>\n",
       "\t<li>9</li>\n",
       "\t<li>14</li>\n",
       "\t<li>4</li>\n",
       "\t<li>22</li>\n",
       "</ol>\n",
       "</dd>\n",
       "\t<dt>$col_names</dt>\n",
       "\t\t<dd><ol class=list-inline>\n",
       "\t<li>'lga'</li>\n",
       "\t<li>'quantity'</li>\n",
       "\t<li>'waterpoint_type'</li>\n",
       "\t<li>'extraction_type'</li>\n",
       "\t<li>'payment'</li>\n",
       "\t<li>'quantity_group'</li>\n",
       "\t<li>'water_quality'</li>\n",
       "\t<li>'installer'</li>\n",
       "\t<li>'waterpoint_type_group'</li>\n",
       "\t<li>'management'</li>\n",
       "\t<li>'district_code'</li>\n",
       "\t<li>'extraction_type_group'</li>\n",
       "\t<li>'payment_type'</li>\n",
       "\t<li>'quality_group'</li>\n",
       "\t<li>'source'</li>\n",
       "\t<li>'public_meeting'</li>\n",
       "\t<li>'extraction_type_class'</li>\n",
       "\t<li>'scheme_management'</li>\n",
       "\t<li>'basin'</li>\n",
       "\t<li>'region'</li>\n",
       "\t<li>'source_class'</li>\n",
       "\t<li>'permit'</li>\n",
       "\t<li>'management_group'</li>\n",
       "\t<li>'region_code'</li>\n",
       "\t<li>'source_type'</li>\n",
       "</ol>\n",
       "</dd>\n",
       "</dl>\n"
      ],
      "text/latex": [
       "\\begin{description}\n",
       "\\item[\\$ranking] \\begin{enumerate*}\n",
       "\\item 6\n",
       "\\item 19\n",
       "\\item 24\n",
       "\\item 10\n",
       "\\item 15\n",
       "\\item 20\n",
       "\\item 17\n",
       "\\item 1\n",
       "\\item 25\n",
       "\\item 13\n",
       "\\item 5\n",
       "\\item 11\n",
       "\\item 16\n",
       "\\item 18\n",
       "\\item 21\n",
       "\\item 7\n",
       "\\item 12\n",
       "\\item 8\n",
       "\\item 2\n",
       "\\item 3\n",
       "\\item 23\n",
       "\\item 9\n",
       "\\item 14\n",
       "\\item 4\n",
       "\\item 22\n",
       "\\end{enumerate*}\n",
       "\n",
       "\\item[\\$col\\_names] \\begin{enumerate*}\n",
       "\\item 'lga'\n",
       "\\item 'quantity'\n",
       "\\item 'waterpoint\\_type'\n",
       "\\item 'extraction\\_type'\n",
       "\\item 'payment'\n",
       "\\item 'quantity\\_group'\n",
       "\\item 'water\\_quality'\n",
       "\\item 'installer'\n",
       "\\item 'waterpoint\\_type\\_group'\n",
       "\\item 'management'\n",
       "\\item 'district\\_code'\n",
       "\\item 'extraction\\_type\\_group'\n",
       "\\item 'payment\\_type'\n",
       "\\item 'quality\\_group'\n",
       "\\item 'source'\n",
       "\\item 'public\\_meeting'\n",
       "\\item 'extraction\\_type\\_class'\n",
       "\\item 'scheme\\_management'\n",
       "\\item 'basin'\n",
       "\\item 'region'\n",
       "\\item 'source\\_class'\n",
       "\\item 'permit'\n",
       "\\item 'management\\_group'\n",
       "\\item 'region\\_code'\n",
       "\\item 'source\\_type'\n",
       "\\end{enumerate*}\n",
       "\n",
       "\\end{description}\n"
      ],
      "text/markdown": [
       "$ranking\n",
       ":   1. 6\n",
       "2. 19\n",
       "3. 24\n",
       "4. 10\n",
       "5. 15\n",
       "6. 20\n",
       "7. 17\n",
       "8. 1\n",
       "9. 25\n",
       "10. 13\n",
       "11. 5\n",
       "12. 11\n",
       "13. 16\n",
       "14. 18\n",
       "15. 21\n",
       "16. 7\n",
       "17. 12\n",
       "18. 8\n",
       "19. 2\n",
       "20. 3\n",
       "21. 23\n",
       "22. 9\n",
       "23. 14\n",
       "24. 4\n",
       "25. 22\n",
       "\n",
       "\n",
       "\n",
       "$col_names\n",
       ":   1. 'lga'\n",
       "2. 'quantity'\n",
       "3. 'waterpoint_type'\n",
       "4. 'extraction_type'\n",
       "5. 'payment'\n",
       "6. 'quantity_group'\n",
       "7. 'water_quality'\n",
       "8. 'installer'\n",
       "9. 'waterpoint_type_group'\n",
       "10. 'management'\n",
       "11. 'district_code'\n",
       "12. 'extraction_type_group'\n",
       "13. 'payment_type'\n",
       "14. 'quality_group'\n",
       "15. 'source'\n",
       "16. 'public_meeting'\n",
       "17. 'extraction_type_class'\n",
       "18. 'scheme_management'\n",
       "19. 'basin'\n",
       "20. 'region'\n",
       "21. 'source_class'\n",
       "22. 'permit'\n",
       "23. 'management_group'\n",
       "24. 'region_code'\n",
       "25. 'source_type'\n",
       "\n",
       "\n",
       "\n",
       "\n",
       "\n"
      ],
      "text/plain": [
       "$ranking\n",
       " [1]  6 19 24 10 15 20 17  1 25 13  5 11 16 18 21  7 12  8  2  3 23  9 14  4 22\n",
       "\n",
       "$col_names\n",
       " [1] \"lga\"                   \"quantity\"              \"waterpoint_type\"      \n",
       " [4] \"extraction_type\"       \"payment\"               \"quantity_group\"       \n",
       " [7] \"water_quality\"         \"installer\"             \"waterpoint_type_group\"\n",
       "[10] \"management\"            \"district_code\"         \"extraction_type_group\"\n",
       "[13] \"payment_type\"          \"quality_group\"         \"source\"               \n",
       "[16] \"public_meeting\"        \"extraction_type_class\" \"scheme_management\"    \n",
       "[19] \"basin\"                 \"region\"                \"source_class\"         \n",
       "[22] \"permit\"                \"management_group\"      \"region_code\"          \n",
       "[25] \"source_type\"          \n"
      ]
     },
     "metadata": {},
     "output_type": "display_data"
    }
   ],
   "source": [
    "#by_total_nb_levels # ranking remains the same"
   ]
  },
  {
   "cell_type": "markdown",
   "metadata": {},
   "source": [
    "This result is not totally satisfactory because it still ranks some variables that are very strongly dependent on each other. More specifically, we can consider some variables to be of the same 'family', as they contain roughly the same classes but with a different degree of precision. E.g. ```extraction_type```, ```extraction_type_class```, and ```extraction_type_group```.\n",
    "\n",
    "Therefore, we decide to conduct the mRMR on a subset of variables where there is only one variable per 'family' represented, which prevents from having high rankings for two variables that mostly contain the same classes, and therefore duplicates the information. In practice, the variable chosen for each 'family' is chosen manually (by looking at the previous plots) based on consideration of:\n",
    "- dependence with Y: the higher the better.\n",
    "- dependence with other categorical X variables: the lower the better.\n",
    "- number of classes: all other things being (roughly) equal, the least amount of classes the better, as we keep only the most relevant information.\n",
    "\n",
    "The selection of these variables has already been done in previous cells (i.e. the $max_info$ selection).  \n",
    "\n",
    "\n",
    "This also highlights that the mRMR technique can be helpful for feature selection of categorical variables but still needs some human intervention/supervision to ensure optimality and relevancy of the chosen variables."
   ]
  },
  {
   "cell_type": "code",
   "execution_count": 68,
   "metadata": {},
   "outputs": [],
   "source": [
    "# ONLY RUN IF DESCTOOLS LIBRARY INSTALLED\n",
    "#max_info = c('installer', 'basin' ,'population', 'public_meeting',\n",
    "#             'scheme_management', 'permit', 'extraction_type_class', 'management_group', \n",
    "#             \"payment\", \"payment_type\", \"quality_group\", \"quantity_group\", \"source_class\", \"waterpoint_type_group\")\n",
    "#\n",
    "# run without a model to check (by putting run_model = \"nothing\" as argument)\n",
    "#result = adapted_mRMR(redundancy_fct = \"nb_levels\", x_variables = max_info, y= \"status_group\", data=training_v4, method=\"DescTools\")"
   ]
  },
  {
   "cell_type": "code",
   "execution_count": 71,
   "metadata": {},
   "outputs": [
    {
     "data": {
      "text/html": [
       "<dl>\n",
       "\t<dt>$ranking</dt>\n",
       "\t\t<dd><ol class=list-inline>\n",
       "\t<li>12</li>\n",
       "\t<li>14</li>\n",
       "\t<li>9</li>\n",
       "\t<li>1</li>\n",
       "\t<li>3</li>\n",
       "\t<li>7</li>\n",
       "\t<li>11</li>\n",
       "\t<li>5</li>\n",
       "\t<li>10</li>\n",
       "\t<li>2</li>\n",
       "\t<li>13</li>\n",
       "\t<li>4</li>\n",
       "\t<li>6</li>\n",
       "\t<li>8</li>\n",
       "</ol>\n",
       "</dd>\n",
       "\t<dt>$col_names</dt>\n",
       "\t\t<dd><ol class=list-inline>\n",
       "\t<li>'quantity_group'</li>\n",
       "\t<li>'waterpoint_type_group'</li>\n",
       "\t<li>'payment'</li>\n",
       "\t<li>'installer'</li>\n",
       "\t<li>'population'</li>\n",
       "\t<li>'extraction_type_class'</li>\n",
       "\t<li>'quality_group'</li>\n",
       "\t<li>'scheme_management'</li>\n",
       "\t<li>'payment_type'</li>\n",
       "\t<li>'basin'</li>\n",
       "\t<li>'source_class'</li>\n",
       "\t<li>'public_meeting'</li>\n",
       "\t<li>'permit'</li>\n",
       "\t<li>'management_group'</li>\n",
       "</ol>\n",
       "</dd>\n",
       "</dl>\n"
      ],
      "text/latex": [
       "\\begin{description}\n",
       "\\item[\\$ranking] \\begin{enumerate*}\n",
       "\\item 12\n",
       "\\item 14\n",
       "\\item 9\n",
       "\\item 1\n",
       "\\item 3\n",
       "\\item 7\n",
       "\\item 11\n",
       "\\item 5\n",
       "\\item 10\n",
       "\\item 2\n",
       "\\item 13\n",
       "\\item 4\n",
       "\\item 6\n",
       "\\item 8\n",
       "\\end{enumerate*}\n",
       "\n",
       "\\item[\\$col\\_names] \\begin{enumerate*}\n",
       "\\item 'quantity\\_group'\n",
       "\\item 'waterpoint\\_type\\_group'\n",
       "\\item 'payment'\n",
       "\\item 'installer'\n",
       "\\item 'population'\n",
       "\\item 'extraction\\_type\\_class'\n",
       "\\item 'quality\\_group'\n",
       "\\item 'scheme\\_management'\n",
       "\\item 'payment\\_type'\n",
       "\\item 'basin'\n",
       "\\item 'source\\_class'\n",
       "\\item 'public\\_meeting'\n",
       "\\item 'permit'\n",
       "\\item 'management\\_group'\n",
       "\\end{enumerate*}\n",
       "\n",
       "\\end{description}\n"
      ],
      "text/markdown": [
       "$ranking\n",
       ":   1. 12\n",
       "2. 14\n",
       "3. 9\n",
       "4. 1\n",
       "5. 3\n",
       "6. 7\n",
       "7. 11\n",
       "8. 5\n",
       "9. 10\n",
       "10. 2\n",
       "11. 13\n",
       "12. 4\n",
       "13. 6\n",
       "14. 8\n",
       "\n",
       "\n",
       "\n",
       "$col_names\n",
       ":   1. 'quantity_group'\n",
       "2. 'waterpoint_type_group'\n",
       "3. 'payment'\n",
       "4. 'installer'\n",
       "5. 'population'\n",
       "6. 'extraction_type_class'\n",
       "7. 'quality_group'\n",
       "8. 'scheme_management'\n",
       "9. 'payment_type'\n",
       "10. 'basin'\n",
       "11. 'source_class'\n",
       "12. 'public_meeting'\n",
       "13. 'permit'\n",
       "14. 'management_group'\n",
       "\n",
       "\n",
       "\n",
       "\n",
       "\n"
      ],
      "text/plain": [
       "$ranking\n",
       " [1] 12 14  9  1  3  7 11  5 10  2 13  4  6  8\n",
       "\n",
       "$col_names\n",
       " [1] \"quantity_group\"        \"waterpoint_type_group\" \"payment\"              \n",
       " [4] \"installer\"             \"population\"            \"extraction_type_class\"\n",
       " [7] \"quality_group\"         \"scheme_management\"     \"payment_type\"         \n",
       "[10] \"basin\"                 \"source_class\"          \"public_meeting\"       \n",
       "[13] \"permit\"                \"management_group\"     \n"
      ]
     },
     "metadata": {},
     "output_type": "display_data"
    }
   ],
   "source": [
    "#result"
   ]
  },
  {
   "cell_type": "markdown",
   "metadata": {},
   "source": [
    "### Association between continuous variables:"
   ]
  },
  {
   "cell_type": "markdown",
   "metadata": {},
   "source": [
    "#### Continuous variables: correlations\n",
    "\n",
    "We observe the dependencies between the continuous variables. For that purpose, we decide to use the well-known Pearson correlation. For two continuous variables $X_A$ and $X_B$, the Pearson coefficient is computed by: \n",
    "\n",
    "$$\\rho(X_A,X_B) = \\frac{Cov(X_A,X_B)}{\\sqrt{Var(X_A)}\\sqrt{Var(X_B)}}$$\n",
    "\n",
    "This correlation captures the linear dependence between the two quantitative variables. This correlation will always be between -1 and 1."
   ]
  },
  {
   "cell_type": "code",
   "execution_count": 40,
   "metadata": {},
   "outputs": [
    {
     "data": {
      "text/html": [
       "<ol class=list-inline>\n",
       "\t<li>'amount_tsh'</li>\n",
       "\t<li>'gps_height'</li>\n",
       "\t<li>'longitude'</li>\n",
       "\t<li>'latitude'</li>\n",
       "\t<li>'population'</li>\n",
       "\t<li>'construction_year'</li>\n",
       "\t<li>'date_recorded'</li>\n",
       "</ol>\n"
      ],
      "text/latex": [
       "\\begin{enumerate*}\n",
       "\\item 'amount\\_tsh'\n",
       "\\item 'gps\\_height'\n",
       "\\item 'longitude'\n",
       "\\item 'latitude'\n",
       "\\item 'population'\n",
       "\\item 'construction\\_year'\n",
       "\\item 'date\\_recorded'\n",
       "\\end{enumerate*}\n"
      ],
      "text/markdown": [
       "1. 'amount_tsh'\n",
       "2. 'gps_height'\n",
       "3. 'longitude'\n",
       "4. 'latitude'\n",
       "5. 'population'\n",
       "6. 'construction_year'\n",
       "7. 'date_recorded'\n",
       "\n",
       "\n"
      ],
      "text/plain": [
       "[1] \"amount_tsh\"        \"gps_height\"        \"longitude\"        \n",
       "[4] \"latitude\"          \"population\"        \"construction_year\"\n",
       "[7] \"date_recorded\"    "
      ]
     },
     "metadata": {},
     "output_type": "display_data"
    }
   ],
   "source": [
    "variables_names$continuous"
   ]
  },
  {
   "cell_type": "code",
   "execution_count": 41,
   "metadata": {},
   "outputs": [],
   "source": [
    "cont_vars = c('amount_tsh', 'gps_height', 'longitude', 'latitude', 'population', 'construction_year', 'date_recorded')\n",
    "X = training_v4[,cont_vars]\n",
    "#### correlation matrix\n",
    "cont_cor = cor(X,X, use = \"complete.obs\") # \"comlpete.obs\" neglects the NA's when computing"
   ]
  },
  {
   "cell_type": "markdown",
   "metadata": {},
   "source": [
    "In the following cell we use the ```corrplot``` package, therefore do only uncomment and run it if the package is installed."
   ]
  },
  {
   "cell_type": "code",
   "execution_count": 75,
   "metadata": {},
   "outputs": [
    {
     "data": {
      "image/png": "[encoded data removed]",
      "text/plain": [
       "Plot with title “”"
      ]
     },
     "metadata": {},
     "output_type": "display_data"
    }
   ],
   "source": [
    "#options(repr.plot.width=6, repr.plot.height=7)# repr.plot.res = 100) #to keep resolution\n",
    "####install.packages('corrplot')\n",
    "#library(corrplot)\n",
    "\n",
    "# Create our own palette of colors (blue)\n",
    "#own_col = colorRampPalette(c(\"aliceblue\",\"lightblue\",\"lightskyblue\",\"lightslateblue\",\"blue1\",\"blue3\",\"darkblue\"))\n",
    "\n",
    "# NOTE: We take the absolute value of the correlations here, we don't care about the sign, only the intensity of the dependency\n",
    "#corrplot(abs(cont_cor), type=\"upper\", method = \"circle\", col = own_col(6), cl.lim=c(0,1), is.corr=FALSE, tl.col = \"black\") #order=\"hclust\"\n"
   ]
  },
  {
   "cell_type": "markdown",
   "metadata": {},
   "source": [
    "It can be observed that there are no strong dependencies between the continuous variables, which implies that there is no need to remove variables due to internal dependencies between the continuous variables. In other words, we can consider that the information carried by these different variables is of different nature, hence there does not seem to be 'redundant' information. Classifying these variables through mRMR would probably not add much value as the intensities of the correlations are quite close to each other (and we don't want to overfocus our decisions on an algorithm that classifies based on very small differences, rather than using our common sense), and we don't have a measure of the intensity of the dependency with the (categorical) Y variable."
   ]
  },
  {
   "cell_type": "markdown",
   "metadata": {},
   "source": [
    "It is important to point out that there are however redundancies in information with the categorical variables. To that regard, we consider the many categorical localisation variables to be more interesting for our models than the continuous localisation variables, and therefore, at first, prefer not to consider the ```longitude``` and ```latitude``` variables. This selection remains a basis for our models and not absolute selection. Hence, we might end up adding those variables again if they better fit some of our models."
   ]
  },
  {
   "cell_type": "markdown",
   "metadata": {},
   "source": [
    "### Summary\n",
    "\n",
    "In this part we summarize the (combinations of) features that could be interesting to test when building the models. Theses lists will serve as inspiration for the different models and can be adapted to each model."
   ]
  },
  {
   "cell_type": "code",
   "execution_count": 42,
   "metadata": {},
   "outputs": [],
   "source": [
    "########## Categorical variables adapted mRMR\n",
    "\n",
    "# this is only a ranking, we can decide for each model how many features we want to use\n",
    "categorical_mRMR = c('lga', 'extraction_type', 'quantity', 'waterpoint_type', 'payment', 'quantity_group', \n",
    "                     'water_quality', 'installer', 'public_meeting', 'waterpoint_type_group', 'management', \n",
    "                     'extraction_type_group', 'payment_type', 'district_code', 'extraction_type_class', 'basin',\n",
    "                     'quality_group', 'source', 'management_group', 'region', 'source_type') \n",
    "\n",
    "########## Manually selected models\n",
    "\n",
    "    #### Simple\n",
    "\n",
    "simple = c(\"lga\",\"quantity\",\"extraction_type_class\",\"waterpoint_type\",\"payment\",\"source_class\",\"management\",\n",
    "          \"population\",\"construction_year\",\"gps_height\",\"amount_tsh\",\n",
    "          'amount_tsh', 'population', 'construction_year', 'date_recorded')\n",
    "\n",
    "######## LESS DEPENDENCY BETWEEN VARIABLES: more variables but less dependency between them\n",
    "max_info = c('amount_tsh' , 'date_recorded', 'gps_height', 'installer', 'basin' ,'population', 'public_meeting',\n",
    "                       'scheme_management', 'permit', 'construction_year', 'extraction_type_class', 'management_group', \n",
    "                       \"payment\", \"payment_type\", \"quality_group\", \"quantity_group\", \"source_class\", \"waterpoint_type_group\",\n",
    "                       \"status_group\")\n",
    "\n",
    "#'gps_height', 'longitude', 'latitude' are similar to other categorical variables so we prefer not to keep them\n",
    "\n",
    "######## LESS DEPENDENCY BETWEEN VARIABLES: more variables but less dependency between them\n",
    "#less_dependent_cat = c(\"quantity\", \"district_code\",\"source_class\",\"waterpoint_type_group\",\"payment\",\"management_group\",\"installer\",\"basin\",\"permit\",\"public_meeting\",\"quality_group\",\n",
    "#                       \"population\",\"construction_year\",\"gps_height\",\"amount_tsh\",\n",
    "#                       'amount_tsh', 'gps_height', 'longitude', 'latitude', 'population', 'construction_year', 'date_recorded')\n",
    "#removed lga, region"
   ]
  },
  {
   "cell_type": "markdown",
   "metadata": {},
   "source": [
    "Here we have presented the names of the variables that would be interesting to use for the models.   \n",
    "However, it is important to note that these variables might be added to some of our models when fine-tuning. Indeed, this selection serves as a basis for our models, but it can be adapted to better fit specific models.\n"
   ]
  },
  {
   "cell_type": "markdown",
   "metadata": {},
   "source": [
    "# Model selection"
   ]
  },
  {
   "cell_type": "markdown",
   "metadata": {},
   "source": [
    "Based on the information in the previous section, we decided to only keep one of the variables when they are very correlated, basically the same category (e.g. extraction type & extraction type group). See ```max_info``` list in the above section."
   ]
  },
  {
   "cell_type": "code",
   "execution_count": null,
   "metadata": {},
   "outputs": [],
   "source": [
    "selected_variables <- c('amount_tsh' , 'date_recorded', 'gps_height', 'installer', 'basin' ,'population', 'public_meeting',\n",
    "                       'scheme_management', 'permit', 'construction_year', 'extraction_type_class', 'management_group', \n",
    "                       \"payment\", \"payment_type\", \"quality_group\", \"quantity_group\", \"source_class\", \"waterpoint_type_group\",\n",
    "                       \"status_group\")"
   ]
  },
  {
   "cell_type": "code",
   "execution_count": 40,
   "metadata": {},
   "outputs": [],
   "source": [
    "data = training_v4[, selected_variables]"
   ]
  },
  {
   "cell_type": "code",
   "execution_count": 61,
   "metadata": {},
   "outputs": [],
   "source": [
    "train_idx = sample(1:nrow(data), floor(nrow(data) * 2/3))\n",
    "\n",
    "data_train = data[train_idx, ]\n",
    "data_test = data[-train_idx, ]"
   ]
  },
  {
   "cell_type": "markdown",
   "metadata": {},
   "source": [
    "## Procedure used to validate a model & its hyperparameters"
   ]
  },
  {
   "cell_type": "markdown",
   "metadata": {},
   "source": [
    "The step used to test a certain model & choose its hyperparameters are the following:\n",
    "\n",
    "1. Supply several possible combination of hyperparameters\n",
    "2. For each combination, test the model by cross-validation using 5 folds. The metric used to evaluate the performance is the average F1-score of each class (which is then averaged across folds)\n",
    "3. After all the combinations have been tested, select the one which led to the highest total accuracy because it is the target measure of the challenge. We also decide to compute the f1-score because it tends to penalize models which never predict one of the variables, which is often the case in unbalanced datasets. We therefore believe it is a more representative measure of the learning of the algorithm which might give valuable insights in terms of functionning of the model. It might also be used to compare models with more or less the same accuracy. \n",
    "4. Compute the performance (the average cross-validated F1-score) of the model & if possible try to interpret its result\n",
    "5. Compare the performance to the other tested models\n",
    "\n",
    "\n",
    "For models which use distance as part of their learning process (e.g. knn, radial basis function), we use some pre-processing on the data before feeding it to the algorithm.\n",
    "\n",
    "1. Transform categorical variables into binary ones because the algorithm cannot use them in their distance computation.\n",
    "2. Scale the variables to prepare them to PCA because PCA tries to maximize the variance of the new dimension created, therefore, it will predominately use variables with higher scales to compute those\n",
    "3. Uncorrelate variables using PCA. The goal is to avoid having correlated variables in distance computations because if two variables are heavily correlated, it probably means they hold more or less the same information. Therefore, distance computed on those dimensions would be double-counted. \n",
    "4. Rescale again the newly created dimensions for the same reason as in 2 (indeed there is no reason that the new dimensions have the same scale). \n",
    "\n",
    "\n",
    "\n",
    "The F1-score is defined by class via the formula: $2 *\\frac{precision * recall}{precision + recall}$ = Harmonic mean between precision & recall, it ensures to have the right balance between often predicting a class when it is actually the true class & when we have an observation of that class, we have a high probability to actually predict it right. However, the accuracy is the score used in the competition, so we decided to use it as the main criteria for comparing two models, even though it is not the most relevant one when we have unbalanced data."
   ]
  },
  {
   "cell_type": "markdown",
   "metadata": {},
   "source": [
    "## Functions used"
   ]
  },
  {
   "cell_type": "code",
   "execution_count": 63,
   "metadata": {},
   "outputs": [],
   "source": [
    "#library(\"plotly\")\n",
    "#library(\"ggplot2\")\n",
    "\n",
    "create_confusion_matrix <- function(true_y, pred_y){\n",
    "    confusion_matrix = table(true_y, pred_y)\n",
    "    \n",
    "    if (nrow(confusion_matrix) != ncol(confusion_matrix)){\n",
    "        \n",
    "    \n",
    "    fix_matrix = matrix(ncol = nrow(confusion_matrix), nrow = nrow(confusion_matrix))\n",
    "    colnames(fix_matrix) = rownames(confusion_matrix)\n",
    "    rownames(fix_matrix) = rownames(confusion_matrix)\n",
    "\n",
    "    for (i in colnames(confusion_matrix)){\n",
    "        fix_matrix[,i] = confusion_matrix[,i]\n",
    "\n",
    "    }\n",
    "    fix_matrix[is.na(fix_matrix)] = 0\n",
    "    confusion_matrix = fix_matrix\n",
    "    }\n",
    "    return(confusion_matrix)\n",
    "}\n",
    "\n",
    "\n",
    "accuracy <- function(confusion_matrix){\n",
    "    #Given a confusion matrix, it returns the total accuracy of the model\n",
    "    \n",
    "    return( sum(diag(confusion_matrix)/sum(confusion_matrix)) )\n",
    "}\n",
    "\n",
    "\n",
    "compute_scores <- function(confusion_matrix){\n",
    "    #Based on a confusion matrix, it computes the recall, precision, F1-score for all classes individually. Then\n",
    "    #average all the scores, it returns everything\n",
    "    \n",
    "    \n",
    "    score_data <- data.frame(\"precision\" = rep(1, nrow(confusion_matrix)), \"recall\" = rep(1, nrow(confusion_matrix)),\n",
    "                            \"f1_score\" = rep(1, nrow(confusion_matrix)))\n",
    "    \n",
    "    for (i in 1:nrow(confusion_matrix)){\n",
    "        score_data[i, \"precision\"] = confusion_matrix[i,i]/sum(confusion_matrix[,i])\n",
    "        score_data[i, \"recall\"] = confusion_matrix[i,i]/sum(confusion_matrix[i,])\n",
    "        score_data[i, \"f1_score\"] = (2 * score_data[i, \"precision\"] * score_data[i, \"recall\"] \n",
    "                                     / (score_data[i, \"precision\"] + score_data[i, \"recall\"]))\n",
    "\n",
    "    }\n",
    "\n",
    "    avg_score <- apply(score_data, 2, mean)\n",
    "    score_data <- rbind(score_data, avg_score)\n",
    "    rownames(score_data) <- c(rownames(confusion_matrix), \"avg_score\")\n",
    "    score_data[is.na(score_data)] = 0\n",
    "\n",
    "    \n",
    "    return(score_data)\n",
    "}\n",
    "\n",
    "\n",
    "cross_validation <- function(data, model_function, nbr_fold, args){\n",
    "    #Given some training data, a model (model name as a string), & its arguments, it computes the cross-validated \n",
    "    #F1-score for each of the fold\n",
    "    \n",
    "    data_idx <- sample(1:nrow(data))\n",
    "    max <- ceiling(nrow(data)/nbr_fold)\n",
    "    splits <- split(data_idx, ceiling(seq_along(data_idx)/max))\n",
    "    f1_scores  <- c()\n",
    "    accuracy_scores <- c()\n",
    "    \n",
    "    for (i in 1:nbr_fold){\n",
    "        arguments <- args #reset the arguments to original values\n",
    "        test_data <- data[splits[[i]],]\n",
    "        train_data <- data[-splits[[i]],]\n",
    "        arguments$data <- train_data\n",
    "        model <- do.call(model_function, args = arguments)\n",
    "        Y_predict <- predict(model, test_data[, -ncol(test_data)]) #assume the last columns is the variable to predict\n",
    "        confusion_matrix <- create_confusion_matrix(test_data[, ncol(test_data)], Y_predict)\n",
    "        accuracy_score <- accuracy(confusion_matrix)\n",
    "        f1_score <- compute_scores(confusion_matrix)[c(\"avg_score\"), c(\"f1_score\")] \n",
    "        f1_scores <- c(f1_scores, f1_score)\n",
    "        accuracy_scores <- c(accuracy_scores, accuracy_score)\n",
    "        }\n",
    "    return(list(\"f1_scores\" = mean(f1_scores), \"accuracy_scores\" = mean(accuracy_scores))) #maybe we can change here\n",
    "    \n",
    "    }\n",
    "\n",
    "\n",
    "reduce_to_one_param <- function(hyper_grid, result, variable){\n",
    "    # Allow to go from a grid with multiple combinations of hyperparameters & a result table to a single table, which\n",
    "    # keep only one of the hyperparameters columns & average the score over this one\n",
    "    \n",
    "    \n",
    "    minus_1_col <- cbind(hyper_grid, result)[, c(variable, \"f1_scores\", \"accuracy_scores\")]\n",
    "\n",
    "    final_result <- matrix(ncol = 3)\n",
    "    for (i in unique(minus_1_col[,variable])){\n",
    "        avg_score_per_param <- apply(minus_1_col[minus_1_col[,variable] == i,], 2, mean)\n",
    "        final_result <- rbind(final_result, avg_score_per_param)\n",
    "    }\n",
    "    final_result <- final_result[-1,]\n",
    "    return(final_result)\n",
    "}\n",
    "\n",
    "\n",
    "print_scores <- function(new_data, trained_model){\n",
    "    # Mainly use to print the performance of a trained model on an independant test set. It assumes that the last column\n",
    "    # is the target variable & that the rest of the columns are all taken into account (follow the same schema as the\n",
    "    # the training data). It prints the confusion matrix, the precision, recall, f1-score & the global accuracy of the\n",
    "    #model on this data\n",
    "    \n",
    "    \n",
    "    Y_predict <- predict(trained_model, new_data[,-ncol(new_data)])\n",
    "\n",
    "    confusion_matrix <- create_confusion_matrix(new_data[,ncol(new_data)], Y_predict) \n",
    "    scores <- compute_scores(confusion_matrix) #recall, precision & f1-score\n",
    "    accuracy_score <- accuracy(confusion_matrix) #accuracy\n",
    "\n",
    "    cat(\"Confusion matrix:\\n\") \n",
    "    print(confusion_matrix)\n",
    "    cat(\"\\n\\n\") #for a more beautiful printout\n",
    "    cat(\"Precision, Recall & F1-scores for each class:\\n\")\n",
    "    print(scores)\n",
    "    cat(\"\\n\\n\")\n",
    "    cat(\"Global accuracy:\\n\")\n",
    "    cat(accuracy_score)\n",
    "    cat(\"\\n\")\n",
    "}\n",
    "#start_time <- Sys.time()\n",
    "#sleep_for_a_minute()\n",
    "#end_time <- Sys.time()\n",
    "\n",
    "#print(end_time - start_time)\n",
    "\n",
    "\n"
   ]
  },
  {
   "cell_type": "markdown",
   "metadata": {},
   "source": [
    "## Random forest"
   ]
  },
  {
   "cell_type": "markdown",
   "metadata": {},
   "source": [
    "We choose the random forest for the following reason:\n",
    "- Non-linear\n",
    "- Embedded feature selection\n",
    "- Easy handling of categorical features\n",
    "- +- Interpretable (thanks to the importance of a given variables)"
   ]
  },
  {
   "cell_type": "code",
   "execution_count": 64,
   "metadata": {},
   "outputs": [],
   "source": [
    "library(randomForest)"
   ]
  },
  {
   "cell_type": "markdown",
   "metadata": {},
   "source": [
    "### Hyperparameters tuning"
   ]
  },
  {
   "cell_type": "markdown",
   "metadata": {},
   "source": [
    "The random forest has mainly two hyperparameters: the number of variables randomly selected for each tree (mtry) & the number of trees. We can also limit the depth of each tree, but this is often linked to the number of variables. \n",
    "\n",
    "\n",
    "In general, adding more trees is beneficial to the prediction, however having more variables for each tree might lead to longer computation without increase in performance. It might also increase the variance of the classifier because it might increase the correlation between the trees (more or less the same each time). It may increase the risk of overfitting."
   ]
  },
  {
   "cell_type": "code",
   "execution_count": 65,
   "metadata": {},
   "outputs": [],
   "source": [
    "range_tree = seq(200, 1000, 200)\n",
    "mtry = seq(3,8, 1)\n",
    "hyper_params_rf = expand.grid(range_tree, mtry)\n",
    "colnames(hyper_params_rf) = c(\"nbr_tree\", \"mtry\")"
   ]
  },
  {
   "cell_type": "code",
   "execution_count": 35,
   "metadata": {
    "scrolled": true
   },
   "outputs": [],
   "source": [
    "result_rf <- mapply(function(tree, mtry) cross_validation(data_train, \"randomForest\", 5,\n",
    "                                                                                list(\"formula\" = formula(status_group ~ .),\n",
    "                                                                                     \"n_tree\" = tree, na.action = \"na.omit\",\n",
    "                                                             \"mtry\" = mtry)), tree = hyper_params_rf[,\"nbr_tree\"],\n",
    "                    mtry = hyper_params_rf[,\"mtry\"])\n",
    "result_rf <- apply(result_rf, 1, unlist) #technical"
   ]
  },
  {
   "cell_type": "markdown",
   "metadata": {},
   "source": [
    "### Final model performance"
   ]
  },
  {
   "cell_type": "code",
   "execution_count": 37,
   "metadata": {},
   "outputs": [],
   "source": [
    "best_hyperparams_rf <- hyper_params_rf[which.max(result_rf[,\"accuracy_scores\"]),] #select based on the highest accuracy score\n",
    "\n",
    "\n",
    "\n",
    "accuracy_rf <- max(result_rf[,\"accuracy_scores\"])\n",
    "f1_rf <- result_rf[,\"f1_scores\"][which.max(result_rf[,\"accuracy_scores\"])] #select the corresponding cross-validated f1-score"
   ]
  },
  {
   "cell_type": "code",
   "execution_count": 162,
   "metadata": {},
   "outputs": [
    {
     "data": {
      "image/png": "[encoded data removed]",
      "text/plain": [
       "Plot with title \"CV scores versus number of trees\""
      ]
     },
     "metadata": {},
     "output_type": "display_data"
    }
   ],
   "source": [
    "#plotting according to the different dimensions\n",
    "\n",
    "par(cex.main = 0.8, mfrow = c(1, 2))\n",
    "\n",
    "options(repr.plot.width = 10, repr.plot.height = 4)\n",
    "\n",
    "\n",
    "mtry_df <- reduce_to_one_param(hyper_params_rf, result_rf, \"mtry\")\n",
    "\n",
    "plot(mtry_df[,\"mtry\"], mtry_df[,'accuracy_scores'], type = \"l\", main = \"CV scores versus number of variables\",\n",
    "    xlim=c(3, 8), ylim=c(0.6,0.85), col = \"red\", xlab = \"Number of variables per tree\", ylab = \"Scores\")\n",
    "\n",
    "lines(mtry_df[,\"mtry\"], mtry_df[,\"f1_scores\"], type = \"l\", col = \"blue\")\n",
    "legend(\"topleft\" ,legend=c(\"Accuracy\", \"F1\"),\n",
    "       col=c(\"red\", \"blue\"), cex=0.7, lty = 1, y.intersp = 2, bty = \"n\")\n",
    "\n",
    "ntree_df <- reduce_to_one_param(hyper_params_rf, result_rf, \"nbr_tree\")\n",
    "\n",
    "plot(ntree_df[,\"nbr_tree\"], ntree_df[,'accuracy_scores'], type = \"l\", main = \"CV scores versus number of trees\",\n",
    "    xlim=c(200, 1000), ylim=c(0.6,0.85), col = \"red\", xlab = \"Number of trees\", ylab = \"Scores\")\n",
    "\n",
    "lines(ntree_df[,\"nbr_tree\"], ntree_df[,\"f1_scores\"], type = \"l\", col = \"blue\")\n",
    "legend(\"topleft\" ,legend=c(\"Accuracy\", \"F1\"),\n",
    "       col=c(\"red\", \"blue\"), cex=0.7, lty = 1, y.intersp = 2, bty = \"n\")"
   ]
  },
  {
   "cell_type": "code",
   "execution_count": 38,
   "metadata": {},
   "outputs": [
    {
     "name": "stdout",
     "output_type": "stream",
     "text": [
      "[1] \"nbr_tree 400\" \"mtry 4\"      \n",
      "[1] \"Expected accuracy score:  0.787315571470528\"\n",
      "[1] \"Expected accuracy f1-score:  0.644898313259812\"\n"
     ]
    }
   ],
   "source": [
    "print(paste(colnames(hyper_params_rf), best_hyperparams_rf))\n",
    "print(paste(\"Expected accuracy score: \", accuracy_rf))\n",
    "print(paste(\"Expected accuracy f1-score: \", f1_rf))"
   ]
  },
  {
   "cell_type": "code",
   "execution_count": 40,
   "metadata": {},
   "outputs": [],
   "source": [
    "final_rf_model <- randomForest(status_group ~ ., data = data_train, \n",
    "                               n_tree = best_hyperparams_rf[1,1], mtry = best_hyperparams_rf[1,2], importance = TRUE,\n",
    "                              na.action = \"na.omit\")"
   ]
  },
  {
   "cell_type": "code",
   "execution_count": 42,
   "metadata": {
    "scrolled": true
   },
   "outputs": [
    {
     "data": {
      "text/html": [
       "<table>\n",
       "<thead><tr><th></th><th scope=col>functional</th><th scope=col>functional.needs.repair</th><th scope=col>non.functional</th><th scope=col>MeanDecreaseAccuracy</th><th scope=col>MeanDecreaseGini</th></tr></thead>\n",
       "<tbody>\n",
       "\t<tr><th scope=row>quantity_group</th><td>0.088291188</td><td>0.032514236</td><td>0.142351730</td><td>0.103165914</td><td>2070.8518  </td></tr>\n",
       "\t<tr><th scope=row>extraction_type_class</th><td>0.105010341</td><td>0.055247624</td><td>0.063826373</td><td>0.086515537</td><td>1025.7766  </td></tr>\n",
       "\t<tr><th scope=row>basin</th><td>0.094211729</td><td>0.081254514</td><td>0.057761221</td><td>0.080246577</td><td> 811.0659  </td></tr>\n",
       "\t<tr><th scope=row>construction_year</th><td>0.090901036</td><td>0.047380073</td><td>0.044936996</td><td>0.071199428</td><td>1029.2564  </td></tr>\n",
       "\t<tr><th scope=row>gps_height</th><td>0.074534239</td><td>0.035184668</td><td>0.039829922</td><td>0.059154162</td><td>1321.9853  </td></tr>\n",
       "\t<tr><th scope=row>waterpoint_type_group</th><td>0.084797611</td><td>0.022049885</td><td>0.026102204</td><td>0.059069050</td><td> 704.2941  </td></tr>\n",
       "\t<tr><th scope=row>scheme_management</th><td>0.055823488</td><td>0.036197675</td><td>0.032521433</td><td>0.046021234</td><td> 539.9132  </td></tr>\n",
       "\t<tr><th scope=row>population</th><td>0.060987745</td><td>0.025574990</td><td>0.026132778</td><td>0.045852580</td><td> 907.3430  </td></tr>\n",
       "\t<tr><th scope=row>payment_type</th><td>0.049808860</td><td>0.038376999</td><td>0.030454242</td><td>0.042043331</td><td> 366.0244  </td></tr>\n",
       "\t<tr><th scope=row>amount_tsh</th><td>0.053329055</td><td>0.028990150</td><td>0.025884398</td><td>0.041685980</td><td> 448.8611  </td></tr>\n",
       "\t<tr><th scope=row>payment</th><td>0.048264411</td><td>0.038040117</td><td>0.029569808</td><td>0.040826897</td><td> 354.6496  </td></tr>\n",
       "\t<tr><th scope=row>date_recorded</th><td>0.039935294</td><td>0.027626408</td><td>0.017516396</td><td>0.031011655</td><td> 234.3618  </td></tr>\n",
       "\t<tr><th scope=row>installer</th><td>0.026076343</td><td>0.040996296</td><td>0.026206976</td><td>0.027273945</td><td> 468.0922  </td></tr>\n",
       "\t<tr><th scope=row>permit</th><td>0.024267782</td><td>0.028199203</td><td>0.018842869</td><td>0.022643097</td><td> 207.4622  </td></tr>\n",
       "\t<tr><th scope=row>source_class</th><td>0.021540444</td><td>0.017074529</td><td>0.018960237</td><td>0.020280014</td><td> 187.2148  </td></tr>\n",
       "\t<tr><th scope=row>public_meeting</th><td>0.009341682</td><td>0.012218685</td><td>0.008404010</td><td>0.009230852</td><td> 131.2361  </td></tr>\n",
       "\t<tr><th scope=row>management_group</th><td>0.008940552</td><td>0.003135714</td><td>0.010287122</td><td>0.008967907</td><td> 155.9724  </td></tr>\n",
       "\t<tr><th scope=row>quality_group</th><td>0.006305918</td><td>0.005977925</td><td>0.003561496</td><td>0.005303143</td><td> 171.2207  </td></tr>\n",
       "</tbody>\n",
       "</table>\n"
      ],
      "text/latex": [
       "\\begin{tabular}{r|lllll}\n",
       "  & functional & functional.needs.repair & non.functional & MeanDecreaseAccuracy & MeanDecreaseGini\\\\\n",
       "\\hline\n",
       "\tquantity\\_group & 0.088291188 & 0.032514236 & 0.142351730 & 0.103165914 & 2070.8518  \\\\\n",
       "\textraction\\_type\\_class & 0.105010341 & 0.055247624 & 0.063826373 & 0.086515537 & 1025.7766  \\\\\n",
       "\tbasin & 0.094211729 & 0.081254514 & 0.057761221 & 0.080246577 &  811.0659  \\\\\n",
       "\tconstruction\\_year & 0.090901036 & 0.047380073 & 0.044936996 & 0.071199428 & 1029.2564  \\\\\n",
       "\tgps\\_height & 0.074534239 & 0.035184668 & 0.039829922 & 0.059154162 & 1321.9853  \\\\\n",
       "\twaterpoint\\_type\\_group & 0.084797611 & 0.022049885 & 0.026102204 & 0.059069050 &  704.2941  \\\\\n",
       "\tscheme\\_management & 0.055823488 & 0.036197675 & 0.032521433 & 0.046021234 &  539.9132  \\\\\n",
       "\tpopulation & 0.060987745 & 0.025574990 & 0.026132778 & 0.045852580 &  907.3430  \\\\\n",
       "\tpayment\\_type & 0.049808860 & 0.038376999 & 0.030454242 & 0.042043331 &  366.0244  \\\\\n",
       "\tamount\\_tsh & 0.053329055 & 0.028990150 & 0.025884398 & 0.041685980 &  448.8611  \\\\\n",
       "\tpayment & 0.048264411 & 0.038040117 & 0.029569808 & 0.040826897 &  354.6496  \\\\\n",
       "\tdate\\_recorded & 0.039935294 & 0.027626408 & 0.017516396 & 0.031011655 &  234.3618  \\\\\n",
       "\tinstaller & 0.026076343 & 0.040996296 & 0.026206976 & 0.027273945 &  468.0922  \\\\\n",
       "\tpermit & 0.024267782 & 0.028199203 & 0.018842869 & 0.022643097 &  207.4622  \\\\\n",
       "\tsource\\_class & 0.021540444 & 0.017074529 & 0.018960237 & 0.020280014 &  187.2148  \\\\\n",
       "\tpublic\\_meeting & 0.009341682 & 0.012218685 & 0.008404010 & 0.009230852 &  131.2361  \\\\\n",
       "\tmanagement\\_group & 0.008940552 & 0.003135714 & 0.010287122 & 0.008967907 &  155.9724  \\\\\n",
       "\tquality\\_group & 0.006305918 & 0.005977925 & 0.003561496 & 0.005303143 &  171.2207  \\\\\n",
       "\\end{tabular}\n"
      ],
      "text/markdown": [
       "\n",
       "| <!--/--> | functional | functional.needs.repair | non.functional | MeanDecreaseAccuracy | MeanDecreaseGini |\n",
       "|---|---|---|---|---|---|\n",
       "| quantity_group | 0.088291188 | 0.032514236 | 0.142351730 | 0.103165914 | 2070.8518   |\n",
       "| extraction_type_class | 0.105010341 | 0.055247624 | 0.063826373 | 0.086515537 | 1025.7766   |\n",
       "| basin | 0.094211729 | 0.081254514 | 0.057761221 | 0.080246577 |  811.0659   |\n",
       "| construction_year | 0.090901036 | 0.047380073 | 0.044936996 | 0.071199428 | 1029.2564   |\n",
       "| gps_height | 0.074534239 | 0.035184668 | 0.039829922 | 0.059154162 | 1321.9853   |\n",
       "| waterpoint_type_group | 0.084797611 | 0.022049885 | 0.026102204 | 0.059069050 |  704.2941   |\n",
       "| scheme_management | 0.055823488 | 0.036197675 | 0.032521433 | 0.046021234 |  539.9132   |\n",
       "| population | 0.060987745 | 0.025574990 | 0.026132778 | 0.045852580 |  907.3430   |\n",
       "| payment_type | 0.049808860 | 0.038376999 | 0.030454242 | 0.042043331 |  366.0244   |\n",
       "| amount_tsh | 0.053329055 | 0.028990150 | 0.025884398 | 0.041685980 |  448.8611   |\n",
       "| payment | 0.048264411 | 0.038040117 | 0.029569808 | 0.040826897 |  354.6496   |\n",
       "| date_recorded | 0.039935294 | 0.027626408 | 0.017516396 | 0.031011655 |  234.3618   |\n",
       "| installer | 0.026076343 | 0.040996296 | 0.026206976 | 0.027273945 |  468.0922   |\n",
       "| permit | 0.024267782 | 0.028199203 | 0.018842869 | 0.022643097 |  207.4622   |\n",
       "| source_class | 0.021540444 | 0.017074529 | 0.018960237 | 0.020280014 |  187.2148   |\n",
       "| public_meeting | 0.009341682 | 0.012218685 | 0.008404010 | 0.009230852 |  131.2361   |\n",
       "| management_group | 0.008940552 | 0.003135714 | 0.010287122 | 0.008967907 |  155.9724   |\n",
       "| quality_group | 0.006305918 | 0.005977925 | 0.003561496 | 0.005303143 |  171.2207   |\n",
       "\n"
      ],
      "text/plain": [
       "                      functional  functional.needs.repair non.functional\n",
       "quantity_group        0.088291188 0.032514236             0.142351730   \n",
       "extraction_type_class 0.105010341 0.055247624             0.063826373   \n",
       "basin                 0.094211729 0.081254514             0.057761221   \n",
       "construction_year     0.090901036 0.047380073             0.044936996   \n",
       "gps_height            0.074534239 0.035184668             0.039829922   \n",
       "waterpoint_type_group 0.084797611 0.022049885             0.026102204   \n",
       "scheme_management     0.055823488 0.036197675             0.032521433   \n",
       "population            0.060987745 0.025574990             0.026132778   \n",
       "payment_type          0.049808860 0.038376999             0.030454242   \n",
       "amount_tsh            0.053329055 0.028990150             0.025884398   \n",
       "payment               0.048264411 0.038040117             0.029569808   \n",
       "date_recorded         0.039935294 0.027626408             0.017516396   \n",
       "installer             0.026076343 0.040996296             0.026206976   \n",
       "permit                0.024267782 0.028199203             0.018842869   \n",
       "source_class          0.021540444 0.017074529             0.018960237   \n",
       "public_meeting        0.009341682 0.012218685             0.008404010   \n",
       "management_group      0.008940552 0.003135714             0.010287122   \n",
       "quality_group         0.006305918 0.005977925             0.003561496   \n",
       "                      MeanDecreaseAccuracy MeanDecreaseGini\n",
       "quantity_group        0.103165914          2070.8518       \n",
       "extraction_type_class 0.086515537          1025.7766       \n",
       "basin                 0.080246577           811.0659       \n",
       "construction_year     0.071199428          1029.2564       \n",
       "gps_height            0.059154162          1321.9853       \n",
       "waterpoint_type_group 0.059069050           704.2941       \n",
       "scheme_management     0.046021234           539.9132       \n",
       "population            0.045852580           907.3430       \n",
       "payment_type          0.042043331           366.0244       \n",
       "amount_tsh            0.041685980           448.8611       \n",
       "payment               0.040826897           354.6496       \n",
       "date_recorded         0.031011655           234.3618       \n",
       "installer             0.027273945           468.0922       \n",
       "permit                0.022643097           207.4622       \n",
       "source_class          0.020280014           187.2148       \n",
       "public_meeting        0.009230852           131.2361       \n",
       "management_group      0.008967907           155.9724       \n",
       "quality_group         0.005303143           171.2207       "
      ]
     },
     "metadata": {},
     "output_type": "display_data"
    }
   ],
   "source": [
    "importance <- data.frame(final_rf_model$importance)\n",
    "importance[order(-importance$MeanDecreaseAccuracy),] # sort by importance on the functional target variable"
   ]
  },
  {
   "cell_type": "code",
   "execution_count": 169,
   "metadata": {},
   "outputs": [
    {
     "data": {
      "image/png": "[encoded data removed]",
      "text/plain": [
       "Plot with title \"Most important features in the random forest\""
      ]
     },
     "metadata": {},
     "output_type": "display_data"
    }
   ],
   "source": [
    "options(repr.plot.width = 7, repr.plot.height = 5)\n",
    "\n",
    "varImpPlot(final_rf_model, type = 1, n.var = 10, main = \"Most important features in the random forest\",\n",
    "          scale = FALSE)\n"
   ]
  },
  {
   "cell_type": "markdown",
   "metadata": {},
   "source": [
    "Gini importance: We look at each split where the variable was selected & we look at the avg decrease in gini ==> favor categorical or numerical variables with large domains + it might always choose one of the two correlated variables (less of an issue for me) + only on the training\n",
    "\n",
    "Accuracy importance: For each feature, we randomly shuffle this dimension data (we break the structure) & we look at how the performance decreases (in this case in the accuracy)."
   ]
  },
  {
   "cell_type": "markdown",
   "metadata": {},
   "source": [
    "#### Interpretation:\n",
    "\n",
    "It seems the most important features are the \"quantity group\", \"extraction type\", \"basin\", \"construction year\", \"gps height\" & the \"waterpoint type\". It can be interpreted as it is more likely that a pump fails depending on how hard it is to exctract the water there (depending on the region, soil, altitude, type of well, etc.) but also on the age of the infrastructure. \n",
    "\n",
    "\n"
   ]
  },
  {
   "cell_type": "markdown",
   "metadata": {},
   "source": [
    "### Performance on the test set"
   ]
  },
  {
   "cell_type": "code",
   "execution_count": 43,
   "metadata": {},
   "outputs": [
    {
     "name": "stdout",
     "output_type": "stream",
     "text": [
      "Confusion matrix:\n",
      "                         pred_y\n",
      "true_y                    functional functional needs repair non functional\n",
      "  functional                    7674                     154            570\n",
      "  functional needs repair        661                     270            139\n",
      "  non functional                1525                      75           3800\n",
      "\n",
      "\n",
      "Precision, Recall & F1-scores for each class:\n",
      "                        precision    recall  f1_score\n",
      "functional              0.7782961 0.9137890 0.8406178\n",
      "functional needs repair 0.5410822 0.2523364 0.3441683\n",
      "non functional          0.8427589 0.7037037 0.7669795\n",
      "avg_score               0.7207124 0.6232764 0.6505885\n",
      "\n",
      "\n",
      "Global accuracy:\n",
      "0.7898843\n"
     ]
    }
   ],
   "source": [
    "#data_test <- data_train[1:1000,] #to be changed\n",
    "\n",
    "print_scores(data_test, final_rf_model)\n",
    "\n"
   ]
  },
  {
   "cell_type": "markdown",
   "metadata": {},
   "source": [
    "It tends to favour a bit more the class \"functional\" than the other classes. Indeed, it is the class with the highest recall, but with a not so impressive precision (kind of the default class when it doesn't know). It can be particularly seen that 1525 over more or less 5000 observations (25%) of class \"non functional\" are classified as \"functional\"."
   ]
  },
  {
   "cell_type": "markdown",
   "metadata": {},
   "source": [
    "## Elastic net (EN) classifier"
   ]
  },
  {
   "cell_type": "markdown",
   "metadata": {},
   "source": [
    "The main reasons to choose an elastic net classifier:\n",
    "- Embedded feature selection\n",
    "- Sparse solution\n",
    "- can interpret the sign & the magnitude(because scaled in this case) of the coefficients\n",
    "- Global solution"
   ]
  },
  {
   "cell_type": "markdown",
   "metadata": {},
   "source": [
    "In this section, we decide to use a classifer which will try to find a sparse number of features. Contraty to the previous model, we need to scale the numeric parameters, because the constraint is on the norm of the coefficents (so if one has a much larger norm, it might restrict very much the solution). Fortunately, glmnet can take care of that automatically."
   ]
  },
  {
   "cell_type": "code",
   "execution_count": 9,
   "metadata": {
    "scrolled": true
   },
   "outputs": [
    {
     "name": "stderr",
     "output_type": "stream",
     "text": [
      "Warning message:\n",
      "\"package 'glmnet' was built under R version 4.0.2\"Loading required package: Matrix\n",
      "Loaded glmnet 4.0-2\n"
     ]
    }
   ],
   "source": [
    "library(glmnet)"
   ]
  },
  {
   "cell_type": "markdown",
   "metadata": {},
   "source": [
    "### Hyperparameters tuning"
   ]
  },
  {
   "cell_type": "markdown",
   "metadata": {},
   "source": [
    "The EN classifier depends on two hyperparameters. The lambda controls the magnitude of the norm of the coefficients vectors. It therefore tends to avoid having too large coefficients.\n",
    "<br>\n",
    "\n",
    "The second one controls the \"trade-off\" between ridge & lasso regression. An alpha of 0 means we are in a ridge classifiers which mainly scale-down the values of the coefficients while the lasso (alpha = 1) tends to put some coefficient to 0 if they are below lambda. It leads to a sparse solution. \n",
    "Having an alpha in between the two lead to a balance between the two approaches."
   ]
  },
  {
   "cell_type": "code",
   "execution_count": 22,
   "metadata": {},
   "outputs": [],
   "source": [
    "CV_EN <- function(data, alphas, nbr_fold){\n",
    "    #This functions computes the cross-validated accuracies & f1-score for a given alpha where for each alpha, the best\n",
    "    #lambda is determined based on the best cross-validated accuracy\n",
    "    #it returns the f1-scores, accuracies & lambdas for each the alpha\n",
    "    \n",
    "    \n",
    "    #create empty vectors to recover the scores & the best lambdas\n",
    "    alpha_scores_f1 <- c()\n",
    "    alpha_accuracy_scores <- c()\n",
    "    best_lambdas <- c()\n",
    "\n",
    "\n",
    "    data = na.omit(data)\n",
    "    \n",
    "    for (alpha in alphas){\n",
    "        f1_scores <- c()\n",
    "        accuracy_scores <- c()\n",
    "        \n",
    "        #first find the best lambda for each alpha based on the cross-validated accuracy\n",
    "        model_lass <- cv.glmnet(x = model.matrix( ~ ., data[,-ncol(data)]), \n",
    "                         y = as.matrix(data[,ncol(data)]), \n",
    "                         family = \"multinomial\",type.measure = \"class\", nfolds = nbr_fold, alpha = alpha)\n",
    "\n",
    "        lambda_best <- model_lass$lambda.min \n",
    "        best_lambdas <- c(best_lambdas, lambda_best)\n",
    "        data_idx <- sample(1:nrow(data))\n",
    "        max <- ceiling(nrow(data)/nbr_fold)\n",
    "        splits <- split(data_idx, ceiling(seq_along(data_idx)/max))\n",
    "\n",
    "        for (i in 1:nbr_fold){\n",
    "            #second find the best alpha given its best lambda\n",
    "            test_data <- data[splits[[i]],]\n",
    "            train_data <- data[-splits[[i]],]\n",
    "\n",
    "            new_model <- glmnet(x = model.matrix( ~ ., data[,-ncol(data)]), \n",
    "                         y = as.matrix(data[,ncol(data)]), \n",
    "                         family = \"multinomial\", alpha = alpha, lambda = lambda_best)\n",
    "            \n",
    "            Y_predict <- predict(new_model, model.matrix( ~ ., test_data[, -ncol(test_data)]), type = \"class\") #assume the last columns is the variable to predict\n",
    "            confusion_matrix <- create_confusion_matrix(test_data[, ncol(test_data)], Y_predict)\n",
    "            accuracy <- accuracy(confusion_matrix)\n",
    "            accuracy_scores <- c(accuracy_scores, accuracy)\n",
    "            f1_score <- compute_scores(confusion_matrix)[c(\"avg_score\"), c(\"f1_score\")] \n",
    "            f1_scores <- c(f1_scores, f1_score)\n",
    "            }\n",
    "\n",
    "        alpha_score_f1 <- mean(f1_scores)\n",
    "        alpha_scores_f1 <- c(alpha_scores_f1, alpha_score_f1)\n",
    "\n",
    "        alpha_accuracy_score <- mean(accuracy_scores)\n",
    "        alpha_accuracy_scores <- c(alpha_accuracy_scores, alpha_accuracy_score)\n",
    "\n",
    "        \n",
    "\n",
    "    }\n",
    "\n",
    "    return(list(\"f1_scores\" = alpha_scores_f1, \"accuracy_scores\" = alpha_accuracy_scores, \"lambdas\" = best_lambdas))\n",
    "}"
   ]
  },
  {
   "cell_type": "markdown",
   "metadata": {},
   "source": [
    "### Hyperparameters tuning"
   ]
  },
  {
   "cell_type": "code",
   "execution_count": 23,
   "metadata": {},
   "outputs": [],
   "source": [
    "alphas <- seq(0, 1, 0.25)\n",
    "nbr_fold <- 5\n",
    "\n",
    "result_EN <- CV_EN(data_train, alphas, nbr_fold)"
   ]
  },
  {
   "cell_type": "code",
   "execution_count": 39,
   "metadata": {},
   "outputs": [],
   "source": [
    "result_EN <- data.frame(result_EN)\n"
   ]
  },
  {
   "cell_type": "code",
   "execution_count": 41,
   "metadata": {},
   "outputs": [],
   "source": [
    "#result_EN <- sapply(result_EN, unlist)\n",
    "\n",
    "lambdas_EN <- result_EN[,\"lambdas\"] \n",
    "\n",
    "best_hyperparams_EN <- c(alphas[which.max(result_EN[,\"accuracy_scores\"])], \n",
    "                          lambdas_EN[which.max(result_EN[,\"accuracy_scores\"])])\n",
    "\n",
    "accuracy_EN <- max(result_EN[,\"accuracy_scores\"])\n",
    "f1_EN <- result_EN[which.max(result_EN[,\"accuracy_scores\"]), \"f1_scores\"]"
   ]
  },
  {
   "cell_type": "code",
   "execution_count": 9,
   "metadata": {},
   "outputs": [
    {
     "data": {
      "image/png": "[encoded data removed]",
      "text/plain": [
       "Plot with title \"CV scores versus lambda\""
      ]
     },
     "metadata": {},
     "output_type": "display_data"
    }
   ],
   "source": [
    "par(cex.main = 0.8, mfrow = c(1, 2))\n",
    "\n",
    "options(repr.plot.width = 10, repr.plot.height = 4)\n",
    "\n",
    "\n",
    "#reduce_to_one_param <- function(hyper_grid, result, variable)\n",
    "    \n",
    "minus_1_col <- cbind(result_EN, alphas)[, c(\"alphas\", \"f1_scores\", \"accuracy_scores\")]\n",
    "\n",
    "final_result <- matrix(ncol = 3)\n",
    "for (i in unique(minus_1_col[,\"alphas\"])){\n",
    "    avg_score_per_param <- apply(minus_1_col[minus_1_col[,\"alphas\"] == i,], 2, mean)\n",
    "    final_result <- rbind(final_result, avg_score_per_param)\n",
    "}\n",
    "alphas_df <- final_result[-1,]\n",
    "  \n",
    "\n",
    "plot(alphas_df[,\"alphas\"], alphas_df[,'accuracy_scores'], type = \"l\", main = \"CV scores versus alpha\",\n",
    "    xlim=c(0, 1), ylim=c(0.5,0.85), col = \"red\", xlab = \"Alpha\", ylab = \"Scores\")\n",
    "\n",
    "lines(alphas_df[,\"alphas\"], alphas_df[,\"f1_scores\"], type = \"l\", col = \"blue\")\n",
    "legend(\"topleft\" ,legend=c(\"Accuracy\", \"F1\"),\n",
    "       col=c(\"red\", \"blue\"), cex=0.7, lty = 1, y.intersp = 2, bty = \"n\")\n",
    "\n",
    "\n",
    "minus_1_col <- cbind(result_EN, alphas)[, c(\"lambdas\", \"f1_scores\", \"accuracy_scores\")]\n",
    "\n",
    "final_result <- matrix(ncol = 3)\n",
    "for (i in unique(minus_1_col[,\"lambdas\"])){\n",
    "    avg_score_per_param <- apply(minus_1_col[minus_1_col[,\"lambdas\"] == i,], 2, mean)\n",
    "    final_result <- rbind(final_result, avg_score_per_param)\n",
    "}\n",
    "lambdas_df <- final_result[-1,]\n",
    "\n",
    "plot(lambdas_df[,\"lambdas\"], lambdas_df[,'accuracy_scores'], type = \"l\", main = \"CV scores versus lambda\",\n",
    "    xlim=c(0, 0.015), ylim=c(0.5,0.85), col = \"red\", xlab = \"Lambda\", ylab = \"Scores\")\n",
    "\n",
    "\n",
    "lines(lambdas_df[,\"lambdas\"], lambdas_df[,\"f1_scores\"], type = \"l\", col = \"blue\")\n",
    "legend(\"topleft\" ,legend=c(\"Accuracy\", \"F1\"),\n",
    "       col=c(\"red\", \"blue\"), cex=0.7, lty = 1, y.intersp = 2, bty = \"n\")\n",
    "\n"
   ]
  },
  {
   "cell_type": "code",
   "execution_count": 42,
   "metadata": {},
   "outputs": [
    {
     "name": "stdout",
     "output_type": "stream",
     "text": [
      "[1] \"Alpha 0.75\"                  \"Lambda 0.000579765649087539\"\n",
      "[1] \"Expected accuracy score:  0.725302619793202\"\n",
      "[1] \"Expected accuracy f1-score:  0.509901575312165\"\n"
     ]
    }
   ],
   "source": [
    "print(paste(c(\"Alpha\", \"Lambda\"), best_hyperparams_EN))\n",
    "print(paste(\"Expected accuracy score: \", accuracy_EN))\n",
    "print(paste(\"Expected accuracy f1-score: \", f1_EN))"
   ]
  },
  {
   "cell_type": "code",
   "execution_count": 45,
   "metadata": {},
   "outputs": [],
   "source": [
    "rm_na_train <- na.omit(data_train)\n",
    "final_EN_model <- glmnet(x = model.matrix( ~ ., rm_na_train[,-ncol(rm_na_train)]), \n",
    "                         y = as.matrix(rm_na_train[,ncol(rm_na_train)]), \n",
    "                         family = \"multinomial\", alpha = best_hyperparams_EN[1], lambda = best_hyperparams_EN[2])"
   ]
  },
  {
   "cell_type": "code",
   "execution_count": 102,
   "metadata": {},
   "outputs": [
    {
     "name": "stdout",
     "output_type": "stream",
     "text": [
      "[1] \"Total Number of coefficients:  64\"\n",
      "[1] \"Number of non-null coefficients for the class  functional :  37\"\n",
      "6 most important features are: \n",
      "                             order_non_null.1.6.\n",
      "waterpoint_type_groupdam                3.489586\n",
      "scheme_managementnone                   3.276819\n",
      "installerrwe                           -1.517893\n",
      "scheme_managementother                  1.443785\n",
      "scheme_managementwater board            1.300702\n",
      "installergovernment                    -1.285429\n",
      "\n",
      "\n",
      "[1] \"Number of non-null coefficients for the class  functional needs repair :  33\"\n",
      "6 most important features are: \n",
      "                                 order_non_null.1.6.\n",
      "scheme_managementswc                      -1.0081751\n",
      "extraction_type_classrope pump            -0.9424221\n",
      "management_groupother                      0.8589222\n",
      "management_groupuser-group                 0.6167370\n",
      "extraction_type_classother                -0.6096356\n",
      "extraction_type_classsubmersible          -0.5614066\n",
      "\n",
      "\n",
      "[1] \"Number of non-null coefficients for the class  non functional :  41\"\n",
      "6 most important features are: \n",
      "                            order_non_null.1.6.\n",
      "quantity_groupenough                  -3.759393\n",
      "quantity_groupseasonal                -3.718691\n",
      "quantity_groupinsufficient            -3.669425\n",
      "scheme_managementwug                  -1.904351\n",
      "scheme_managementparastatal           -1.449301\n",
      "extraction_type_classother             1.394485\n",
      "\n",
      "\n"
     ]
    }
   ],
   "source": [
    "coef_EN <- final_EN_model$beta\n",
    "\n",
    "print(paste(\"Total Number of coefficients: \" , nrow(coef_EN[[1]])))\n",
    "for (class in names(coef_EN)){\n",
    "    coef_class <- coef_EN[[class]]\n",
    "    non_null_coef <- data.frame(coef_class[coef_class[,1] != 0, ])\n",
    "    print(paste(\"Number of non-null coefficients for the class \", class, \": \", nrow(non_null_coef)))\n",
    "    cat(\"6 most important features are: \")\n",
    "    cat(\"\\n\")\n",
    "    order_non_null <- non_null_coef[order(-abs(non_null_coef)),]\n",
    "    names(order_non_null) <- rownames(non_null_coef)[order(-abs(non_null_coef))]\n",
    "    print(data.frame(order_non_null[1:6]))\n",
    "    cat(\"\\n\\n\")\n",
    "    \n",
    "}"
   ]
  },
  {
   "cell_type": "markdown",
   "metadata": {},
   "source": [
    "#### Interpretation:\n",
    "\n",
    "The EN algorithm transform categorical variables into binaries, therefore we can have a more granular interpretation of the model. Also, it gives if it tends to decrease or increase the probability of a given class which makes it more interpretatable. Note also that those parameters were scaled & so their magnitudes give an idea of their importance for this particular model.\n",
    "\n",
    "\n",
    "It can be observed that this model reduces by half the number of dimensions for all the classes, which means that the EN approach was useful in order to make a more stringent feature selection than before. Futhermore, each class does not agree with the others in terms of the most important variables, but they seem to agree that the management of the well is an important factor which was not the case in the random forest. "
   ]
  },
  {
   "cell_type": "markdown",
   "metadata": {},
   "source": [
    "### Performance on the test set"
   ]
  },
  {
   "cell_type": "code",
   "execution_count": 104,
   "metadata": {},
   "outputs": [
    {
     "name": "stdout",
     "output_type": "stream",
     "text": [
      "Confusion matrix:\n",
      "                         pred_y\n",
      "true_y                    functional functional needs repair non functional\n",
      "  functional                    7709                      26            610\n",
      "  functional needs repair        914                      42            170\n",
      "  non functional                2270                       9           3051\n",
      "\n",
      "\n",
      "Precision, Recall & F1-scores for each class:\n",
      "                        precision     recall   f1_score\n",
      "functional              0.7077022 0.92378670 0.80143466\n",
      "functional needs repair 0.5454545 0.03730018 0.06982544\n",
      "non functional          0.7963978 0.57242026 0.66608449\n",
      "avg_score               0.6831848 0.51116905 0.51244820\n",
      "\n",
      "\n",
      "Global accuracy:\n",
      "0.7298156\n"
     ]
    }
   ],
   "source": [
    "data_test_EN <- na.omit(data_test) #to be changed\n",
    "\n",
    "Y_predict_EN <- predict(final_EN_model, newx =  model.matrix( ~ ., data_test_EN[,-ncol(data_test_EN)]),type = \"class\")\n",
    "confusion_matrix_EN <- create_confusion_matrix(data_test_EN[,ncol(data_test_EN)], Y_predict_EN) \n",
    "scores_EN <- compute_scores(confusion_matrix_EN) #recall, precision & f1-score\n",
    "accuracy_score_EN <- accuracy(confusion_matrix_EN) #accuracy\n",
    "\n",
    "cat(\"Confusion matrix:\\n\") \n",
    "print(confusion_matrix_EN)\n",
    "cat(\"\\n\\n\") #for a more beautiful printout\n",
    "cat(\"Precision, Recall & F1-scores for each class:\\n\")\n",
    "print(scores_EN)\n",
    "cat(\"\\n\\n\")\n",
    "cat(\"Global accuracy:\\n\")\n",
    "cat(accuracy_score_EN)\n",
    "cat(\"\\n\")\n",
    "\n",
    "#je devrais peut-être changer le calcul de l'average pour dire que d'abord je remplace par 0 et puis je fais la moyenne"
   ]
  },
  {
   "cell_type": "markdown",
   "metadata": {},
   "source": [
    "This model performs less well than the random forest, probably because it computes a global & linear decision surface & it is thus unable to capture some of the \"local\" relationships between the input & the output variables. In particular, it has trouble \"making room\" for the \"need repair\" class for which it predicts very few observations. It probably means that this variables is in between the two or vastly overlapping the areas of the other classes, which makes it very difficult for a linear algorithm to find a good boundary. It therefore focuses more on separating the two main classes. \n",
    "\n",
    "However, even upon looking at the predictions for \"functional\" and \"non-fonctional\" (the main classes), it still makes more mistakes on those 2 (as can be seen on the f1-score) than the random forest. It does mainly indicates that the boundary between the classes are non-linear & that we need more \"local\" algorithm such as KNN & random forest. "
   ]
  },
  {
   "cell_type": "markdown",
   "metadata": {},
   "source": [
    "## KNN"
   ]
  },
  {
   "cell_type": "markdown",
   "metadata": {},
   "source": [
    "The KNN is based on distance metrics, therefore, we first need to transform categorical variables into dummies one & perform PCA, so that correlated variables do not play too much of a role here. "
   ]
  },
  {
   "cell_type": "code",
   "execution_count": 105,
   "metadata": {},
   "outputs": [],
   "source": [
    "library(\"class\") "
   ]
  },
  {
   "cell_type": "markdown",
   "metadata": {},
   "source": [
    "### Pre-processing"
   ]
  },
  {
   "cell_type": "markdown",
   "metadata": {},
   "source": [
    "- Transform to binary variables \n",
    "- Rescale & perform PCA\n",
    "- Rescale again the PCA dimensions"
   ]
  },
  {
   "cell_type": "code",
   "execution_count": 108,
   "metadata": {},
   "outputs": [],
   "source": [
    "#no data loss at this stage because we do not remove any variables\n",
    "data_train_clean <- na.omit(data_train)\n",
    "train_data_knn <- model.matrix( ~ ., data_train_clean[,-ncol(data_train_clean)])[,-1] #-1 is for removing the intercept\n",
    "train_data_knn <- train_data_knn[,apply(train_data_knn, 2, var) > 0] #remove variables with zero-variance\n",
    "pca_data_train <- prcomp(train_data_knn, center = TRUE,scale. = TRUE) #85 - 90%\n",
    "train_data_knn_pca <- scale(pca_data_train[[\"x\"]])\n",
    "\n",
    "train_data_knn_end <- cbind(data.frame(train_data_knn_pca), \"status_group\" = data_train_clean[,ncol(data_train_clean)])"
   ]
  },
  {
   "cell_type": "markdown",
   "metadata": {},
   "source": [
    "Projetting test data on the newly created PCA space"
   ]
  },
  {
   "cell_type": "code",
   "execution_count": 112,
   "metadata": {},
   "outputs": [],
   "source": [
    "test_data_clean <- na.omit(data_test)\n",
    "\n",
    "test_data_knn <- model.matrix(~., test_data_clean[, -ncol(test_data_clean)])[,-1]\n",
    "test_data_knn <- test_data_knn[, colnames(train_data_knn)]\n",
    "projetted_test_data <- scale(scale(test_data_knn, pca_data_train$center, pca_data_train$scale)\n",
    "                             %*% pca_data_train$rotation )\n",
    "\n",
    "test_data_corrected <- cbind(data.frame(projetted_test_data), \"status_group\" = test_data_clean[,ncol(test_data_clean)])\n"
   ]
  },
  {
   "cell_type": "markdown",
   "metadata": {},
   "source": [
    "### Used functions"
   ]
  },
  {
   "cell_type": "code",
   "execution_count": 53,
   "metadata": {},
   "outputs": [],
   "source": [
    "ranked_importance_idx <- function(formula, data, n_tree){\n",
    "    #returns the index of the features which are the most important. The indexes are sorted by order of importance.\n",
    "    #e.g. if the first element of the output is 8, it means that the 8th feature is the most important one\n",
    "    \n",
    "    rf_feature_selection <- randomForest(formula, data = data, n_tree = n_tree , importance = TRUE)\n",
    "    importance_rf <- data.frame(rf_feature_selection$importance)\n",
    "    mean_decre_accu <- importance_rf[, \"MeanDecreaseAccuracy\"]\n",
    "    idx_ordered_by_importance <- order(-mean_decre_accu)\n",
    "\n",
    "    return(idx_ordered_by_importance)\n",
    "}\n",
    "\n"
   ]
  },
  {
   "cell_type": "code",
   "execution_count": 137,
   "metadata": {},
   "outputs": [],
   "source": [
    "cross_validation_knn <- function(data, nbr_fold, k ){\n",
    "    #Given some training data, & some arguments, it computes the cross-validated \n",
    "    #F1-score for each of the fold & its accuracy for a knn model (basically the same as the general one\n",
    "    #adapted to knn)\n",
    "    \n",
    "    data_idx <- sample(1:nrow(data))\n",
    "    max <- ceiling(nrow(data)/nbr_fold)\n",
    "    splits <- split(data_idx, ceiling(seq_along(data_idx)/max))\n",
    "    f1_scores  <- c()\n",
    "    accuracy_scores <- c()\n",
    "    \n",
    "    for (i in 1:nbr_fold){\n",
    "        test_data <- data[splits[[i]],]\n",
    "        train_data <- data[-splits[[i]],]\n",
    "        knn_model <- knn(train = train_data[,-ncol(train_data)], test = test_data[, -ncol(test_data)], k = k,\n",
    "                     cl = train_data[, ncol(train_data)])\n",
    "        \n",
    "        confusion_matrix <- create_confusion_matrix(test_data[, ncol(test_data)], knn_model)\n",
    "        accuracy_score <- accuracy(confusion_matrix)\n",
    "        f1_score <- compute_scores(confusion_matrix)[c(\"avg_score\"), c(\"f1_score\")]\n",
    "        f1_scores <- c(f1_scores, f1_score)\n",
    "        accuracy_scores <- c(accuracy_scores, accuracy_score)\n",
    "        }\n",
    "    return(list(\"f1_scores\" = mean(f1_scores), \"accuracy_scores\" = mean(accuracy_scores))) #maybe we can change here\n",
    "    \n",
    "    }"
   ]
  },
  {
   "cell_type": "code",
   "execution_count": 138,
   "metadata": {},
   "outputs": [],
   "source": [
    "hyper_tuning_knn <- function(nbr_neighboors, nbr_variables, nbr_fold, normalised_data, formula, n_tree_select,\n",
    "                            propor = 0.2){\n",
    "    #given a vector of integer (representing the number of neighboors), another vecotr representing the number of \n",
    "    #variable chosen, some training data, & other attributes, it will return the grid of all the combinations of both parameters, \n",
    "    #the CV accuracy & F1 score for each of the combinations.\n",
    "    hyper_grid <- expand.grid(nbr_neighboors, nbr_variables)\n",
    "    colnames(hyper_grid) <- c(\"nbr_neighboors\", \"nbr_variables\")  \n",
    "    \n",
    "    idx <- sample(1:nrow(normalised_data), floor(propor * nrow(normalised_data))) #we use propor * data_size to compute \n",
    "    #the importance of each feature, so we do not use the same data for selection & classification\n",
    "    \n",
    "    importance_sample <- normalised_data[idx,]\n",
    "    remaining_sample <- normalised_data[-idx, ]\n",
    "    \n",
    "    \n",
    "    idx_importance <- ranked_importance_idx(formula = formula, data = importance_sample, n_tree = n_tree_select)\n",
    "    \n",
    "    accuracies <- c()\n",
    "    f1s <- c()\n",
    "    for (i in 1:nrow(hyper_grid)){\n",
    "        sliced_data <- remaining_sample[,c(idx_importance[1:hyper_grid[i, \"nbr_variables\"]] #remove the least important\n",
    "                                           # variables\n",
    "                                           , ncol(remaining_sample))]\n",
    "        \n",
    "        \n",
    "        scores_hyper <- cross_validation_knn(sliced_data, nbr_fold, hyper_grid[i, \"nbr_neighboors\"])\n",
    "        accuracy_hyper <- scores_hyper$accuracy_scores\n",
    "        f1_hyper <- scores_hyper$f1_scores\n",
    "        accuracies <- c(accuracies, accuracy_hyper)\n",
    "        f1s <- c(f1s, f1_hyper)\n",
    "        \n",
    "    }\n",
    "    \n",
    "    return(list(\"hyper_grid\" = hyper_grid, \"f1_scores\" = f1s, \"accuracy_scores\" = accuracies))\n",
    "    \n",
    "}"
   ]
  },
  {
   "cell_type": "markdown",
   "metadata": {},
   "source": [
    "### Hyperparameter tuning\n",
    "\n",
    "\n",
    "We considered two hyperparameters: the number of neighboors & the number of variables. \n",
    "\n",
    "Indeed, the less neighboors we take into account, the more local the algorithm is (less assumption = less biased), but also it comes at the price of being more prone to overfit the noise. It is therefore important to find a balance between the two. \n",
    "\n",
    "\n",
    "The number of variables is crucial for KNN because there is no embedded methods (like the two previous one) to avoid taking into account useless variables. Here, all variables are weighted the same (because we normalised them), therefore if a dimension is less important than the rest, it might influence/add noise to the decision of who are the neighboors. But, we should not remove important variables which could lead to better results. Again, we find the trade-off between the two extremes. \n",
    "<br>\n",
    "<br>\n",
    "In the following code, we first use a random forest (with 400 trees as seen before) with all the scaled PCA variables previously obtained to **get a ranking of the variable according to their Mean Decrease in accuracy** (= by how much the accuracy drop if we shuffle this variable in the training). It gives us a ranking of the most important features (even though not a perfect ranking because estimated & evaluated on the same data). We thus use that ranking to drop variables in a meaningful order, first we drop the least important feature, then the second least important, etc. & we do this until we find a set of features which gives good cross-validated performance score.\n",
    "<br>\n",
    "\n",
    "\n",
    "\n"
   ]
  },
  {
   "cell_type": "markdown",
   "metadata": {},
   "source": [
    "We decide to restrict to 30 variables maximum because we saw in the previous algorithms that the maximum number of relevant variables were of that magnitude. "
   ]
  },
  {
   "cell_type": "code",
   "execution_count": 141,
   "metadata": {},
   "outputs": [],
   "source": [
    "nbr_neighboors <- seq(3, 25, 1) \n",
    "nbr_variables <- c(3, 5,7, 10,12,  15, 20, 30, 40)\n",
    "\n",
    "result_knn <- hyper_tuning_knn(nbr_neighboors, nbr_variables, 10, train_data_knn_end, formula(status_group ~ .), 400)"
   ]
  },
  {
   "cell_type": "code",
   "execution_count": 142,
   "metadata": {},
   "outputs": [],
   "source": [
    "#exctracting information from the result of the hyperparameter tuning\n",
    "hyper_params_knn <- result_knn$hyper_grid \n",
    "result_scores_knn <- sapply(result_knn[c(\"f1_scores\", \"accuracy_scores\")], unlist)\n",
    "\n",
    "best_hyperparams_knn <- hyper_params_knn[which.max(result_scores_knn[,\"accuracy_scores\"]), ]\n",
    "\n",
    "accuracy_knn <- max(result_scores_knn[,\"accuracy_scores\"])\n",
    "f1_knn <- result_scores_knn[which.max(result_scores_knn[,\"accuracy_scores\"]), \"f1_scores\"]"
   ]
  },
  {
   "cell_type": "code",
   "execution_count": 29,
   "metadata": {},
   "outputs": [
    {
     "data": {
      "image/png": "[encoded data removed]",
      "text/plain": [
       "Plot with title \"CV scores versus number of variables\""
      ]
     },
     "metadata": {},
     "output_type": "display_data"
    }
   ],
   "source": [
    "par(cex.main = 0.8, mfrow = c(1, 2))\n",
    "\n",
    "options(repr.plot.width = 10, repr.plot.height = 4)\n",
    "\n",
    "minus_1_col <- cbind(result_scores_knn, hyper_params_knn)[, c(\"nbr_neighboors\", \"f1_scores\", \"accuracy_scores\")]\n",
    "\n",
    "final_result <- matrix(ncol = 3)\n",
    "for (i in unique(minus_1_col[,\"nbr_neighboors\"])){\n",
    "    avg_score_per_param <- apply(minus_1_col[minus_1_col[,\"nbr_neighboors\"] == i,], 2, mean)\n",
    "    final_result <- rbind(final_result, avg_score_per_param)\n",
    "}\n",
    "nb_neigh_df <- final_result[-1,]\n",
    "\n",
    "plot(nb_neigh_df[,\"nbr_neighboors\"], nb_neigh_df[,'accuracy_scores'], type = \"l\", main = \"CV scores versus number of neighbours\",\n",
    "    xlim=c(3, 25), ylim=c(0.55,0.85), col = \"red\", xlab = \"Number of neighbours\", ylab = \"Scores\")\n",
    "\n",
    "lines(nb_neigh_df[,\"nbr_neighboors\"], nb_neigh_df[,\"f1_scores\"], type = \"l\", col = \"blue\")\n",
    "legend(\"topleft\" ,legend=c(\"Accuracy\", \"F1\"),\n",
    "       col=c(\"red\", \"blue\"), cex=0.7, lty = 1, y.intersp = 2, bty = \"n\")\n",
    "\n",
    "minus_1_col <- cbind(result_scores_knn, hyper_params_knn)[, c(\"nbr_variables\", \"f1_scores\", \"accuracy_scores\")]\n",
    "\n",
    "final_result <- matrix(ncol = 3)\n",
    "for (i in unique(minus_1_col[,\"nbr_variables\"])){\n",
    "    avg_score_per_param <- apply(minus_1_col[minus_1_col[,\"nbr_variables\"] == i,], 2, mean)\n",
    "    final_result <- rbind(final_result, avg_score_per_param)\n",
    "}\n",
    "nb_var_df <- final_result[-1,]\n",
    "\n",
    "plot(nb_var_df[,\"nbr_variables\"], nb_var_df[,'accuracy_scores'], type = \"l\", main = \"CV scores versus number of variables\",\n",
    "    xlim=c(3, 40), ylim=c(0.55,0.85), col = \"red\", xlab = \"Number of variables\", ylab = \"Scores\")\n",
    "\n",
    "lines(nb_var_df[,\"nbr_variables\"], nb_var_df[,\"f1_scores\"], type = \"l\", col = \"blue\")\n",
    "legend(\"topleft\" ,legend=c(\"Accuracy\", \"F1\"),\n",
    "       col=c(\"red\", \"blue\"), cex=0.7, lty = 1, y.intersp = 2, bty = \"n\")"
   ]
  },
  {
   "cell_type": "code",
   "execution_count": 144,
   "metadata": {},
   "outputs": [
    {
     "name": "stdout",
     "output_type": "stream",
     "text": [
      "[1] \"nbr_neighboors 7\" \"nbr_variables 30\"\n",
      "[1] \"Expected accuracy score:  0.755273454880725\"\n",
      "[1] \"Expected accuracy f1-score:  0.613013366946174\"\n"
     ]
    }
   ],
   "source": [
    "print(paste(colnames(hyper_params_knn), best_hyperparams_knn))\n",
    "print(paste(\"Expected accuracy score: \", accuracy_knn))\n",
    "print(paste(\"Expected f1-score: \", f1_knn))"
   ]
  },
  {
   "cell_type": "code",
   "execution_count": 145,
   "metadata": {},
   "outputs": [],
   "source": [
    "rki <- ranked_importance_idx(formula(status_group ~. ), data = train_data_knn_end, 400)\n"
   ]
  },
  {
   "cell_type": "code",
   "execution_count": 147,
   "metadata": {},
   "outputs": [],
   "source": [
    "\n",
    "final_knn_model <- knn(train = train_data_knn_end[,rki[1:best_hyperparams_knn[1,2]]], \n",
    "                       test = test_data_corrected[, rki[1:best_hyperparams_knn[1,2]]], \n",
    "                       k = best_hyperparams_knn[1, 1],\n",
    "                     cl = train_data_knn_end[, ncol(train_data_knn_end)])"
   ]
  },
  {
   "cell_type": "markdown",
   "metadata": {},
   "source": [
    "### Performance on the test set"
   ]
  },
  {
   "cell_type": "code",
   "execution_count": 148,
   "metadata": {},
   "outputs": [
    {
     "name": "stdout",
     "output_type": "stream",
     "text": [
      "Confusion matrix:\n",
      "                         pred_y\n",
      "true_y                    functional functional needs repair non functional\n",
      "  functional                    7233                     200            912\n",
      "  functional needs repair        660                     251            215\n",
      "  non functional                1584                      90           3656\n",
      "\n",
      "\n",
      "Precision, Recall & F1-scores for each class:\n",
      "                        precision    recall  f1_score\n",
      "functional              0.7632162 0.8667466 0.8116934\n",
      "functional needs repair 0.4639556 0.2229130 0.3011398\n",
      "non functional          0.7643738 0.6859287 0.7230298\n",
      "avg_score               0.6638486 0.5918627 0.6119543\n",
      "\n",
      "\n",
      "Global accuracy:\n",
      "0.7526518\n"
     ]
    }
   ],
   "source": [
    "#data_test_knn <- na.omit(data_test) #to be changed\n",
    "\n",
    "\n",
    "confusion_matrix_knn <- create_confusion_matrix(test_data_corrected[,ncol(test_data_corrected)], final_knn_model) \n",
    "scores_knn <- compute_scores(confusion_matrix_knn) #recall, precision & f1-score\n",
    "accuracy_score_knn <- accuracy(confusion_matrix_knn) #accuracy\n",
    "\n",
    "cat(\"Confusion matrix:\\n\") \n",
    "print(confusion_matrix_knn)\n",
    "cat(\"\\n\\n\")\n",
    "cat(\"Precision, Recall & F1-scores for each class:\\n\")\n",
    "print(scores_knn)\n",
    "cat(\"\\n\\n\")\n",
    "cat(\"Global accuracy:\\n\")\n",
    "cat(accuracy_score_knn)\n",
    "cat(\"\\n\")\n",
    "\n"
   ]
  },
  {
   "cell_type": "markdown",
   "metadata": {},
   "source": [
    "It has a worse result than the random forest algorithm but it tends to less favour the class \"functional\" (it is less the default class) in favour of the second & third class than the other algorithm. It makes sense because as we have seen with the lasso, it seems that the boundaries between the classes are not linear. It seems to be particularly the case for the \"need repair\" class which seems to be \"embedded\" in the other classes or at least in between them. In those type of complex boundaries, the KNN is good. However, it does less well than the random forest because, it may be too local at some areas of the feature space and extrapolate a bit from the noise present in a particular fold. This is less the case in the random forest because it computes average over multiple trees & therefore is more robust to those kind of noise (the averaging reduce the variance of the model). \n",
    "\n",
    "\n"
   ]
  },
  {
   "cell_type": "markdown",
   "metadata": {},
   "source": [
    "## Conclusion model selection"
   ]
  },
  {
   "cell_type": "markdown",
   "metadata": {},
   "source": [
    "Here we split the training data into two parts, one will be used for cross-validation for fine-tuning the hyperparameters & the other one to be able to compare the best models on an independent test set and then select the best one."
   ]
  },
  {
   "cell_type": "code",
   "execution_count": 53,
   "metadata": {},
   "outputs": [],
   "source": [
    "selected_variables <- c('amount_tsh' , 'date_recorded', 'gps_height', 'installer', 'basin' ,'population', 'public_meeting',\n",
    "                       'scheme_management', 'permit', 'construction_year', 'extraction_type_class', 'management_group', \n",
    "                       \"payment\", \"payment_type\", \"quality_group\", \"quantity_group\", \"source_class\", \"waterpoint_type_group\",\n",
    "                       \"status_group\")"
   ]
  },
  {
   "cell_type": "markdown",
   "metadata": {},
   "source": [
    "# Alternative models : Generalized Boosting Model"
   ]
  },
  {
   "cell_type": "markdown",
   "metadata": {},
   "source": [
    "## GBM Model:\n",
    "\n",
    "Boosting models allow to combine decision tree algorithms and boosting methods. Generalized Boosting Models use a sequential approach to fit many decision trees, in order to improve the accuracy of the model. Trees are grown sequentially: each tree, usually a *stump* (made of only one node), is grown using information from previously grown trees. The information that is used from the previous trees is mostly the error rate. An error rate will be assigned to each individual tree, which will in term influence its weight. At each stage, a weak learner is introduced to compensate the shortcomings of existing weak learners. In gradient boosting, shortcomings are identified by gradients and indicate how to improve the model. For each new tree in the model the input data (observations) are weighted in such a way that data that was poorly modelled by previous trees has a higher probability of being selected in the new tree. This means that after the first tree is fitted, the model will take into account the error in the prediction of that tree to fit the next tree, and so on. By taking into account the fit of previous trees that are built, the model continuously tries to improve its accuracy. \n",
    "\n",
    "Boosting has four tuning parameters:\n",
    "- The number of trees. It is to note that boosting can overfit if the number of trees is too large.  \n",
    "- The shrinkage parameter: controls the rate at which boosting ”learns”. A very small shrinkage parameter can require a larger number of trees in order to achieve a good performance.  \n",
    "- The number of splits in each tree (also called interaction depth). As already mentioned, usually one split (thus a stump) works well.  \n",
    "- The minimum amount of observations for each final node, referred to as ```minobsinnode``` in the library. \n",
    "\n",
    "Generalized Boosting Models are also very robust for what concerns missing values and outliers."
   ]
  },
  {
   "cell_type": "markdown",
   "metadata": {},
   "source": [
    "The following packages will be used for this part:"
   ]
  },
  {
   "cell_type": "code",
   "execution_count": 89,
   "metadata": {},
   "outputs": [],
   "source": [
    "#install.packages(\"gbm\")\n",
    "#install.packages(\"caret\")\n",
    "#install.packages(\"caTools\")\n",
    "#install.packages(\"forcats\")\n",
    "#install.packages(\"dplyr\")\n",
    "#install.packages(\"e1071\")"
   ]
  },
  {
   "cell_type": "code",
   "execution_count": 93,
   "metadata": {},
   "outputs": [
    {
     "name": "stderr",
     "output_type": "stream",
     "text": [
      "\n",
      "Attaching package: ‘dplyr’\n",
      "\n",
      "The following object is masked from ‘package:randomForest’:\n",
      "\n",
      "    combine\n",
      "\n",
      "The following objects are masked from ‘package:stats’:\n",
      "\n",
      "    filter, lag\n",
      "\n",
      "The following objects are masked from ‘package:base’:\n",
      "\n",
      "    intersect, setdiff, setequal, union\n",
      "\n",
      "Loaded gbm 2.1.8\n",
      "Loading required package: lattice\n",
      "Loading required package: ggplot2\n",
      "\n",
      "Attaching package: ‘ggplot2’\n",
      "\n",
      "The following object is masked from ‘package:randomForest’:\n",
      "\n",
      "    margin\n",
      "\n"
     ]
    }
   ],
   "source": [
    "library(dplyr)\n",
    "library(forcats)\n",
    "library(gbm)\n",
    "library(caret)\n",
    "library(caTools)\n",
    "library(e1071)"
   ]
  },
  {
   "cell_type": "markdown",
   "metadata": {},
   "source": [
    "## Finetunning the GBM hyperparameters "
   ]
  },
  {
   "cell_type": "code",
   "execution_count": 94,
   "metadata": {},
   "outputs": [
    {
     "data": {
      "text/html": [
       "<table>\n",
       "<thead><tr><th scope=col>parameter</th><th scope=col>class</th><th scope=col>label</th></tr></thead>\n",
       "<tbody>\n",
       "\t<tr><td>n.trees                </td><td>numeric                </td><td># Boosting Iterations  </td></tr>\n",
       "\t<tr><td>interaction.depth      </td><td>numeric                </td><td>Max Tree Depth         </td></tr>\n",
       "\t<tr><td>shrinkage              </td><td>numeric                </td><td>Shrinkage              </td></tr>\n",
       "\t<tr><td>n.minobsinnode         </td><td>numeric                </td><td>Min. Terminal Node Size</td></tr>\n",
       "</tbody>\n",
       "</table>\n"
      ],
      "text/latex": [
       "\\begin{tabular}{r|lll}\n",
       " parameter & class & label\\\\\n",
       "\\hline\n",
       "\t n.trees                   & numeric                   & \\# Boosting Iterations  \\\\\n",
       "\t interaction.depth       & numeric                 & Max Tree Depth         \\\\\n",
       "\t shrinkage               & numeric                 & Shrinkage              \\\\\n",
       "\t n.minobsinnode          & numeric                 & Min. Terminal Node Size\\\\\n",
       "\\end{tabular}\n"
      ],
      "text/markdown": [
       "\n",
       "| parameter | class | label |\n",
       "|---|---|---|\n",
       "| n.trees                 | numeric                 | # Boosting Iterations   |\n",
       "| interaction.depth       | numeric                 | Max Tree Depth          |\n",
       "| shrinkage               | numeric                 | Shrinkage               |\n",
       "| n.minobsinnode          | numeric                 | Min. Terminal Node Size |\n",
       "\n"
      ],
      "text/plain": [
       "  parameter         class   label                  \n",
       "1 n.trees           numeric # Boosting Iterations  \n",
       "2 interaction.depth numeric Max Tree Depth         \n",
       "3 shrinkage         numeric Shrinkage              \n",
       "4 n.minobsinnode    numeric Min. Terminal Node Size"
      ]
     },
     "metadata": {},
     "output_type": "display_data"
    }
   ],
   "source": [
    "getModelInfo()$gbm$parameters #these are the parameters to finetune "
   ]
  },
  {
   "cell_type": "code",
   "execution_count": 95,
   "metadata": {},
   "outputs": [],
   "source": [
    "#first try (take time/not so important)\n",
    "#gbm0 <- train(status_group ~ . , data = data_train, method = \"gbm\", distribution = \"multinomial\",na.action=na.omit)\n",
    "#print(gbm0)"
   ]
  },
  {
   "cell_type": "code",
   "execution_count": 96,
   "metadata": {},
   "outputs": [],
   "source": [
    "#Finetune the hyperparameters\n",
    "myGrid <- expand.grid(n.trees = c(150, 175, 200, 225), \n",
    "                      interaction.depth = c(5,7,10),\n",
    "                      shrinkage = c(0.075,0.1,0.125, 0.15),\n",
    "                      n.minobsinnode=c(50,100,150,200))"
   ]
  },
  {
   "cell_type": "code",
   "execution_count": 97,
   "metadata": {},
   "outputs": [],
   "source": [
    "trainctrl <- trainControl(method = \"repeatedcv\", number = 5, repeats = 3)"
   ]
  },
  {
   "cell_type": "code",
   "execution_count": null,
   "metadata": {},
   "outputs": [],
   "source": [
    "#this code run for more than 8 hours \n",
    "#gbm.tuned <- train(status_group ~ . , data = data_train, method = \"gbm\", distribution = \"multinomial\",\n",
    "#                        trControl = trainctrl, verbose = FALSE, na.action=na.omit, tuneGrid=myGrid)"
   ]
  },
  {
   "cell_type": "code",
   "execution_count": 156,
   "metadata": {},
   "outputs": [],
   "source": [
    "#the result of gbm.tuned$bestTune = the parameters that optimize the algorithm : \n",
    "#shrinkage = 0.125\n",
    "#n.trees = 200\n",
    "#n.minobsinnode = 200\n",
    "#interaction.depth= 10"
   ]
  },
  {
   "cell_type": "markdown",
   "metadata": {},
   "source": [
    "## RUN Gradient Boosting Model"
   ]
  },
  {
   "cell_type": "code",
   "execution_count": 98,
   "metadata": {
    "scrolled": false
   },
   "outputs": [
    {
     "name": "stderr",
     "output_type": "stream",
     "text": [
      "Warning message:\n",
      "“Setting `distribution = \"multinomial\"` is ill-advised as it is currently broken. It exists only for backwards compatibility. Use at your own risk.”"
     ]
    },
    {
     "name": "stdout",
     "output_type": "stream",
     "text": [
      "gbm(formula = status_group ~ ., distribution = \"multinomial\", \n",
      "    data = data_train, n.trees = 200, interaction.depth = 10, \n",
      "    n.minobsinnode = 200, shrinkage = 0.125, cv.folds = 10)\n",
      "A gradient boosted model with multinomial loss function.\n",
      "200 iterations were performed.\n",
      "The best cross-validation iteration was 200.\n",
      "There were 18 predictors of which 17 had non-zero influence.\n"
     ]
    }
   ],
   "source": [
    "#for more speed code we use the function gbm : (caret takes too much time)\n",
    "my_gbm = gbm(status_group ~.,\n",
    "              data = data_train,\n",
    "              distribution = \"multinomial\",\n",
    "              cv.folds = 10,\n",
    "              shrinkage = 0.125,\n",
    "              n.minobsinnode = 200,\n",
    "              n.trees = 200,\n",
    "              interaction.depth= 10)\n",
    "print(my_gbm)\n",
    "\n",
    "pred = predict.gbm(object = my_gbm,\n",
    "                   newdata = data_test,\n",
    "                   n.trees = 200,\n",
    "                   type = \"response\")\n"
   ]
  },
  {
   "cell_type": "code",
   "execution_count": 99,
   "metadata": {},
   "outputs": [
    {
     "name": "stdout",
     "output_type": "stream",
     "text": [
      "Confusion Matrix and Statistics\n",
      "\n",
      "                         Reference\n",
      "Prediction                functional functional needs repair non functional\n",
      "  functional                   14346                     220           1540\n",
      "  functional needs repair       1358                     442            380\n",
      "  non functional                3224                     124           8066\n",
      "\n",
      "Overall Statistics\n",
      "                                          \n",
      "               Accuracy : 0.7695          \n",
      "                 95% CI : (0.7647, 0.7743)\n",
      "    No Information Rate : 0.6373          \n",
      "    P-Value [Acc > NIR] : < 2.2e-16       \n",
      "                                          \n",
      "                  Kappa : 0.5595          \n",
      "                                          \n",
      " Mcnemar's Test P-Value : < 2.2e-16       \n",
      "\n",
      "Statistics by Class:\n",
      "\n",
      "                     Class: functional Class: functional needs repair\n",
      "Sensitivity                     0.7579                        0.56234\n",
      "Specificity                     0.8366                        0.93989\n",
      "Pos Pred Value                  0.8907                        0.20275\n",
      "Neg Pred Value                  0.6629                        0.98750\n",
      "Prevalence                      0.6373                        0.02646\n",
      "Detection Rate                  0.4830                        0.01488\n",
      "Detection Prevalence            0.5423                        0.07340\n",
      "Balanced Accuracy               0.7973                        0.75112\n",
      "                     Class: non functional\n",
      "Sensitivity                         0.8077\n",
      "Specificity                         0.8302\n",
      "Pos Pred Value                      0.7067\n",
      "Neg Pred Value                      0.8950\n",
      "Prevalence                          0.3362\n",
      "Detection Rate                      0.2716\n",
      "Detection Prevalence                0.3843\n",
      "Balanced Accuracy                   0.8190\n"
     ]
    }
   ],
   "source": [
    "labels = colnames(pred)[apply(pred, 1, which.max)]\n",
    "result = data.frame(data_test$status_group, labels)\n",
    "\n",
    "cm = confusionMatrix(data_test$status_group, as.factor(labels))\n",
    "print(cm)"
   ]
  },
  {
   "cell_type": "markdown",
   "metadata": {},
   "source": [
    "The gradient boosting model did not work as well as the random Forest, we get an accuracy of 77% whereas the Random Forest algorithm reached an accuracy of 79%."
   ]
  },
  {
   "cell_type": "markdown",
   "metadata": {},
   "source": [
    "# Predictions with the best model"
   ]
  },
  {
   "cell_type": "markdown",
   "metadata": {},
   "source": [
    "In this section, we will go predict on the test set & export the result to a csv & upload it on the Data-Driven website. The best model was the random forest because he managed to get a 79% of accuracy on an independent test set while the others did less than that. It is why we are going to use it for the submitted predictions. "
   ]
  },
  {
   "cell_type": "markdown",
   "metadata": {},
   "source": [
    "## Submissions on the website"
   ]
  },
  {
   "cell_type": "code",
   "execution_count": 101,
   "metadata": {},
   "outputs": [
    {
     "name": "stdout",
     "output_type": "stream",
     "text": [
      "     id   status_group\n",
      "1 50785     functional\n",
      "2 51630     functional\n",
      "3 17168     functional\n",
      "4 45559 non functional\n",
      "5 49871     functional\n",
      "6 52449     functional\n"
     ]
    }
   ],
   "source": [
    "test_X_end <- test_X_v3[,selected_variables[-length(selected_variables)]] #remove the target from the columns & exctract the\n",
    "#selected features\n",
    "test_X_id <- test_X_v3[,\"id\"] #we retrieve the id for the csv\n",
    "\n",
    "challenge_pred <- data.frame(predict(final_rf_model, test_X_end))\n",
    "\n",
    "format_preds <- cbind(test_X_id,challenge_pred)\n",
    "colnames(format_preds) = c(\"id\", \"status_group\")\n",
    "\n",
    "print(head(format_preds))\n",
    "\n",
    "write.csv(format_preds, \"./challenge_predictions.csv\", row.names = FALSE)"
   ]
  },
  {
   "cell_type": "code",
   "execution_count": 102,
   "metadata": {},
   "outputs": [
    {
     "data": {
      "text/plain": [
       "       id                         status_group \n",
       " 10     :    1   functional             :9215  \n",
       " 13     :    1   functional needs repair: 508  \n",
       " 14     :    1   non functional         :5127  \n",
       " 29     :    1                                 \n",
       " 32     :    1                                 \n",
       " 37     :    1                                 \n",
       " (Other):14844                                 "
      ]
     },
     "metadata": {},
     "output_type": "display_data"
    }
   ],
   "source": [
    "summary(format_preds)"
   ]
  },
  {
   "attachments": {
    "image.png": {
     "image/png": "[encoded data removed]"
    }
   },
   "cell_type": "markdown",
   "metadata": {},
   "source": [
    "![image.png](attachment:image.png)"
   ]
  },
  {
   "attachments": {
    "image.png": {
     "image/png": "[encoded data removed]"
    }
   },
   "cell_type": "markdown",
   "metadata": {},
   "source": [
    "![image.png](attachment:image.png)"
   ]
  },
  {
   "cell_type": "markdown",
   "metadata": {},
   "source": [
    "We observe that the results were really close to our estimations (78.72% vs 78.98%) which means that our procedure was relatively good at predicting the generalisation error of the model."
   ]
  },
  {
   "cell_type": "markdown",
   "metadata": {},
   "source": [
    "# Conclusion"
   ]
  },
  {
   "cell_type": "markdown",
   "metadata": {},
   "source": [
    "## Remarks about the data preprocessing\n",
    "  \n",
    "Overall, the dataset contained many wrong values, i.e. some variables had classes called 'unknown' or empty, continuous variables that were set to 0 and where it was obvious they were poorly encoded observations. Initially, we thought about flagging the missing/wrong values with NA. However, this would have allowed us to train our models on 'perfect' data, and being unable to make predictions on wrongly encoded data, which were present in the (to be predicted) test set. In total, roughly 30% of the categorical data contained observations that belonged to a wrong class ('unknown', '', ...). Therefore, we decided rather assign them to \"NA\" (character) classes instead of setting a value of NA.  \n",
    "It is also worth mentioning that many variables were very highly correlated with each other, in fact being the same variables but with different degrees of precision regarding the classes. Each time, we kept only variable per 'family'."
   ]
  },
  {
   "cell_type": "markdown",
   "metadata": {},
   "source": [
    "## Model selection"
   ]
  },
  {
   "cell_type": "markdown",
   "metadata": {},
   "source": [
    "Afterwards, we implemented a model selection procedure, which consists of computing the cross-validated accuracy & F1-score of a given model with a given combination of hyperparameters. The best set of hyperparameters was determined by the one with the highest CV accuracy (& F1-score in case of equality). \n",
    "\n",
    "To compare different types of model, we compare the performance of each type given its best hyperparameters (computed in the step before) on an independent test set (which was the same for all models). \n",
    "\n",
    "Then, the model selected to make the actual predictions of the challenge was the one with the highest score on this independent test set. \n",
    "\n",
    "\n",
    "In this case, the best model was a random forest with 400 trees & 4 variables per tree. It outperformed the others because it can well approximate non-linear decision boundaries & it is also robust to noise & too local structure because of the averaging of the results it performs on a given region (unlike KNN for example)."
   ]
  },
  {
   "cell_type": "markdown",
   "metadata": {},
   "source": [
    "## Summarizing Accuracy results\n",
    "\n",
    "Although the accuracy is not the only KPI that should be looked into, it is the one our model is assessed on for this challenge. Below, we provide a summary of the accuracies obtained after 5-fold cross-validation with our different models (this summary provides the scores for the more complex models (see pdf), which might thus be different than the results obtained when the code is ran):"
   ]
  },
  {
   "cell_type": "markdown",
   "metadata": {},
   "source": [
    "|               | Accuracy |\n",
    "|---------------|----------|\n",
    "| Random Forest | 0.7898   |\n",
    "| Elastic Net   | 0.7298   |\n",
    "| KNN           | 0.7526   |\n",
    "| GBM           | 0.7668   |"
   ]
  }
 ],
 "metadata": {
  "kernelspec": {
   "display_name": "R",
   "language": "R",
   "name": "ir"
  },
  "language_info": {
   "codemirror_mode": "r",
   "file_extension": ".r",
   "mimetype": "text/x-r-source",
   "name": "R",
   "pygments_lexer": "r",
   "version": "3.6.1"
  },
  "toc": {
   "base_numbering": 1,
   "nav_menu": {},
   "number_sections": true,
   "sideBar": true,
   "skip_h1_title": false,
   "title_cell": "Table of Contents",
   "title_sidebar": "Contents",
   "toc_cell": true,
   "toc_position": {},
   "toc_section_display": true,
   "toc_window_display": false
  }
 },
 "nbformat": 4,
 "nbformat_minor": 5
}
